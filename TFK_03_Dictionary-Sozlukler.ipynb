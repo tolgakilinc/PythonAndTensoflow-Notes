{
 "cells": [
  {
   "cell_type": "markdown",
   "id": "d38c308f",
   "metadata": {},
   "source": [
    "## Dictionary - Sözlükler"
   ]
  },
  {
   "cell_type": "markdown",
   "id": "bdacff2a",
   "metadata": {},
   "source": [
    "## key-value pairing (anahtar kelime - değer eşleşmesi)"
   ]
  },
  {
   "cell_type": "code",
   "execution_count": 5,
   "id": "a22e530d",
   "metadata": {},
   "outputs": [],
   "source": [
    "benimSıralamalarım = [1,2,3]"
   ]
  },
  {
   "cell_type": "code",
   "execution_count": 6,
   "id": "bbcab417",
   "metadata": {},
   "outputs": [],
   "source": [
    "benimSayiPuanlarım = [\"çok iyi\",\"çok yakın\",\"geliştirilebilir\"]"
   ]
  },
  {
   "cell_type": "code",
   "execution_count": 8,
   "id": "ed94dd90",
   "metadata": {},
   "outputs": [
    {
     "data": {
      "text/plain": [
       "[1, 2, 3]"
      ]
     },
     "execution_count": 8,
     "metadata": {},
     "output_type": "execute_result"
    }
   ],
   "source": [
    "benimSıralamalarım"
   ]
  },
  {
   "cell_type": "code",
   "execution_count": 9,
   "id": "6eea5b57",
   "metadata": {},
   "outputs": [],
   "source": [
    "# Dictionary ile karşılıkları key value mantığı ile eşleşebilir."
   ]
  },
  {
   "cell_type": "code",
   "execution_count": 12,
   "id": "a227e865",
   "metadata": {},
   "outputs": [],
   "source": [
    "benimSıralamalarım =  { 1:\"çok iyi\", 2:\"çok yakın\",3:\"geliştirilebilir\"}"
   ]
  },
  {
   "cell_type": "code",
   "execution_count": 13,
   "id": "31b7cc14",
   "metadata": {},
   "outputs": [
    {
     "data": {
      "text/plain": [
       "{1: 'çok iyi', 2: 'çok yakın', 3: 'geliştirilebilir'}"
      ]
     },
     "execution_count": 13,
     "metadata": {},
     "output_type": "execute_result"
    }
   ],
   "source": [
    "benimSıralamalarım"
   ]
  },
  {
   "cell_type": "code",
   "execution_count": 15,
   "id": "ae6b3403",
   "metadata": {},
   "outputs": [
    {
     "data": {
      "text/plain": [
       "'çok iyi'"
      ]
     },
     "execution_count": 15,
     "metadata": {},
     "output_type": "execute_result"
    }
   ],
   "source": [
    "benimSıralamalarım[1]"
   ]
  },
  {
   "cell_type": "code",
   "execution_count": 21,
   "id": "95f85089",
   "metadata": {},
   "outputs": [],
   "source": [
    "newDictionary = { \"key1\": \"1.deger\",\"key2\":30, \"key3\":[1,2,\"tolga\",\"furkan\"],\"key4\":{\"key14\":\"test\"}}"
   ]
  },
  {
   "cell_type": "code",
   "execution_count": 24,
   "id": "20ac4aa7",
   "metadata": {},
   "outputs": [
    {
     "data": {
      "text/plain": [
       "'test'"
      ]
     },
     "execution_count": 24,
     "metadata": {},
     "output_type": "execute_result"
    }
   ],
   "source": [
    "newDictionary[\"key3\"][3]\n",
    "newDictionary[\"key4\"][\"key14\"]"
   ]
  },
  {
   "cell_type": "code",
   "execution_count": 25,
   "id": "77d4b095",
   "metadata": {},
   "outputs": [
    {
     "data": {
      "text/plain": [
       "dict"
      ]
     },
     "execution_count": 25,
     "metadata": {},
     "output_type": "execute_result"
    }
   ],
   "source": [
    "type(benimSıralamalarım)"
   ]
  },
  {
   "cell_type": "code",
   "execution_count": 26,
   "id": "9a73092c",
   "metadata": {},
   "outputs": [],
   "source": [
    "test= {1,2,3}"
   ]
  },
  {
   "cell_type": "code",
   "execution_count": 27,
   "id": "f0a6abcd",
   "metadata": {},
   "outputs": [
    {
     "data": {
      "text/plain": [
       "set"
      ]
     },
     "execution_count": 27,
     "metadata": {},
     "output_type": "execute_result"
    }
   ],
   "source": [
    "type(test)"
   ]
  },
  {
   "cell_type": "code",
   "execution_count": null,
   "id": "fff747e9",
   "metadata": {},
   "outputs": [],
   "source": []
  }
 ],
 "metadata": {
  "kernelspec": {
   "display_name": "Python 3 (ipykernel)",
   "language": "python",
   "name": "python3"
  },
  "language_info": {
   "codemirror_mode": {
    "name": "ipython",
    "version": 3
   },
   "file_extension": ".py",
   "mimetype": "text/x-python",
   "name": "python",
   "nbconvert_exporter": "python",
   "pygments_lexer": "ipython3",
   "version": "3.9.12"
  }
 },
 "nbformat": 4,
 "nbformat_minor": 5
}
