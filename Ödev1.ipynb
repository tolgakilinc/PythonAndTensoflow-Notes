{
 "cells": [
  {
   "cell_type": "code",
   "execution_count": 69,
   "id": "c458eca0",
   "metadata": {},
   "outputs": [],
   "source": [
    "class Calisan():\n",
    "    def __init__(self,tcKimlikNo_,ad_,soyad_,yas_,maas_,calismaSaati_):\n",
    "        self.tcKimlikNo = tcKimlikNo_\n",
    "        self.ad = ad_\n",
    "        self.soyad =soyad_\n",
    "        self.yas = yas_\n",
    "        self.maas = maas_\n",
    "        self.calismaSaati = calismaSaati_\n",
    "    def vergiHesapla(self):\n",
    "        if self.maas < 8000:\n",
    "            vergi = (self.maas * 12) / 100\n",
    "        else:\n",
    "            vergi = (self.maas * 18) / 100\n",
    "        return vergi\n",
    "    def sonDurumMaas(self):\n",
    "        vergiMiktari = self.vergiHesapla()\n",
    "        sonMaas = self.maas - vergiMiktari\n",
    "        return sonMaas\n",
    "        \n",
    "    def goster(self):\n",
    "        print(f\" TC Kimlik Numarası: {self.tcKimlikNo} \\n Çalışan Adı: {self.ad} \\n Çalışan Soyadı: {self.soyad} \\n Çalışan Yaşı: {self.yas} \\n Çalışan Maaşı: {self.maas} \\n Çalışan Çalışma saati: {self.calismaSaati}\")\n",
    "     \n",
    "        "
   ]
  },
  {
   "cell_type": "code",
   "execution_count": 70,
   "id": "2b3ef30b",
   "metadata": {},
   "outputs": [],
   "source": [
    "class partTimeCalisan(Calisan):\n",
    "    def __init__(self,tcKimlikNo_,ad_,soyad_,yas_,calismaSaati_,saatlikUcret_):\n",
    "        self.saatlikUcret = saatlikUcret_\n",
    "        super().__init__(tcKimlikNo_,ad_,soyad_,yas_,0, calismaSaati_)\n",
    "        \n",
    "    def sonDurumMaas(self):\n",
    "        self.maas = self.saatlikUcret * self.calismaSaati\n",
    "        ptMaas = self.maas - self.vergiHesapla()\n",
    "        return ptMaas"
   ]
  },
  {
   "cell_type": "code",
   "execution_count": 71,
   "id": "d76d4db4",
   "metadata": {},
   "outputs": [],
   "source": [
    "class fullTimeCalisan(Calisan):\n",
    "    def __init__(self,tcKimlikNo_,ad_,soyad_,yas_,maas_):\n",
    "        super().__init__(tcKimlikNo_,ad_,soyad_,yas_, maas_, 0)\n",
    "        \n",
    "    def kesintiliMaas(self):\n",
    "        sonMaas = self.sonDurumMaas() \n",
    "        sonDurum = sonMaas - sonMaas * 8 / 100\n",
    "        return sonDurum"
   ]
  },
  {
   "cell_type": "code",
   "execution_count": 72,
   "id": "d053b65c",
   "metadata": {},
   "outputs": [],
   "source": [
    "calisan1 = Calisan(\"11111111\",\"tolga\",\"furkan\",22,8500,40)\n",
    "calisan2 = Calisan(\"11111122\",\"furkan\",\"kılınç\",22,8500,40)"
   ]
  },
  {
   "cell_type": "code",
   "execution_count": 73,
   "id": "855985db",
   "metadata": {},
   "outputs": [
    {
     "data": {
      "text/plain": [
       "1530.0"
      ]
     },
     "execution_count": 73,
     "metadata": {},
     "output_type": "execute_result"
    }
   ],
   "source": [
    "calisan1.vergiHesapla()"
   ]
  },
  {
   "cell_type": "code",
   "execution_count": 74,
   "id": "0f1f79a1",
   "metadata": {},
   "outputs": [
    {
     "data": {
      "text/plain": [
       "6970.0"
      ]
     },
     "execution_count": 74,
     "metadata": {},
     "output_type": "execute_result"
    }
   ],
   "source": [
    "calisan1.sonDurumMaas()"
   ]
  },
  {
   "cell_type": "code",
   "execution_count": 75,
   "id": "087e9250",
   "metadata": {
    "scrolled": false
   },
   "outputs": [
    {
     "name": "stdout",
     "output_type": "stream",
     "text": [
      " TC Kimlik Numarası: 11111111 \n",
      " Çalışan Adı: tolga \n",
      " Çalışan Soyadı: furkan \n",
      " Çalışan Yaşı: 22 \n",
      " Çalışan Maaşı: 8500 \n",
      " Çalışan Çalışma saati: 40\n"
     ]
    }
   ],
   "source": [
    "calisan1.goster()"
   ]
  },
  {
   "cell_type": "code",
   "execution_count": 76,
   "id": "15171576",
   "metadata": {},
   "outputs": [
    {
     "data": {
      "text/plain": [
       "6970.0"
      ]
     },
     "execution_count": 76,
     "metadata": {},
     "output_type": "execute_result"
    }
   ],
   "source": [
    "calisan1.sonDurumMaas()"
   ]
  },
  {
   "cell_type": "code",
   "execution_count": 77,
   "id": "825b94c9",
   "metadata": {},
   "outputs": [],
   "source": [
    "pt1 = partTimeCalisan(\"2222525252\",\"furkan\",\"kılınç\",22,40,75)\n",
    "pt2 = partTimeCalisan(\"2222525252\",\"furkan\",\"kılınç\",22,40,75)"
   ]
  },
  {
   "cell_type": "code",
   "execution_count": 78,
   "id": "67980a6d",
   "metadata": {},
   "outputs": [
    {
     "data": {
      "text/plain": [
       "2640.0"
      ]
     },
     "execution_count": 78,
     "metadata": {},
     "output_type": "execute_result"
    }
   ],
   "source": [
    "pt1.sonDurumMaas()"
   ]
  },
  {
   "cell_type": "code",
   "execution_count": 79,
   "id": "994065f6",
   "metadata": {},
   "outputs": [],
   "source": [
    "ft1 = fullTimeCalisan(\"22524054470\",\"arda\",\"kılınç\",22, 7500)"
   ]
  },
  {
   "cell_type": "code",
   "execution_count": 80,
   "id": "1275fa12",
   "metadata": {},
   "outputs": [
    {
     "name": "stdout",
     "output_type": "stream",
     "text": [
      "6072.0\n"
     ]
    }
   ],
   "source": [
    "print(ft1.kesintiliMaas())"
   ]
  }
 ],
 "metadata": {
  "kernelspec": {
   "display_name": "Python 3 (ipykernel)",
   "language": "python",
   "name": "python3"
  },
  "language_info": {
   "codemirror_mode": {
    "name": "ipython",
    "version": 3
   },
   "file_extension": ".py",
   "mimetype": "text/x-python",
   "name": "python",
   "nbconvert_exporter": "python",
   "pygments_lexer": "ipython3",
   "version": "3.9.12"
  }
 },
 "nbformat": 4,
 "nbformat_minor": 5
}
