{
 "cells": [
  {
   "cell_type": "code",
   "execution_count": 1,
   "id": "884723f1",
   "metadata": {},
   "outputs": [],
   "source": [
    "ismim = \"tolga furkan kılınç\""
   ]
  },
  {
   "cell_type": "code",
   "execution_count": 2,
   "id": "99e646d3",
   "metadata": {},
   "outputs": [
    {
     "data": {
      "text/plain": [
       "'TOLGA FURKAN KILINÇ'"
      ]
     },
     "execution_count": 2,
     "metadata": {},
     "output_type": "execute_result"
    }
   ],
   "source": [
    "ismim.upper()"
   ]
  },
  {
   "cell_type": "code",
   "execution_count": 3,
   "id": "143793f1",
   "metadata": {},
   "outputs": [],
   "source": [
    "buyuk_ismim = ismim.upper"
   ]
  },
  {
   "cell_type": "code",
   "execution_count": 4,
   "id": "59d9c190",
   "metadata": {},
   "outputs": [
    {
     "data": {
      "text/plain": [
       "<function str.upper()>"
      ]
     },
     "execution_count": 4,
     "metadata": {},
     "output_type": "execute_result"
    }
   ],
   "source": [
    "buyuk_ismim"
   ]
  },
  {
   "cell_type": "code",
   "execution_count": 5,
   "id": "2764245a",
   "metadata": {},
   "outputs": [],
   "source": [
    "def ilkFonsiyon():\n",
    "    print(\"ilk fonksiyonum\")"
   ]
  },
  {
   "cell_type": "code",
   "execution_count": 6,
   "id": "64ff6711",
   "metadata": {},
   "outputs": [
    {
     "name": "stdout",
     "output_type": "stream",
     "text": [
      "ilk fonksiyonum\n"
     ]
    }
   ],
   "source": [
    "ilkFonsiyon()"
   ]
  },
  {
   "cell_type": "markdown",
   "id": "f131cf91",
   "metadata": {},
   "source": [
    "## input & return"
   ]
  },
  {
   "cell_type": "code",
   "execution_count": 7,
   "id": "2cfda0ef",
   "metadata": {},
   "outputs": [],
   "source": [
    " def inputFonk(a):\n",
    "        print(\"hi guys!\")\n",
    "        print(a)"
   ]
  },
  {
   "cell_type": "code",
   "execution_count": 8,
   "id": "79851488",
   "metadata": {},
   "outputs": [
    {
     "name": "stdout",
     "output_type": "stream",
     "text": [
      "hi guys!\n",
      "sa\n"
     ]
    }
   ],
   "source": [
    "inputFonk(\"sa\")"
   ]
  },
  {
   "cell_type": "code",
   "execution_count": 9,
   "id": "084c4af5",
   "metadata": {},
   "outputs": [],
   "source": [
    "def hi(isim=\"tolga\"):\n",
    "    print(\"Hoşgeldin\")\n",
    "    print(isim)"
   ]
  },
  {
   "cell_type": "code",
   "execution_count": 10,
   "id": "2ac15d8e",
   "metadata": {},
   "outputs": [
    {
     "name": "stdout",
     "output_type": "stream",
     "text": [
      "Hoşgeldin\n",
      "tolga\n"
     ]
    }
   ],
   "source": [
    "hi()"
   ]
  },
  {
   "cell_type": "code",
   "execution_count": 11,
   "id": "d2187004",
   "metadata": {},
   "outputs": [
    {
     "name": "stdout",
     "output_type": "stream",
     "text": [
      "Hoşgeldin\n",
      "furkan\n"
     ]
    }
   ],
   "source": [
    "hi(\"furkan\")"
   ]
  },
  {
   "cell_type": "code",
   "execution_count": 12,
   "id": "47ce984d",
   "metadata": {},
   "outputs": [],
   "source": [
    "def toplama(x,y):\n",
    "    sonuc = x + y\n",
    "    print(sonuc)"
   ]
  },
  {
   "cell_type": "code",
   "execution_count": 13,
   "id": "b2193592",
   "metadata": {},
   "outputs": [
    {
     "name": "stdout",
     "output_type": "stream",
     "text": [
      "3\n"
     ]
    }
   ],
   "source": [
    "toplama(1,2)"
   ]
  },
  {
   "cell_type": "code",
   "execution_count": 14,
   "id": "29667c68",
   "metadata": {},
   "outputs": [],
   "source": [
    "def dondurmeliToplama (num1,num2):\n",
    "    return num1 + num2"
   ]
  },
  {
   "cell_type": "code",
   "execution_count": 15,
   "id": "075e1cde",
   "metadata": {},
   "outputs": [],
   "source": [
    "yeniSonuc = dondurmeliToplama(10,20)"
   ]
  },
  {
   "cell_type": "code",
   "execution_count": 16,
   "id": "b1cd2993",
   "metadata": {},
   "outputs": [
    {
     "data": {
      "text/plain": [
       "30"
      ]
     },
     "execution_count": 16,
     "metadata": {},
     "output_type": "execute_result"
    }
   ],
   "source": [
    "yeniSonuc"
   ]
  },
  {
   "cell_type": "code",
   "execution_count": 17,
   "id": "69e0a422",
   "metadata": {},
   "outputs": [
    {
     "data": {
      "text/plain": [
       "int"
      ]
     },
     "execution_count": 17,
     "metadata": {},
     "output_type": "execute_result"
    }
   ],
   "source": [
    "type(yeniSonuc)"
   ]
  },
  {
   "cell_type": "markdown",
   "id": "13718f0a",
   "metadata": {},
   "source": [
    "## args & kwargs"
   ]
  },
  {
   "cell_type": "code",
   "execution_count": 18,
   "id": "9d63a12f",
   "metadata": {},
   "outputs": [],
   "source": [
    "def ilkFonksiyon(*args):\n",
    "    return sum(args)"
   ]
  },
  {
   "cell_type": "code",
   "execution_count": 19,
   "id": "560c940f",
   "metadata": {},
   "outputs": [
    {
     "data": {
      "text/plain": [
       "30"
      ]
     },
     "execution_count": 19,
     "metadata": {},
     "output_type": "execute_result"
    }
   ],
   "source": [
    "ilkFonksiyon(10,20)"
   ]
  },
  {
   "cell_type": "code",
   "execution_count": 20,
   "id": "5c0082a8",
   "metadata": {},
   "outputs": [],
   "source": [
    "def secoFonksiyon(*args):\n",
    "    return(args)"
   ]
  },
  {
   "cell_type": "code",
   "execution_count": 21,
   "id": "6013dc97",
   "metadata": {},
   "outputs": [
    {
     "data": {
      "text/plain": [
       "(1, 2, 4)"
      ]
     },
     "execution_count": 21,
     "metadata": {},
     "output_type": "execute_result"
    }
   ],
   "source": [
    "secoFonksiyon(1,2,4)"
   ]
  },
  {
   "cell_type": "code",
   "execution_count": 22,
   "id": "234a1581",
   "metadata": {},
   "outputs": [],
   "source": [
    "def triFonksiyon(**kwargs):\n",
    "    return(kwargs)"
   ]
  },
  {
   "cell_type": "code",
   "execution_count": 23,
   "id": "e9db6870",
   "metadata": {},
   "outputs": [
    {
     "data": {
      "text/plain": [
       "function"
      ]
     },
     "execution_count": 23,
     "metadata": {},
     "output_type": "execute_result"
    }
   ],
   "source": [
    "triFonksiyon( bir = \"key\" ,  key2 = 2)\n",
    "type(triFonksiyon)"
   ]
  },
  {
   "cell_type": "code",
   "execution_count": 24,
   "id": "f29a982b",
   "metadata": {},
   "outputs": [],
   "source": [
    "def isimKontrol(**kwargs):\n",
    "    if \"tolga\" in kwargs:\n",
    "        print(\"tolga ismi mevcut\")\n",
    "    else:\n",
    "        print(\"malesef tolga ismi mevcut değil.\")"
   ]
  },
  {
   "cell_type": "code",
   "execution_count": 25,
   "id": "a4c809b8",
   "metadata": {},
   "outputs": [
    {
     "name": "stdout",
     "output_type": "stream",
     "text": [
      "tolga ismi mevcut\n"
     ]
    }
   ],
   "source": [
    "isimKontrol(tolga = 10,furkan = 20)"
   ]
  },
  {
   "cell_type": "code",
   "execution_count": 40,
   "id": "a8c6919c",
   "metadata": {},
   "outputs": [],
   "source": [
    "def kaloriEkle(**kwargs):\n",
    "    if \"elma\" in kwargs:\n",
    "        print(kwargs)\n",
    "    else:\n",
    "        print(\"300 kaloride bir besin bulunamadı.\")\n",
    "        "
   ]
  },
  {
   "cell_type": "code",
   "execution_count": 41,
   "id": "5be47c71",
   "metadata": {},
   "outputs": [],
   "source": [
    "## kaloriEkle(elma = 150 , armut = 200, karpuz = 175)"
   ]
  },
  {
   "cell_type": "code",
   "execution_count": 42,
   "id": "8b46e7ca",
   "metadata": {},
   "outputs": [
    {
     "name": "stdout",
     "output_type": "stream",
     "text": [
      "Bir besin giriniz.elma\n",
      "Bir besin değeri giriniz : elma\n"
     ]
    }
   ],
   "source": [
    "besin = input(\"Bir besin giriniz.\")\n",
    "besinDegeri = input(\"Bir besin değeri giriniz : \")"
   ]
  },
  {
   "cell_type": "code",
   "execution_count": 43,
   "id": "59f5e40e",
   "metadata": {},
   "outputs": [
    {
     "name": "stdout",
     "output_type": "stream",
     "text": [
      "{'elma': 'elma'}\n"
     ]
    }
   ],
   "source": [
    "kaloriEkle(elma = besinDegeri)"
   ]
  },
  {
   "cell_type": "code",
   "execution_count": 30,
   "id": "9ed766c1",
   "metadata": {},
   "outputs": [
    {
     "name": "stdout",
     "output_type": "stream",
     "text": [
      "300 kaloride bir besin bulunamadı.\n"
     ]
    }
   ],
   "source": [
    "kaloriEkle()"
   ]
  },
  {
   "cell_type": "code",
   "execution_count": 44,
   "id": "a84f4a91",
   "metadata": {},
   "outputs": [],
   "source": [
    "def keyKontrol(**kwargs):\n",
    "    if \"ismail\" in kwargs:\n",
    "        print(\"tolga mevcut\")\n",
    "    else:\n",
    "        print(\"tolga malesef mevcut değil\")"
   ]
  },
  {
   "cell_type": "code",
   "execution_count": 45,
   "id": "3e57d1f1",
   "metadata": {},
   "outputs": [
    {
     "name": "stdout",
     "output_type": "stream",
     "text": [
      "tolga malesef mevcut değil\n"
     ]
    }
   ],
   "source": [
    "keyKontrol(tolga = 30, furkan = 40, kılınç = 50)"
   ]
  },
  {
   "cell_type": "code",
   "execution_count": 46,
   "id": "70541eca",
   "metadata": {},
   "outputs": [
    {
     "data": {
      "text/plain": [
       "str"
      ]
     },
     "execution_count": 46,
     "metadata": {},
     "output_type": "execute_result"
    }
   ],
   "source": [
    "type(besinDegeri)"
   ]
  },
  {
   "cell_type": "code",
   "execution_count": 47,
   "id": "2b6f1c6e",
   "metadata": {},
   "outputs": [
    {
     "name": "stdout",
     "output_type": "stream",
     "text": [
      "tolga ismi mevcut\n"
     ]
    }
   ],
   "source": [
    "isimKontrol(tolga = 3)"
   ]
  },
  {
   "cell_type": "code",
   "execution_count": 48,
   "id": "94cd17eb",
   "metadata": {},
   "outputs": [
    {
     "data": {
      "text/plain": [
       "'elma'"
      ]
     },
     "execution_count": 48,
     "metadata": {},
     "output_type": "execute_result"
    }
   ],
   "source": [
    "besin"
   ]
  },
  {
   "cell_type": "code",
   "execution_count": 49,
   "id": "e61db33b",
   "metadata": {},
   "outputs": [
    {
     "data": {
      "text/plain": [
       "'elma'"
      ]
     },
     "execution_count": 49,
     "metadata": {},
     "output_type": "execute_result"
    }
   ],
   "source": [
    "besinDegeri"
   ]
  },
  {
   "cell_type": "code",
   "execution_count": null,
   "id": "565c8fc0",
   "metadata": {},
   "outputs": [],
   "source": []
  }
 ],
 "metadata": {
  "kernelspec": {
   "display_name": "Python 3 (ipykernel)",
   "language": "python",
   "name": "python3"
  },
  "language_info": {
   "codemirror_mode": {
    "name": "ipython",
    "version": 3
   },
   "file_extension": ".py",
   "mimetype": "text/x-python",
   "name": "python",
   "nbconvert_exporter": "python",
   "pygments_lexer": "ipython3",
   "version": "3.9.12"
  }
 },
 "nbformat": 4,
 "nbformat_minor": 5
}
