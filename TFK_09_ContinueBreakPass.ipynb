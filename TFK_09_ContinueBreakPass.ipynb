{
 "cells": [
  {
   "cell_type": "code",
   "execution_count": 2,
   "id": "7848c33d",
   "metadata": {},
   "outputs": [],
   "source": [
    "ilkListe = [1,3,4,5,6,7]"
   ]
  },
  {
   "cell_type": "code",
   "execution_count": 3,
   "id": "ea0bed06",
   "metadata": {},
   "outputs": [
    {
     "name": "stdout",
     "output_type": "stream",
     "text": [
      "0.2\n",
      "0.6\n",
      "0.8\n",
      "1.0\n",
      "1.2\n",
      "1.4\n"
     ]
    }
   ],
   "source": [
    "for numara in ilkListe:\n",
    "    print(numara/ 5)"
   ]
  },
  {
   "cell_type": "code",
   "execution_count": 7,
   "id": "75fd9d7b",
   "metadata": {},
   "outputs": [
    {
     "name": "stdout",
     "output_type": "stream",
     "text": [
      "1\n",
      "3\n"
     ]
    }
   ],
   "source": [
    "for numara in ilkListe:\n",
    "    if numara == 4:\n",
    "        break\n",
    "    print(numara)"
   ]
  },
  {
   "cell_type": "code",
   "execution_count": 8,
   "id": "24c6aa8b",
   "metadata": {},
   "outputs": [
    {
     "name": "stdout",
     "output_type": "stream",
     "text": [
      "1\n",
      "3\n",
      "5\n",
      "6\n",
      "7\n"
     ]
    }
   ],
   "source": [
    "for numara in ilkListe:\n",
    "    if numara == 4:\n",
    "        continue\n",
    "    print(numara)"
   ]
  },
  {
   "cell_type": "code",
   "execution_count": 9,
   "id": "283b290d",
   "metadata": {},
   "outputs": [],
   "source": [
    "for numara in ilkListe:\n",
    "    pass"
   ]
  },
  {
   "cell_type": "code",
   "execution_count": null,
   "id": "b2e30bc6",
   "metadata": {},
   "outputs": [],
   "source": []
  }
 ],
 "metadata": {
  "kernelspec": {
   "display_name": "Python 3 (ipykernel)",
   "language": "python",
   "name": "python3"
  },
  "language_info": {
   "codemirror_mode": {
    "name": "ipython",
    "version": 3
   },
   "file_extension": ".py",
   "mimetype": "text/x-python",
   "name": "python",
   "nbconvert_exporter": "python",
   "pygments_lexer": "ipython3",
   "version": "3.9.12"
  }
 },
 "nbformat": 4,
 "nbformat_minor": 5
}
