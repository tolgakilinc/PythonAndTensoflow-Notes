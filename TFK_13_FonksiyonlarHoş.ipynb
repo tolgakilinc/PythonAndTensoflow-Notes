{
 "cells": [
  {
   "cell_type": "code",
   "execution_count": 18,
   "id": "07c148f3",
   "metadata": {},
   "outputs": [],
   "source": [
    "def bolmeIslemi(sayi):\n",
    "    return sayi / 2"
   ]
  },
  {
   "cell_type": "code",
   "execution_count": 19,
   "id": "f771a98c",
   "metadata": {},
   "outputs": [
    {
     "data": {
      "text/plain": [
       "5.0"
      ]
     },
     "execution_count": 19,
     "metadata": {},
     "output_type": "execute_result"
    }
   ],
   "source": [
    "bolmeIslemi(10)"
   ]
  },
  {
   "cell_type": "code",
   "execution_count": 20,
   "id": "d2500272",
   "metadata": {},
   "outputs": [],
   "source": [
    "ilkListe = [1,2,3,4,5]"
   ]
  },
  {
   "cell_type": "code",
   "execution_count": 21,
   "id": "463c12e2",
   "metadata": {},
   "outputs": [],
   "source": [
    "yeniListe = []\n",
    "for cirak in ilkListe:\n",
    "    yeniListe.append(bolmeIslemi(cirak))"
   ]
  },
  {
   "cell_type": "code",
   "execution_count": 22,
   "id": "1bf3d658",
   "metadata": {},
   "outputs": [
    {
     "data": {
      "text/plain": [
       "[0.5, 1.0, 1.5, 2.0, 2.5]"
      ]
     },
     "execution_count": 22,
     "metadata": {},
     "output_type": "execute_result"
    }
   ],
   "source": [
    "yeniListe"
   ]
  },
  {
   "cell_type": "markdown",
   "id": "f2165edc",
   "metadata": {},
   "source": [
    "## map"
   ]
  },
  {
   "cell_type": "code",
   "execution_count": 25,
   "id": "22430a3b",
   "metadata": {},
   "outputs": [],
   "source": [
    "ilkListe = list(map(bolmeIslemi,ilkListe))"
   ]
  },
  {
   "cell_type": "code",
   "execution_count": 26,
   "id": "34045077",
   "metadata": {},
   "outputs": [
    {
     "data": {
      "text/plain": [
       "[0.5, 1.0, 1.5, 2.0, 2.5]"
      ]
     },
     "execution_count": 26,
     "metadata": {},
     "output_type": "execute_result"
    }
   ],
   "source": [
    "ilkListe"
   ]
  },
  {
   "cell_type": "code",
   "execution_count": 27,
   "id": "f46e00b1",
   "metadata": {},
   "outputs": [],
   "source": [
    "def harfKontrol(string):\n",
    "    return \"a\" in string"
   ]
  },
  {
   "cell_type": "code",
   "execution_count": 28,
   "id": "6027d972",
   "metadata": {},
   "outputs": [
    {
     "data": {
      "text/plain": [
       "True"
      ]
     },
     "execution_count": 28,
     "metadata": {},
     "output_type": "execute_result"
    }
   ],
   "source": [
    "harfKontrol(\"tolga\")"
   ]
  },
  {
   "cell_type": "code",
   "execution_count": 29,
   "id": "20edcc24",
   "metadata": {},
   "outputs": [
    {
     "data": {
      "text/plain": [
       "True"
      ]
     },
     "execution_count": 29,
     "metadata": {},
     "output_type": "execute_result"
    }
   ],
   "source": [
    "harfKontrol(\"a\")"
   ]
  },
  {
   "cell_type": "code",
   "execution_count": 45,
   "id": "9eef0786",
   "metadata": {},
   "outputs": [
    {
     "data": {
      "text/plain": [
       "False"
      ]
     },
     "execution_count": 45,
     "metadata": {},
     "output_type": "execute_result"
    }
   ],
   "source": [
    "harfKontrol(\"b\")"
   ]
  },
  {
   "cell_type": "code",
   "execution_count": 52,
   "id": "ab3718da",
   "metadata": {},
   "outputs": [],
   "source": [
    "stringListesi = [\"tolga\", \"furkan\",\"kılınç\"]"
   ]
  },
  {
   "cell_type": "code",
   "execution_count": 64,
   "id": "adf8e61d",
   "metadata": {},
   "outputs": [],
   "source": [
    "deneme = list(map(harfKontrol,stringListesi))"
   ]
  },
  {
   "cell_type": "code",
   "execution_count": 65,
   "id": "b0bb540c",
   "metadata": {
    "scrolled": true
   },
   "outputs": [
    {
     "data": {
      "text/plain": [
       "[True, True, False]"
      ]
     },
     "execution_count": 65,
     "metadata": {},
     "output_type": "execute_result"
    }
   ],
   "source": [
    "deneme"
   ]
  },
  {
   "cell_type": "code",
   "execution_count": 66,
   "id": "72e861dd",
   "metadata": {},
   "outputs": [
    {
     "data": {
      "text/plain": [
       "[True, True, False]"
      ]
     },
     "execution_count": 66,
     "metadata": {},
     "output_type": "execute_result"
    }
   ],
   "source": [
    "deneme"
   ]
  },
  {
   "cell_type": "code",
   "execution_count": 67,
   "id": "242461fb",
   "metadata": {},
   "outputs": [
    {
     "data": {
      "text/plain": [
       "[True, True, False]"
      ]
     },
     "execution_count": 67,
     "metadata": {},
     "output_type": "execute_result"
    }
   ],
   "source": [
    "deneme"
   ]
  },
  {
   "cell_type": "markdown",
   "id": "613e54fe",
   "metadata": {},
   "source": [
    "## filter"
   ]
  },
  {
   "cell_type": "code",
   "execution_count": 70,
   "id": "b32b6316",
   "metadata": {},
   "outputs": [
    {
     "data": {
      "text/plain": [
       "['tolga', 'furkan']"
      ]
     },
     "execution_count": 70,
     "metadata": {},
     "output_type": "execute_result"
    }
   ],
   "source": [
    "list(filter(harfKontrol,stringListesi))"
   ]
  },
  {
   "cell_type": "markdown",
   "id": "8fde7ceb",
   "metadata": {},
   "source": [
    "# lambda"
   ]
  },
  {
   "cell_type": "code",
   "execution_count": 71,
   "id": "3315e699",
   "metadata": {},
   "outputs": [],
   "source": [
    "carpma = lambda numara : numara * 3"
   ]
  },
  {
   "cell_type": "code",
   "execution_count": 72,
   "id": "d2b9bfd4",
   "metadata": {},
   "outputs": [
    {
     "data": {
      "text/plain": [
       "57"
      ]
     },
     "execution_count": 72,
     "metadata": {},
     "output_type": "execute_result"
    }
   ],
   "source": [
    "carpma(19)"
   ]
  },
  {
   "cell_type": "code",
   "execution_count": 74,
   "id": "1c690360",
   "metadata": {},
   "outputs": [
    {
     "data": {
      "text/plain": [
       "[2.0, 4.0, 6.0, 8.0, 10.0]"
      ]
     },
     "execution_count": 74,
     "metadata": {},
     "output_type": "execute_result"
    }
   ],
   "source": [
    "list(map(lambda numara : numara *4,ilkListe))"
   ]
  },
  {
   "cell_type": "code",
   "execution_count": 75,
   "id": "fc341420",
   "metadata": {},
   "outputs": [
    {
     "data": {
      "text/plain": [
       "[0.5, 1.0, 1.5, 2.0, 2.5]"
      ]
     },
     "execution_count": 75,
     "metadata": {},
     "output_type": "execute_result"
    }
   ],
   "source": [
    "ilkListe"
   ]
  },
  {
   "cell_type": "code",
   "execution_count": null,
   "id": "b66877c2",
   "metadata": {},
   "outputs": [],
   "source": []
  }
 ],
 "metadata": {
  "kernelspec": {
   "display_name": "Python 3 (ipykernel)",
   "language": "python",
   "name": "python3"
  },
  "language_info": {
   "codemirror_mode": {
    "name": "ipython",
    "version": 3
   },
   "file_extension": ".py",
   "mimetype": "text/x-python",
   "name": "python",
   "nbconvert_exporter": "python",
   "pygments_lexer": "ipython3",
   "version": "3.9.12"
  }
 },
 "nbformat": 4,
 "nbformat_minor": 5
}
