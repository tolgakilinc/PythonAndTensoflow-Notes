{
 "cells": [
  {
   "cell_type": "code",
   "execution_count": 32,
   "id": "46d1fcd4",
   "metadata": {},
   "outputs": [
    {
     "name": "stdout",
     "output_type": "stream",
     "text": [
      "25\n"
     ]
    }
   ],
   "source": [
    "print(5*5)"
   ]
  },
  {
   "cell_type": "code",
   "execution_count": null,
   "id": "e5489cee",
   "metadata": {},
   "outputs": [],
   "source": []
  },
  {
   "cell_type": "code",
   "execution_count": 33,
   "id": "ed123629",
   "metadata": {},
   "outputs": [
    {
     "data": {
      "text/plain": [
       "20"
      ]
     },
     "execution_count": 33,
     "metadata": {},
     "output_type": "execute_result"
    }
   ],
   "source": [
    "5*4"
   ]
  },
  {
   "cell_type": "markdown",
   "id": "7bac56b0",
   "metadata": {},
   "source": [
    "# Phthon Giriş"
   ]
  },
  {
   "cell_type": "markdown",
   "id": "0658f969",
   "metadata": {},
   "source": [
    "## Variable(Değişkenler)"
   ]
  },
  {
   "cell_type": "code",
   "execution_count": 34,
   "id": "30b4ea3f",
   "metadata": {},
   "outputs": [],
   "source": [
    "x = 5"
   ]
  },
  {
   "cell_type": "code",
   "execution_count": 35,
   "id": "b288a281",
   "metadata": {},
   "outputs": [],
   "source": [
    "y = 4"
   ]
  },
  {
   "cell_type": "code",
   "execution_count": 36,
   "id": "5dddf4f8",
   "metadata": {},
   "outputs": [
    {
     "data": {
      "text/plain": [
       "9"
      ]
     },
     "execution_count": 36,
     "metadata": {},
     "output_type": "execute_result"
    }
   ],
   "source": [
    "x + y"
   ]
  },
  {
   "cell_type": "code",
   "execution_count": 37,
   "id": "362271aa",
   "metadata": {},
   "outputs": [
    {
     "data": {
      "text/plain": [
       "5"
      ]
     },
     "execution_count": 37,
     "metadata": {},
     "output_type": "execute_result"
    }
   ],
   "source": [
    "x"
   ]
  },
  {
   "cell_type": "code",
   "execution_count": 38,
   "id": "2b0b400e",
   "metadata": {},
   "outputs": [
    {
     "data": {
      "text/plain": [
       "11"
      ]
     },
     "execution_count": 38,
     "metadata": {},
     "output_type": "execute_result"
    }
   ],
   "source": [
    "(x + y)^2"
   ]
  },
  {
   "cell_type": "code",
   "execution_count": 39,
   "id": "980be402",
   "metadata": {},
   "outputs": [],
   "source": [
    "x = 5"
   ]
  },
  {
   "cell_type": "code",
   "execution_count": 40,
   "id": "284f3521",
   "metadata": {},
   "outputs": [],
   "source": [
    "x = 6"
   ]
  },
  {
   "cell_type": "code",
   "execution_count": 41,
   "id": "6ac02379",
   "metadata": {},
   "outputs": [
    {
     "data": {
      "text/plain": [
       "24"
      ]
     },
     "execution_count": 41,
     "metadata": {},
     "output_type": "execute_result"
    }
   ],
   "source": [
    "x * y"
   ]
  },
  {
   "cell_type": "markdown",
   "id": "dbb9e093",
   "metadata": {},
   "source": [
    "## Integer & Float"
   ]
  },
  {
   "cell_type": "code",
   "execution_count": 75,
   "id": "1c477dad",
   "metadata": {},
   "outputs": [],
   "source": [
    "deger1 = 12\n",
    "deger2 = 3"
   ]
  },
  {
   "cell_type": "code",
   "execution_count": 50,
   "id": "783acb6a",
   "metadata": {},
   "outputs": [],
   "source": [
    "sonuc1= deger1 * deger2"
   ]
  },
  {
   "cell_type": "code",
   "execution_count": 56,
   "id": "f4888f9d",
   "metadata": {},
   "outputs": [
    {
     "data": {
      "text/plain": [
       "int"
      ]
     },
     "execution_count": 56,
     "metadata": {},
     "output_type": "execute_result"
    }
   ],
   "source": [
    "type(sonuc1)"
   ]
  },
  {
   "cell_type": "code",
   "execution_count": 57,
   "id": "4752363f",
   "metadata": {},
   "outputs": [],
   "source": [
    "deger3 = 3.1"
   ]
  },
  {
   "cell_type": "code",
   "execution_count": 58,
   "id": "9e22913c",
   "metadata": {},
   "outputs": [],
   "source": [
    "sonuc2 = sonuc1 + deger3"
   ]
  },
  {
   "cell_type": "code",
   "execution_count": 59,
   "id": "33025b16",
   "metadata": {},
   "outputs": [
    {
     "data": {
      "text/plain": [
       "39.1"
      ]
     },
     "execution_count": 59,
     "metadata": {},
     "output_type": "execute_result"
    }
   ],
   "source": [
    "sonuc2"
   ]
  },
  {
   "cell_type": "code",
   "execution_count": 61,
   "id": "ab9e4458",
   "metadata": {},
   "outputs": [
    {
     "data": {
      "text/plain": [
       "int"
      ]
     },
     "execution_count": 61,
     "metadata": {},
     "output_type": "execute_result"
    }
   ],
   "source": [
    "type(sonuc1)"
   ]
  },
  {
   "cell_type": "code",
   "execution_count": 62,
   "id": "831a8562",
   "metadata": {},
   "outputs": [
    {
     "data": {
      "text/plain": [
       "float"
      ]
     },
     "execution_count": 62,
     "metadata": {},
     "output_type": "execute_result"
    }
   ],
   "source": [
    "type(sonuc2)"
   ]
  },
  {
   "cell_type": "code",
   "execution_count": 64,
   "id": "f64f257c",
   "metadata": {},
   "outputs": [
    {
     "data": {
      "text/plain": [
       "1407.6000000000001"
      ]
     },
     "execution_count": 64,
     "metadata": {},
     "output_type": "execute_result"
    }
   ],
   "source": [
    "sonuc2 * sonuc1"
   ]
  },
  {
   "cell_type": "code",
   "execution_count": 65,
   "id": "a775c70d",
   "metadata": {},
   "outputs": [
    {
     "data": {
      "text/plain": [
       "float"
      ]
     },
     "execution_count": 65,
     "metadata": {},
     "output_type": "execute_result"
    }
   ],
   "source": [
    "type(sonuc2 * sonuc1)"
   ]
  },
  {
   "cell_type": "code",
   "execution_count": 68,
   "id": "e6e69919",
   "metadata": {},
   "outputs": [
    {
     "name": "stdout",
     "output_type": "stream",
     "text": [
      "Yapılan işlem sonucu\n"
     ]
    },
    {
     "data": {
      "text/plain": [
       "39.1"
      ]
     },
     "execution_count": 68,
     "metadata": {},
     "output_type": "execute_result"
    }
   ],
   "source": [
    "print(\"Yapılan işlem sonucu\")\n",
    "sonuc2"
   ]
  },
  {
   "cell_type": "code",
   "execution_count": 71,
   "id": "6e33b77e",
   "metadata": {},
   "outputs": [],
   "source": [
    "pi = 3.14"
   ]
  },
  {
   "cell_type": "code",
   "execution_count": 72,
   "id": "f9baf5eb",
   "metadata": {},
   "outputs": [
    {
     "data": {
      "text/plain": [
       "42.24"
      ]
     },
     "execution_count": 72,
     "metadata": {},
     "output_type": "execute_result"
    }
   ],
   "source": [
    "pi + sonuc2"
   ]
  },
  {
   "cell_type": "code",
   "execution_count": 73,
   "id": "fbd27235",
   "metadata": {},
   "outputs": [],
   "source": [
    "deger2 = sonuc2"
   ]
  },
  {
   "cell_type": "code",
   "execution_count": 78,
   "id": "4d6c562e",
   "metadata": {},
   "outputs": [
    {
     "data": {
      "text/plain": [
       "81"
      ]
     },
     "execution_count": 78,
     "metadata": {},
     "output_type": "execute_result"
    }
   ],
   "source": [
    "x = 3\n",
    "x ** 4"
   ]
  },
  {
   "cell_type": "code",
   "execution_count": 79,
   "id": "71229037",
   "metadata": {},
   "outputs": [
    {
     "data": {
      "text/plain": [
       "0"
      ]
     },
     "execution_count": 79,
     "metadata": {},
     "output_type": "execute_result"
    }
   ],
   "source": [
    "10 % 2 "
   ]
  },
  {
   "cell_type": "code",
   "execution_count": 80,
   "id": "b0203eb6",
   "metadata": {},
   "outputs": [
    {
     "name": "stdout",
     "output_type": "stream",
     "text": [
      "Lütfen yaşınızı giriniz : 31\n"
     ]
    }
   ],
   "source": [
    "kullanicininYasi = input(\"Lütfen yaşınızı giriniz : \")"
   ]
  },
  {
   "cell_type": "code",
   "execution_count": 81,
   "id": "ed992e2f",
   "metadata": {},
   "outputs": [
    {
     "data": {
      "text/plain": [
       "str"
      ]
     },
     "execution_count": 81,
     "metadata": {},
     "output_type": "execute_result"
    }
   ],
   "source": [
    "type(kullanicininYasi)"
   ]
  },
  {
   "cell_type": "code",
   "execution_count": 82,
   "id": "46a1080a",
   "metadata": {},
   "outputs": [
    {
     "data": {
      "text/plain": [
       "'31'"
      ]
     },
     "execution_count": 82,
     "metadata": {},
     "output_type": "execute_result"
    }
   ],
   "source": [
    "kullanicininYasi"
   ]
  },
  {
   "cell_type": "code",
   "execution_count": 84,
   "id": "ea531135",
   "metadata": {},
   "outputs": [
    {
     "name": "stdout",
     "output_type": "stream",
     "text": [
      "31\n"
     ]
    }
   ],
   "source": [
    "print(kullanicininYasi)"
   ]
  },
  {
   "cell_type": "code",
   "execution_count": 90,
   "id": "b798f118",
   "metadata": {},
   "outputs": [
    {
     "data": {
      "text/plain": [
       "'Yaşınız : 31'"
      ]
     },
     "execution_count": 90,
     "metadata": {},
     "output_type": "execute_result"
    }
   ],
   "source": [
    "\"Yaşınız : \" + kullanicininYasi  "
   ]
  },
  {
   "cell_type": "code",
   "execution_count": 92,
   "id": "69f24cd7",
   "metadata": {},
   "outputs": [
    {
     "name": "stdout",
     "output_type": "stream",
     "text": [
      "4\n"
     ]
    }
   ],
   "source": [
    "print(4)"
   ]
  },
  {
   "cell_type": "code",
   "execution_count": 94,
   "id": "eec4c873",
   "metadata": {},
   "outputs": [
    {
     "name": "stdout",
     "output_type": "stream",
     "text": [
      "12.4\n"
     ]
    }
   ],
   "source": [
    "yas = input()"
   ]
  },
  {
   "cell_type": "code",
   "execution_count": 96,
   "id": "b64562bd",
   "metadata": {},
   "outputs": [
    {
     "data": {
      "text/plain": [
       "str"
      ]
     },
     "execution_count": 96,
     "metadata": {},
     "output_type": "execute_result"
    }
   ],
   "source": [
    "type(yas)"
   ]
  },
  {
   "cell_type": "markdown",
   "id": "9f9b1601",
   "metadata": {},
   "source": [
    "## String"
   ]
  },
  {
   "cell_type": "code",
   "execution_count": 99,
   "id": "1ca70ac7",
   "metadata": {},
   "outputs": [],
   "source": [
    "f = \"Furofa'nın yeri\""
   ]
  },
  {
   "cell_type": "code",
   "execution_count": 100,
   "id": "3051c248",
   "metadata": {},
   "outputs": [
    {
     "data": {
      "text/plain": [
       "\"Furofa'nın yeri\""
      ]
     },
     "execution_count": 100,
     "metadata": {},
     "output_type": "execute_result"
    }
   ],
   "source": [
    "f\n"
   ]
  },
  {
   "cell_type": "code",
   "execution_count": 102,
   "id": "96556834",
   "metadata": {},
   "outputs": [
    {
     "data": {
      "text/plain": [
       "\"Furofa'nın yeri\""
      ]
     },
     "execution_count": 102,
     "metadata": {},
     "output_type": "execute_result"
    }
   ],
   "source": [
    "f.capitalize()"
   ]
  },
  {
   "cell_type": "code",
   "execution_count": 104,
   "id": "82c91471",
   "metadata": {},
   "outputs": [
    {
     "data": {
      "text/plain": [
       "[\"Furofa'nın\", 'yeri']"
      ]
     },
     "execution_count": 104,
     "metadata": {},
     "output_type": "execute_result"
    }
   ],
   "source": [
    "f.split()"
   ]
  },
  {
   "cell_type": "code",
   "execution_count": 105,
   "id": "a08416a9",
   "metadata": {},
   "outputs": [
    {
     "name": "stdout",
     "output_type": "stream",
     "text": [
      "Yaşınızı Giriniz : 12\n"
     ]
    }
   ],
   "source": [
    "yas = input(\"Yaşınızı Giriniz : \")"
   ]
  },
  {
   "cell_type": "code",
   "execution_count": 181,
   "id": "407c36c6",
   "metadata": {},
   "outputs": [],
   "source": [
    "yasInt = int(yas)"
   ]
  },
  {
   "cell_type": "code",
   "execution_count": 182,
   "id": "a22e6ddc",
   "metadata": {},
   "outputs": [
    {
     "data": {
      "text/plain": [
       "int"
      ]
     },
     "execution_count": 182,
     "metadata": {},
     "output_type": "execute_result"
    }
   ],
   "source": [
    "type(yasInt)"
   ]
  },
  {
   "cell_type": "code",
   "execution_count": 108,
   "id": "15e4dd69",
   "metadata": {},
   "outputs": [],
   "source": [
    "yasSonucu = yasInt + 13"
   ]
  },
  {
   "cell_type": "code",
   "execution_count": 109,
   "id": "c4c01d2f",
   "metadata": {},
   "outputs": [
    {
     "data": {
      "text/plain": [
       "25"
      ]
     },
     "execution_count": 109,
     "metadata": {},
     "output_type": "execute_result"
    }
   ],
   "source": [
    "yasSonucu"
   ]
  },
  {
   "cell_type": "code",
   "execution_count": 110,
   "id": "f40af90b",
   "metadata": {},
   "outputs": [
    {
     "data": {
      "text/plain": [
       "625"
      ]
     },
     "execution_count": 110,
     "metadata": {},
     "output_type": "execute_result"
    }
   ],
   "source": [
    "yasSonucu ** 2"
   ]
  },
  {
   "cell_type": "code",
   "execution_count": 119,
   "id": "62aa56fe",
   "metadata": {},
   "outputs": [],
   "source": [
    "yeniDeger = yasInt / 5 * 2"
   ]
  },
  {
   "cell_type": "code",
   "execution_count": 120,
   "id": "629aa281",
   "metadata": {},
   "outputs": [
    {
     "data": {
      "text/plain": [
       "float"
      ]
     },
     "execution_count": 120,
     "metadata": {},
     "output_type": "execute_result"
    }
   ],
   "source": [
    "type(yeniDeger)"
   ]
  },
  {
   "cell_type": "code",
   "execution_count": 124,
   "id": "045d3024",
   "metadata": {},
   "outputs": [],
   "source": [
    "strYeniDeger = str(yeniDeger)"
   ]
  },
  {
   "cell_type": "code",
   "execution_count": 125,
   "id": "1bf461bc",
   "metadata": {},
   "outputs": [
    {
     "data": {
      "text/plain": [
       "str"
      ]
     },
     "execution_count": 125,
     "metadata": {},
     "output_type": "execute_result"
    }
   ],
   "source": [
    "type(strYeniDeger)"
   ]
  },
  {
   "cell_type": "code",
   "execution_count": 126,
   "id": "8212910c",
   "metadata": {},
   "outputs": [
    {
     "data": {
      "text/plain": [
       "'4.8'"
      ]
     },
     "execution_count": 126,
     "metadata": {},
     "output_type": "execute_result"
    }
   ],
   "source": [
    "strYeniDeger"
   ]
  },
  {
   "cell_type": "code",
   "execution_count": 127,
   "id": "9634c22b",
   "metadata": {},
   "outputs": [
    {
     "data": {
      "text/plain": [
       "4.8"
      ]
     },
     "execution_count": 127,
     "metadata": {},
     "output_type": "execute_result"
    }
   ],
   "source": [
    "yeniDeger\n"
   ]
  },
  {
   "cell_type": "code",
   "execution_count": 128,
   "id": "1c522ef8",
   "metadata": {},
   "outputs": [
    {
     "data": {
      "text/plain": [
       "4"
      ]
     },
     "execution_count": 128,
     "metadata": {},
     "output_type": "execute_result"
    }
   ],
   "source": [
    "int(yeniDeger)"
   ]
  },
  {
   "cell_type": "code",
   "execution_count": 163,
   "id": "e263a644",
   "metadata": {},
   "outputs": [],
   "source": [
    "a = \"Tolga Furkan \\n Kılınç\""
   ]
  },
  {
   "cell_type": "code",
   "execution_count": 187,
   "id": "c9f3503b",
   "metadata": {
    "scrolled": false
   },
   "outputs": [
    {
     "data": {
      "text/plain": [
       "'Tolga Furkan \\n Kılınç'"
      ]
     },
     "execution_count": 187,
     "metadata": {},
     "output_type": "execute_result"
    }
   ],
   "source": [
    "a"
   ]
  },
  {
   "cell_type": "markdown",
   "id": "f9e463ed",
   "metadata": {},
   "source": [
    "## Len"
   ]
  },
  {
   "cell_type": "code",
   "execution_count": 188,
   "id": "a60abb07",
   "metadata": {},
   "outputs": [
    {
     "data": {
      "text/plain": [
       "21"
      ]
     },
     "execution_count": 188,
     "metadata": {},
     "output_type": "execute_result"
    }
   ],
   "source": [
    "len(a)"
   ]
  },
  {
   "cell_type": "code",
   "execution_count": 189,
   "id": "e2701b0f",
   "metadata": {},
   "outputs": [],
   "source": [
    "b = \"Tolga\""
   ]
  },
  {
   "cell_type": "code",
   "execution_count": 190,
   "id": "81ced691",
   "metadata": {},
   "outputs": [
    {
     "data": {
      "text/plain": [
       "5"
      ]
     },
     "execution_count": 190,
     "metadata": {},
     "output_type": "execute_result"
    }
   ],
   "source": [
    "len(b)"
   ]
  },
  {
   "cell_type": "code",
   "execution_count": 191,
   "id": "18312e65",
   "metadata": {},
   "outputs": [
    {
     "data": {
      "text/plain": [
       "'a'"
      ]
     },
     "execution_count": 191,
     "metadata": {},
     "output_type": "execute_result"
    }
   ],
   "source": [
    "a[4]"
   ]
  },
  {
   "cell_type": "code",
   "execution_count": 192,
   "id": "b12b129f",
   "metadata": {
    "scrolled": true
   },
   "outputs": [
    {
     "data": {
      "text/plain": [
       "'T'"
      ]
     },
     "execution_count": 192,
     "metadata": {},
     "output_type": "execute_result"
    }
   ],
   "source": [
    "a[0]"
   ]
  },
  {
   "cell_type": "markdown",
   "id": "e38db288",
   "metadata": {},
   "source": [
    "## Index"
   ]
  },
  {
   "cell_type": "code",
   "execution_count": 193,
   "id": "ad69e137",
   "metadata": {},
   "outputs": [
    {
     "data": {
      "text/plain": [
       "'a'"
      ]
     },
     "execution_count": 193,
     "metadata": {},
     "output_type": "execute_result"
    }
   ],
   "source": [
    "b[-1]"
   ]
  },
  {
   "cell_type": "code",
   "execution_count": 194,
   "id": "22aa2389",
   "metadata": {},
   "outputs": [
    {
     "data": {
      "text/plain": [
       "'g'"
      ]
     },
     "execution_count": 194,
     "metadata": {},
     "output_type": "execute_result"
    }
   ],
   "source": [
    "b[-2]"
   ]
  },
  {
   "cell_type": "markdown",
   "id": "33a133db",
   "metadata": {},
   "source": [
    "## Slicing"
   ]
  },
  {
   "cell_type": "code",
   "execution_count": 199,
   "id": "4b851360",
   "metadata": {},
   "outputs": [
    {
     "data": {
      "text/plain": [
       "'Furkan'"
      ]
     },
     "execution_count": 199,
     "metadata": {},
     "output_type": "execute_result"
    }
   ],
   "source": [
    "a[6:12]"
   ]
  },
  {
   "cell_type": "code",
   "execution_count": 222,
   "id": "d6e87eb0",
   "metadata": {},
   "outputs": [],
   "source": [
    "ismim = \"Tolga Furkan Kılınç\""
   ]
  },
  {
   "cell_type": "code",
   "execution_count": 223,
   "id": "2def64a2",
   "metadata": {},
   "outputs": [
    {
     "data": {
      "text/plain": [
       "'Tolga Furkan Kılınç'"
      ]
     },
     "execution_count": 223,
     "metadata": {},
     "output_type": "execute_result"
    }
   ],
   "source": [
    "ismim"
   ]
  },
  {
   "cell_type": "code",
   "execution_count": 224,
   "id": "7d5b842c",
   "metadata": {},
   "outputs": [
    {
     "data": {
      "text/plain": [
       "'Kılınç'"
      ]
     },
     "execution_count": 224,
     "metadata": {},
     "output_type": "execute_result"
    }
   ],
   "source": [
    "ismim[-6:]"
   ]
  },
  {
   "cell_type": "code",
   "execution_count": 225,
   "id": "cf43d1a4",
   "metadata": {},
   "outputs": [
    {
     "data": {
      "text/plain": [
       "'Tar ı'"
      ]
     },
     "execution_count": 225,
     "metadata": {},
     "output_type": "execute_result"
    }
   ],
   "source": [
    "ismim[::4]"
   ]
  },
  {
   "cell_type": "code",
   "execution_count": 226,
   "id": "f49165fd",
   "metadata": {},
   "outputs": [
    {
     "data": {
      "text/plain": [
       "'Tolga Furkan Kılınç'"
      ]
     },
     "execution_count": 226,
     "metadata": {},
     "output_type": "execute_result"
    }
   ],
   "source": [
    "ismim\n"
   ]
  },
  {
   "cell_type": "code",
   "execution_count": 227,
   "id": "ddf4e8ca",
   "metadata": {},
   "outputs": [
    {
     "data": {
      "text/plain": [
       "'çnılıK nakruF agloT'"
      ]
     },
     "execution_count": 227,
     "metadata": {},
     "output_type": "execute_result"
    }
   ],
   "source": [
    "ismim[::-1]"
   ]
  },
  {
   "cell_type": "code",
   "execution_count": 234,
   "id": "0a2ea303",
   "metadata": {},
   "outputs": [],
   "source": [
    "sn = \"tOLGA furkan kılınç\""
   ]
  },
  {
   "cell_type": "code",
   "execution_count": 235,
   "id": "f20e9132",
   "metadata": {},
   "outputs": [
    {
     "data": {
      "text/plain": [
       "'Tolga furkan kılınç'"
      ]
     },
     "execution_count": 235,
     "metadata": {},
     "output_type": "execute_result"
    }
   ],
   "source": [
    "sn.capitalize()"
   ]
  },
  {
   "cell_type": "code",
   "execution_count": 236,
   "id": "b9bb6ec7",
   "metadata": {},
   "outputs": [
    {
     "data": {
      "text/plain": [
       "'TOLGA FURKAN KILINÇ'"
      ]
     },
     "execution_count": 236,
     "metadata": {},
     "output_type": "execute_result"
    }
   ],
   "source": [
    "sn.upper()"
   ]
  },
  {
   "cell_type": "code",
   "execution_count": 237,
   "id": "d3d3ac52",
   "metadata": {},
   "outputs": [
    {
     "data": {
      "text/plain": [
       "['tOLGA', 'furkan', 'kılınç']"
      ]
     },
     "execution_count": 237,
     "metadata": {},
     "output_type": "execute_result"
    }
   ],
   "source": [
    "sn.split()"
   ]
  },
  {
   "cell_type": "code",
   "execution_count": 238,
   "id": "cceb1474",
   "metadata": {},
   "outputs": [
    {
     "data": {
      "text/plain": [
       "'tOLGA'"
      ]
     },
     "execution_count": 238,
     "metadata": {},
     "output_type": "execute_result"
    }
   ],
   "source": [
    "listeler = sn.split()\n",
    "listeler[0]"
   ]
  },
  {
   "cell_type": "code",
   "execution_count": 239,
   "id": "bcc98b1c",
   "metadata": {},
   "outputs": [
    {
     "data": {
      "text/plain": [
       "'tOLGA furkan kılınç'"
      ]
     },
     "execution_count": 239,
     "metadata": {},
     "output_type": "execute_result"
    }
   ],
   "source": [
    "sn"
   ]
  },
  {
   "cell_type": "code",
   "execution_count": 240,
   "id": "18233588",
   "metadata": {},
   "outputs": [],
   "source": [
    "snNew = sn.capitalize()"
   ]
  },
  {
   "cell_type": "code",
   "execution_count": 241,
   "id": "7da43828",
   "metadata": {},
   "outputs": [
    {
     "data": {
      "text/plain": [
       "'Tolga furkan kılınç'"
      ]
     },
     "execution_count": 241,
     "metadata": {},
     "output_type": "execute_result"
    }
   ],
   "source": [
    "snNew"
   ]
  },
  {
   "cell_type": "code",
   "execution_count": 242,
   "id": "5cd27fbe",
   "metadata": {},
   "outputs": [
    {
     "data": {
      "text/plain": [
       "'Benim adım tOLGA furkan kılınç'"
      ]
     },
     "execution_count": 242,
     "metadata": {},
     "output_type": "execute_result"
    }
   ],
   "source": [
    "\"Benim adım \" + sn"
   ]
  },
  {
   "cell_type": "code",
   "execution_count": null,
   "id": "159f7954",
   "metadata": {},
   "outputs": [],
   "source": []
  }
 ],
 "metadata": {
  "kernelspec": {
   "display_name": "Python 3 (ipykernel)",
   "language": "python",
   "name": "python3"
  },
  "language_info": {
   "codemirror_mode": {
    "name": "ipython",
    "version": 3
   },
   "file_extension": ".py",
   "mimetype": "text/x-python",
   "name": "python",
   "nbconvert_exporter": "python",
   "pygments_lexer": "ipython3",
   "version": "3.9.12"
  }
 },
 "nbformat": 4,
 "nbformat_minor": 5
}
