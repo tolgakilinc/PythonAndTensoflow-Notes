{
 "cells": [
  {
   "cell_type": "code",
   "execution_count": 1,
   "id": "0505adee",
   "metadata": {},
   "outputs": [],
   "source": [
    "# içindeki elemanları sadece 1 tane tutar. Listelerden ayrılır "
   ]
  },
  {
   "cell_type": "code",
   "execution_count": 4,
   "id": "2e642552",
   "metadata": {},
   "outputs": [
    {
     "data": {
      "text/plain": [
       "list"
      ]
     },
     "execution_count": 4,
     "metadata": {},
     "output_type": "execute_result"
    }
   ],
   "source": [
    "list = [1,2,3,4,1,3,4]\n",
    "type(list)"
   ]
  },
  {
   "cell_type": "code",
   "execution_count": 11,
   "id": "7a0aa6cb",
   "metadata": {},
   "outputs": [
    {
     "data": {
      "text/plain": [
       "set"
      ]
     },
     "execution_count": 11,
     "metadata": {},
     "output_type": "execute_result"
    }
   ],
   "source": [
    "ilkSet = {1,2,3,4}\n",
    "type(ilkSet)\n",
    "\n"
   ]
  },
  {
   "cell_type": "code",
   "execution_count": 12,
   "id": "05fede89",
   "metadata": {},
   "outputs": [],
   "source": [
    "#setlerin tanımlanması dictionary ile karıştırılabilir"
   ]
  },
  {
   "cell_type": "code",
   "execution_count": 16,
   "id": "4ef51e4c",
   "metadata": {},
   "outputs": [
    {
     "data": {
      "text/plain": [
       "dict"
      ]
     },
     "execution_count": 16,
     "metadata": {},
     "output_type": "execute_result"
    }
   ],
   "source": [
    "bosSet = {}\n",
    "type(bosSet)\n",
    "#yukarıdaki kod gibi set tanımlamak isterken dictionary de tanımlayabiliriz\n",
    "# bu karışıklığı önlemek için aşağıdaki kod bloğu eklenir"
   ]
  },
  {
   "cell_type": "code",
   "execution_count": 22,
   "id": "3e426db5",
   "metadata": {},
   "outputs": [],
   "source": [
    "bosSet = set({})"
   ]
  },
  {
   "cell_type": "code",
   "execution_count": 23,
   "id": "da559dd6",
   "metadata": {},
   "outputs": [
    {
     "data": {
      "text/plain": [
       "set"
      ]
     },
     "execution_count": 23,
     "metadata": {},
     "output_type": "execute_result"
    }
   ],
   "source": [
    "type(bosSet)"
   ]
  },
  {
   "cell_type": "code",
   "execution_count": 24,
   "id": "2280ad13",
   "metadata": {},
   "outputs": [
    {
     "data": {
      "text/plain": [
       "set()"
      ]
     },
     "execution_count": 24,
     "metadata": {},
     "output_type": "execute_result"
    }
   ],
   "source": [
    "bosSet\n"
   ]
  },
  {
   "cell_type": "code",
   "execution_count": 25,
   "id": "7b1a52ed",
   "metadata": {},
   "outputs": [],
   "source": [
    "bosSet.add(1)"
   ]
  },
  {
   "cell_type": "code",
   "execution_count": 26,
   "id": "e2b162c3",
   "metadata": {},
   "outputs": [
    {
     "data": {
      "text/plain": [
       "{1}"
      ]
     },
     "execution_count": 26,
     "metadata": {},
     "output_type": "execute_result"
    }
   ],
   "source": [
    "bosSet"
   ]
  },
  {
   "cell_type": "code",
   "execution_count": 27,
   "id": "421e8f8e",
   "metadata": {},
   "outputs": [],
   "source": [
    "bosSozluk = dict()"
   ]
  },
  {
   "cell_type": "code",
   "execution_count": 28,
   "id": "499f1f26",
   "metadata": {},
   "outputs": [
    {
     "data": {
      "text/plain": [
       "dict"
      ]
     },
     "execution_count": 28,
     "metadata": {},
     "output_type": "execute_result"
    }
   ],
   "source": [
    "type(bosSozluk)"
   ]
  },
  {
   "cell_type": "code",
   "execution_count": 29,
   "id": "a196914c",
   "metadata": {},
   "outputs": [],
   "source": [
    "bosSozluk[\"key\"] = 1"
   ]
  },
  {
   "cell_type": "code",
   "execution_count": 30,
   "id": "a6c8d4e9",
   "metadata": {},
   "outputs": [
    {
     "data": {
      "text/plain": [
       "{'key': 1}"
      ]
     },
     "execution_count": 30,
     "metadata": {},
     "output_type": "execute_result"
    }
   ],
   "source": [
    "bosSozluk"
   ]
  },
  {
   "cell_type": "code",
   "execution_count": 31,
   "id": "1b93a99a",
   "metadata": {},
   "outputs": [],
   "source": [
    "bosSozluk[\"keyy\"] = 1"
   ]
  },
  {
   "cell_type": "code",
   "execution_count": 32,
   "id": "535a9a8a",
   "metadata": {},
   "outputs": [
    {
     "data": {
      "text/plain": [
       "{'key': 1, 'keyy': 1}"
      ]
     },
     "execution_count": 32,
     "metadata": {},
     "output_type": "execute_result"
    }
   ],
   "source": [
    "bosSozluk\n"
   ]
  },
  {
   "cell_type": "code",
   "execution_count": 33,
   "id": "b901dae1",
   "metadata": {},
   "outputs": [],
   "source": [
    "bosSozluk[\"key\"] = 1"
   ]
  },
  {
   "cell_type": "code",
   "execution_count": 34,
   "id": "ea60b122",
   "metadata": {},
   "outputs": [
    {
     "data": {
      "text/plain": [
       "{'key': 1, 'keyy': 1}"
      ]
     },
     "execution_count": 34,
     "metadata": {},
     "output_type": "execute_result"
    }
   ],
   "source": [
    "bosSozluk"
   ]
  },
  {
   "cell_type": "code",
   "execution_count": 36,
   "id": "30ee0fdd",
   "metadata": {},
   "outputs": [],
   "source": [
    "sonSet = {1,2,3,4}"
   ]
  },
  {
   "cell_type": "code",
   "execution_count": 37,
   "id": "cb5c80cf",
   "metadata": {},
   "outputs": [
    {
     "data": {
      "text/plain": [
       "{1, 2, 3, 4}"
      ]
     },
     "execution_count": 37,
     "metadata": {},
     "output_type": "execute_result"
    }
   ],
   "source": [
    "sonSet\n"
   ]
  },
  {
   "cell_type": "code",
   "execution_count": 38,
   "id": "4faa01f9",
   "metadata": {},
   "outputs": [],
   "source": [
    "sonSet.add(1)"
   ]
  },
  {
   "cell_type": "code",
   "execution_count": 39,
   "id": "02127208",
   "metadata": {},
   "outputs": [],
   "source": [
    "sonSet.add(2)"
   ]
  },
  {
   "cell_type": "code",
   "execution_count": 40,
   "id": "d12aca87",
   "metadata": {},
   "outputs": [],
   "source": [
    "sonSet.add(5)"
   ]
  },
  {
   "cell_type": "code",
   "execution_count": 41,
   "id": "e86c5be1",
   "metadata": {},
   "outputs": [
    {
     "data": {
      "text/plain": [
       "{1, 2, 3, 4, 5}"
      ]
     },
     "execution_count": 41,
     "metadata": {},
     "output_type": "execute_result"
    }
   ],
   "source": [
    "sonSet"
   ]
  },
  {
   "cell_type": "code",
   "execution_count": null,
   "id": "207974a4",
   "metadata": {},
   "outputs": [],
   "source": []
  }
 ],
 "metadata": {
  "kernelspec": {
   "display_name": "Python 3 (ipykernel)",
   "language": "python",
   "name": "python3"
  },
  "language_info": {
   "codemirror_mode": {
    "name": "ipython",
    "version": 3
   },
   "file_extension": ".py",
   "mimetype": "text/x-python",
   "name": "python",
   "nbconvert_exporter": "python",
   "pygments_lexer": "ipython3",
   "version": "3.9.12"
  }
 },
 "nbformat": 4,
 "nbformat_minor": 5
}
