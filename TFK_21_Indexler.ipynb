{
 "cells": [
  {
   "cell_type": "code",
   "execution_count": 7,
   "id": "97dfbc43",
   "metadata": {},
   "outputs": [],
   "source": [
    "import numpy as np"
   ]
  },
  {
   "cell_type": "code",
   "execution_count": 8,
   "id": "2f382c7d",
   "metadata": {},
   "outputs": [],
   "source": [
    "ilkDizi = np.arange(0,15)"
   ]
  },
  {
   "cell_type": "code",
   "execution_count": 9,
   "id": "bea17ab3",
   "metadata": {},
   "outputs": [
    {
     "data": {
      "text/plain": [
       "array([ 0,  1,  2,  3,  4,  5,  6,  7,  8,  9, 10, 11, 12, 13, 14])"
      ]
     },
     "execution_count": 9,
     "metadata": {},
     "output_type": "execute_result"
    }
   ],
   "source": [
    "ilkDizi"
   ]
  },
  {
   "cell_type": "code",
   "execution_count": 10,
   "id": "1e2926ff",
   "metadata": {},
   "outputs": [
    {
     "data": {
      "text/plain": [
       "4"
      ]
     },
     "execution_count": 10,
     "metadata": {},
     "output_type": "execute_result"
    }
   ],
   "source": [
    "ilkDizi[4]"
   ]
  },
  {
   "cell_type": "code",
   "execution_count": 11,
   "id": "8335d8a9",
   "metadata": {},
   "outputs": [
    {
     "data": {
      "text/plain": [
       "array([1, 2, 3, 4])"
      ]
     },
     "execution_count": 11,
     "metadata": {},
     "output_type": "execute_result"
    }
   ],
   "source": [
    "ilkDizi[1:5]"
   ]
  },
  {
   "cell_type": "code",
   "execution_count": 12,
   "id": "afdad18c",
   "metadata": {},
   "outputs": [],
   "source": [
    "ilkDizi[3:5] = -5"
   ]
  },
  {
   "cell_type": "code",
   "execution_count": 13,
   "id": "6ebd9893",
   "metadata": {},
   "outputs": [
    {
     "data": {
      "text/plain": [
       "array([ 0,  1,  2, -5, -5,  5,  6,  7,  8,  9, 10, 11, 12, 13, 14])"
      ]
     },
     "execution_count": 13,
     "metadata": {},
     "output_type": "execute_result"
    }
   ],
   "source": [
    "ilkDizi"
   ]
  },
  {
   "cell_type": "code",
   "execution_count": 14,
   "id": "b29a42e3",
   "metadata": {},
   "outputs": [],
   "source": [
    "baskaDizi = np.arange(0,31)"
   ]
  },
  {
   "cell_type": "code",
   "execution_count": 15,
   "id": "77aa2f00",
   "metadata": {},
   "outputs": [
    {
     "data": {
      "text/plain": [
       "array([ 0,  1,  2,  3,  4,  5,  6,  7,  8,  9, 10, 11, 12, 13, 14, 15, 16,\n",
       "       17, 18, 19, 20, 21, 22, 23, 24, 25, 26, 27, 28, 29, 30])"
      ]
     },
     "execution_count": 15,
     "metadata": {},
     "output_type": "execute_result"
    }
   ],
   "source": [
    "baskaDizi"
   ]
  },
  {
   "cell_type": "code",
   "execution_count": 16,
   "id": "e0421ab9",
   "metadata": {},
   "outputs": [
    {
     "data": {
      "text/plain": [
       "array([4, 5, 6])"
      ]
     },
     "execution_count": 16,
     "metadata": {},
     "output_type": "execute_result"
    }
   ],
   "source": [
    "baskaDizi[4:7]"
   ]
  },
  {
   "cell_type": "code",
   "execution_count": 17,
   "id": "5132cfec",
   "metadata": {},
   "outputs": [],
   "source": [
    "slicingDizi = baskaDizi[3:15]"
   ]
  },
  {
   "cell_type": "code",
   "execution_count": 18,
   "id": "e55745be",
   "metadata": {},
   "outputs": [
    {
     "data": {
      "text/plain": [
       "array([ 3,  4,  5,  6,  7,  8,  9, 10, 11, 12, 13, 14])"
      ]
     },
     "execution_count": 18,
     "metadata": {},
     "output_type": "execute_result"
    }
   ],
   "source": [
    "slicingDizi"
   ]
  },
  {
   "cell_type": "code",
   "execution_count": 19,
   "id": "e3541445",
   "metadata": {},
   "outputs": [],
   "source": [
    "slicingDizi[:] = 700"
   ]
  },
  {
   "cell_type": "code",
   "execution_count": 20,
   "id": "29e8648b",
   "metadata": {},
   "outputs": [
    {
     "data": {
      "text/plain": [
       "array([700, 700, 700, 700, 700, 700, 700, 700, 700, 700, 700, 700])"
      ]
     },
     "execution_count": 20,
     "metadata": {},
     "output_type": "execute_result"
    }
   ],
   "source": [
    "slicingDizi"
   ]
  },
  {
   "cell_type": "code",
   "execution_count": 21,
   "id": "37b5652d",
   "metadata": {},
   "outputs": [
    {
     "data": {
      "text/plain": [
       "array([  0,   1,   2, 700, 700, 700, 700, 700, 700, 700, 700, 700, 700,\n",
       "       700, 700,  15,  16,  17,  18,  19,  20,  21,  22,  23,  24,  25,\n",
       "        26,  27,  28,  29,  30])"
      ]
     },
     "execution_count": 21,
     "metadata": {},
     "output_type": "execute_result"
    }
   ],
   "source": [
    "baskaDizi"
   ]
  },
  {
   "cell_type": "code",
   "execution_count": 22,
   "id": "1fe405b7",
   "metadata": {},
   "outputs": [],
   "source": [
    "ornDizi = np.arange(0,32)"
   ]
  },
  {
   "cell_type": "code",
   "execution_count": 23,
   "id": "f76e57de",
   "metadata": {},
   "outputs": [],
   "source": [
    "ornDiziKopya = ornDizi.copy()"
   ]
  },
  {
   "cell_type": "code",
   "execution_count": 24,
   "id": "a86beb40",
   "metadata": {},
   "outputs": [
    {
     "data": {
      "text/plain": [
       "array([ 0,  1,  2,  3,  4,  5,  6,  7,  8,  9, 10, 11, 12, 13, 14, 15, 16,\n",
       "       17, 18, 19, 20, 21, 22, 23, 24, 25, 26, 27, 28, 29, 30, 31])"
      ]
     },
     "execution_count": 24,
     "metadata": {},
     "output_type": "execute_result"
    }
   ],
   "source": [
    "ornDiziKopya"
   ]
  },
  {
   "cell_type": "code",
   "execution_count": 25,
   "id": "c435ff3f",
   "metadata": {},
   "outputs": [],
   "source": [
    "ornDiziKopyaSlicing = ornDiziKopya[3:10]"
   ]
  },
  {
   "cell_type": "code",
   "execution_count": 26,
   "id": "c438d677",
   "metadata": {},
   "outputs": [],
   "source": [
    "ornDiziKopyaSlicing[:] = 20"
   ]
  },
  {
   "cell_type": "code",
   "execution_count": 27,
   "id": "26e3d402",
   "metadata": {},
   "outputs": [
    {
     "data": {
      "text/plain": [
       "array([20, 20, 20, 20, 20, 20, 20])"
      ]
     },
     "execution_count": 27,
     "metadata": {},
     "output_type": "execute_result"
    }
   ],
   "source": [
    "ornDiziKopyaSlicing"
   ]
  },
  {
   "cell_type": "code",
   "execution_count": 28,
   "id": "1225d360",
   "metadata": {},
   "outputs": [
    {
     "data": {
      "text/plain": [
       "array([ 0,  1,  2, 20, 20, 20, 20, 20, 20, 20, 10, 11, 12, 13, 14, 15, 16,\n",
       "       17, 18, 19, 20, 21, 22, 23, 24, 25, 26, 27, 28, 29, 30, 31])"
      ]
     },
     "execution_count": 28,
     "metadata": {},
     "output_type": "execute_result"
    }
   ],
   "source": [
    "ornDiziKopya"
   ]
  },
  {
   "cell_type": "code",
   "execution_count": 29,
   "id": "65b286d9",
   "metadata": {},
   "outputs": [
    {
     "data": {
      "text/plain": [
       "array([ 0,  1,  2,  3,  4,  5,  6,  7,  8,  9, 10, 11, 12, 13, 14, 15, 16,\n",
       "       17, 18, 19, 20, 21, 22, 23, 24, 25, 26, 27, 28, 29, 30, 31])"
      ]
     },
     "execution_count": 29,
     "metadata": {},
     "output_type": "execute_result"
    }
   ],
   "source": [
    "ornDizi"
   ]
  },
  {
   "cell_type": "markdown",
   "id": "154f3141",
   "metadata": {},
   "source": [
    "## matrix indexler"
   ]
  },
  {
   "cell_type": "code",
   "execution_count": 30,
   "id": "7486ebdb",
   "metadata": {},
   "outputs": [],
   "source": [
    "ilkMatrixDizi = np.array"
   ]
  },
  {
   "cell_type": "code",
   "execution_count": 31,
   "id": "8e4b70c4",
   "metadata": {},
   "outputs": [],
   "source": [
    "ilkListe = [[1,2,3],[1,7,3],[1,2,4]]"
   ]
  },
  {
   "cell_type": "code",
   "execution_count": 32,
   "id": "b12a09b9",
   "metadata": {},
   "outputs": [],
   "source": [
    "ilkMatrixDizi = np.array(ilkListe)"
   ]
  },
  {
   "cell_type": "code",
   "execution_count": 33,
   "id": "8d8cde65",
   "metadata": {},
   "outputs": [
    {
     "data": {
      "text/plain": [
       "array([[1, 2, 3],\n",
       "       [1, 7, 3],\n",
       "       [1, 2, 4]])"
      ]
     },
     "execution_count": 33,
     "metadata": {},
     "output_type": "execute_result"
    }
   ],
   "source": [
    "ilkMatrixDizi"
   ]
  },
  {
   "cell_type": "code",
   "execution_count": 34,
   "id": "e4a61d2e",
   "metadata": {},
   "outputs": [
    {
     "data": {
      "text/plain": [
       "array([1, 2, 3])"
      ]
     },
     "execution_count": 34,
     "metadata": {},
     "output_type": "execute_result"
    }
   ],
   "source": [
    "ilkMatrixDizi[0]"
   ]
  },
  {
   "cell_type": "code",
   "execution_count": 35,
   "id": "94e62277",
   "metadata": {},
   "outputs": [
    {
     "data": {
      "text/plain": [
       "3"
      ]
     },
     "execution_count": 35,
     "metadata": {},
     "output_type": "execute_result"
    }
   ],
   "source": [
    "ilkMatrixDizi[1][2]"
   ]
  },
  {
   "cell_type": "code",
   "execution_count": 36,
   "id": "c54957a0",
   "metadata": {},
   "outputs": [
    {
     "data": {
      "text/plain": [
       "3"
      ]
     },
     "execution_count": 36,
     "metadata": {},
     "output_type": "execute_result"
    }
   ],
   "source": [
    " ilkMatrixDizi[1,2]"
   ]
  },
  {
   "cell_type": "code",
   "execution_count": 37,
   "id": "a2047f0c",
   "metadata": {},
   "outputs": [
    {
     "data": {
      "text/plain": [
       "array([3, 3, 4])"
      ]
     },
     "execution_count": 37,
     "metadata": {},
     "output_type": "execute_result"
    }
   ],
   "source": [
    "ilkMatrixDizi[0:,2]"
   ]
  },
  {
   "cell_type": "code",
   "execution_count": 38,
   "id": "29aafe2e",
   "metadata": {},
   "outputs": [],
   "source": [
    "  yeniListe = [[0,12,3,4,5,6],[0,12,3,4,4,6],[0,12,1,4,5,5],[0,26,3,4,5,1],[0,1,3,4,5,4]]"
   ]
  },
  {
   "cell_type": "code",
   "execution_count": 40,
   "id": "a8f3ebce",
   "metadata": {},
   "outputs": [],
   "source": [
    "yeniMatrix = np.array(yeniListe)"
   ]
  },
  {
   "cell_type": "code",
   "execution_count": 41,
   "id": "be6c4fa9",
   "metadata": {},
   "outputs": [
    {
     "data": {
      "text/plain": [
       "array([[ 0, 12,  3,  4,  5,  6],\n",
       "       [ 0, 12,  3,  4,  4,  6],\n",
       "       [ 0, 12,  1,  4,  5,  5],\n",
       "       [ 0, 26,  3,  4,  5,  1],\n",
       "       [ 0,  1,  3,  4,  5,  4]])"
      ]
     },
     "execution_count": 41,
     "metadata": {},
     "output_type": "execute_result"
    }
   ],
   "source": [
    "yeniMatrix"
   ]
  },
  {
   "cell_type": "markdown",
   "id": "fa21e10b",
   "metadata": {},
   "source": [
    "## operasyonlar"
   ]
  },
  {
   "cell_type": "code",
   "execution_count": 52,
   "id": "87f2c403",
   "metadata": {},
   "outputs": [],
   "source": [
    "sonDizi = np.random.randint(1,100,20)"
   ]
  },
  {
   "cell_type": "code",
   "execution_count": 53,
   "id": "5e799558",
   "metadata": {},
   "outputs": [
    {
     "data": {
      "text/plain": [
       "array([29, 51, 81, 73, 44, 53, 78, 12, 78, 13, 81, 69, 60, 16, 71, 29, 17,\n",
       "       71, 64, 85])"
      ]
     },
     "execution_count": 53,
     "metadata": {},
     "output_type": "execute_result"
    }
   ],
   "source": [
    "sonDizi"
   ]
  },
  {
   "cell_type": "code",
   "execution_count": 54,
   "id": "396c2c43",
   "metadata": {},
   "outputs": [
    {
     "data": {
      "text/plain": [
       "array([False,  True,  True,  True, False,  True,  True, False,  True,\n",
       "       False,  True,  True,  True, False,  True, False, False,  True,\n",
       "        True,  True])"
      ]
     },
     "execution_count": 54,
     "metadata": {},
     "output_type": "execute_result"
    }
   ],
   "source": [
    "sonDizi > 50"
   ]
  },
  {
   "cell_type": "code",
   "execution_count": 55,
   "id": "3ca80fcc",
   "metadata": {},
   "outputs": [
    {
     "data": {
      "text/plain": [
       "array([29, 51, 81, 73, 44, 53, 78, 12, 78, 13, 81, 69, 60, 16, 71, 29, 17,\n",
       "       71, 64, 85])"
      ]
     },
     "execution_count": 55,
     "metadata": {},
     "output_type": "execute_result"
    }
   ],
   "source": [
    "sonDizi"
   ]
  },
  {
   "cell_type": "code",
   "execution_count": 56,
   "id": "59c5fb7d",
   "metadata": {},
   "outputs": [],
   "source": [
    "sonucDizisi = sonDizi > 25"
   ]
  },
  {
   "cell_type": "code",
   "execution_count": 57,
   "id": "f626d430",
   "metadata": {},
   "outputs": [
    {
     "data": {
      "text/plain": [
       "array([ True,  True,  True,  True,  True,  True,  True, False,  True,\n",
       "       False,  True,  True,  True, False,  True,  True, False,  True,\n",
       "        True,  True])"
      ]
     },
     "execution_count": 57,
     "metadata": {},
     "output_type": "execute_result"
    }
   ],
   "source": [
    "sonucDizisi"
   ]
  },
  {
   "cell_type": "code",
   "execution_count": 60,
   "id": "8ddbf97b",
   "metadata": {},
   "outputs": [
    {
     "data": {
      "text/plain": [
       "array([29, 51, 81, 73, 44, 53, 78, 78, 81, 69, 60, 71, 29, 71, 64, 85])"
      ]
     },
     "execution_count": 60,
     "metadata": {},
     "output_type": "execute_result"
    }
   ],
   "source": [
    "sonDizi[sonucDizisi]"
   ]
  },
  {
   "cell_type": "code",
   "execution_count": 61,
   "id": "53ed35f6",
   "metadata": {},
   "outputs": [
    {
     "data": {
      "text/plain": [
       "array([29, 51, 81, 73, 44, 53, 78, 12, 78, 13, 81, 69, 60, 16, 71, 29, 17,\n",
       "       71, 64, 85])"
      ]
     },
     "execution_count": 61,
     "metadata": {},
     "output_type": "execute_result"
    }
   ],
   "source": [
    "sonDizi"
   ]
  },
  {
   "cell_type": "code",
   "execution_count": 62,
   "id": "8056876e",
   "metadata": {},
   "outputs": [
    {
     "data": {
      "text/plain": [
       "array([29, 51, 81, 73, 44, 53, 78, 78, 81, 69, 60, 71, 29, 71, 64, 85])"
      ]
     },
     "execution_count": 62,
     "metadata": {},
     "output_type": "execute_result"
    }
   ],
   "source": [
    "sonDizi[sonDizi > 25]"
   ]
  },
  {
   "cell_type": "code",
   "execution_count": 63,
   "id": "136e0cee",
   "metadata": {},
   "outputs": [
    {
     "data": {
      "text/plain": [
       "array([29, 51, 81, 73, 44, 53, 78, 12, 78, 13, 81, 69, 60, 16, 71, 29, 17,\n",
       "       71, 64, 85])"
      ]
     },
     "execution_count": 63,
     "metadata": {},
     "output_type": "execute_result"
    }
   ],
   "source": [
    "sonDizi"
   ]
  },
  {
   "cell_type": "code",
   "execution_count": 64,
   "id": "576ecb55",
   "metadata": {},
   "outputs": [],
   "source": [
    "sonDizi = np.arange(0,24)"
   ]
  },
  {
   "cell_type": "code",
   "execution_count": 65,
   "id": "7c001c50",
   "metadata": {},
   "outputs": [
    {
     "data": {
      "text/plain": [
       "array([ 0,  1,  2,  3,  4,  5,  6,  7,  8,  9, 10, 11, 12, 13, 14, 15, 16,\n",
       "       17, 18, 19, 20, 21, 22, 23])"
      ]
     },
     "execution_count": 65,
     "metadata": {},
     "output_type": "execute_result"
    }
   ],
   "source": [
    "sonDizi"
   ]
  },
  {
   "cell_type": "code",
   "execution_count": 66,
   "id": "06d2d9d6",
   "metadata": {},
   "outputs": [
    {
     "data": {
      "text/plain": [
       "array([ 0,  2,  4,  6,  8, 10, 12, 14, 16, 18, 20, 22, 24, 26, 28, 30, 32,\n",
       "       34, 36, 38, 40, 42, 44, 46])"
      ]
     },
     "execution_count": 66,
     "metadata": {},
     "output_type": "execute_result"
    }
   ],
   "source": [
    "sonDizi + sonDizi"
   ]
  },
  {
   "cell_type": "code",
   "execution_count": 67,
   "id": "afb4fa12",
   "metadata": {},
   "outputs": [
    {
     "data": {
      "text/plain": [
       "array([  0,   1,   4,   9,  16,  25,  36,  49,  64,  81, 100, 121, 144,\n",
       "       169, 196, 225, 256, 289, 324, 361, 400, 441, 484, 529])"
      ]
     },
     "execution_count": 67,
     "metadata": {},
     "output_type": "execute_result"
    }
   ],
   "source": [
    "sonDizi* sonDizi"
   ]
  },
  {
   "cell_type": "code",
   "execution_count": 68,
   "id": "afd14c7a",
   "metadata": {},
   "outputs": [
    {
     "name": "stderr",
     "output_type": "stream",
     "text": [
      "C:\\Users\\furka\\AppData\\Local\\Temp\\ipykernel_2992\\1312094733.py:1: RuntimeWarning: invalid value encountered in true_divide\n",
      "  sonDizi / sonDizi\n"
     ]
    },
    {
     "data": {
      "text/plain": [
       "array([nan,  1.,  1.,  1.,  1.,  1.,  1.,  1.,  1.,  1.,  1.,  1.,  1.,\n",
       "        1.,  1.,  1.,  1.,  1.,  1.,  1.,  1.,  1.,  1.,  1.])"
      ]
     },
     "execution_count": 68,
     "metadata": {},
     "output_type": "execute_result"
    }
   ],
   "source": [
    "sonDizi / sonDizi"
   ]
  },
  {
   "cell_type": "code",
   "execution_count": 69,
   "id": "99ce5e37",
   "metadata": {},
   "outputs": [
    {
     "data": {
      "text/plain": [
       "array([0.        , 1.        , 1.41421356, 1.73205081, 2.        ,\n",
       "       2.23606798, 2.44948974, 2.64575131, 2.82842712, 3.        ,\n",
       "       3.16227766, 3.31662479, 3.46410162, 3.60555128, 3.74165739,\n",
       "       3.87298335, 4.        , 4.12310563, 4.24264069, 4.35889894,\n",
       "       4.47213595, 4.58257569, 4.69041576, 4.79583152])"
      ]
     },
     "execution_count": 69,
     "metadata": {},
     "output_type": "execute_result"
    }
   ],
   "source": [
    "np.sqrt(sonDizi)"
   ]
  },
  {
   "cell_type": "code",
   "execution_count": 70,
   "id": "051a282e",
   "metadata": {},
   "outputs": [
    {
     "data": {
      "text/plain": [
       "23"
      ]
     },
     "execution_count": 70,
     "metadata": {},
     "output_type": "execute_result"
    }
   ],
   "source": [
    "np.max(sonDizi)"
   ]
  },
  {
   "cell_type": "code",
   "execution_count": 72,
   "id": "103f90af",
   "metadata": {},
   "outputs": [
    {
     "data": {
      "text/plain": [
       "0"
      ]
     },
     "execution_count": 72,
     "metadata": {},
     "output_type": "execute_result"
    }
   ],
   "source": [
    "np.min(sonDizi)"
   ]
  },
  {
   "cell_type": "code",
   "execution_count": null,
   "id": "ddfb8098",
   "metadata": {},
   "outputs": [],
   "source": []
  }
 ],
 "metadata": {
  "kernelspec": {
   "display_name": "Python 3 (ipykernel)",
   "language": "python",
   "name": "python3"
  },
  "language_info": {
   "codemirror_mode": {
    "name": "ipython",
    "version": 3
   },
   "file_extension": ".py",
   "mimetype": "text/x-python",
   "name": "python",
   "nbconvert_exporter": "python",
   "pygments_lexer": "ipython3",
   "version": "3.9.12"
  }
 },
 "nbformat": 4,
 "nbformat_minor": 5
}
