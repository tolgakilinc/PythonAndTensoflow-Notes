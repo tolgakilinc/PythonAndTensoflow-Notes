{
 "cells": [
  {
   "cell_type": "code",
   "execution_count": 2,
   "id": "f7835796",
   "metadata": {},
   "outputs": [],
   "source": [
    "import numpy as np\n",
    "import pandas as pd"
   ]
  },
  {
   "cell_type": "code",
   "execution_count": 11,
   "id": "fbe451e4",
   "metadata": {},
   "outputs": [],
   "source": [
    "data = np.random.randn(3,4)"
   ]
  },
  {
   "cell_type": "code",
   "execution_count": 12,
   "id": "d20e8d69",
   "metadata": {},
   "outputs": [
    {
     "data": {
      "text/plain": [
       "array([[ 1.49289294e+00,  6.15812662e-01,  1.32653707e-01,\n",
       "         6.40093106e-01],\n",
       "       [ 2.79077180e-02, -9.94670026e-04,  1.42710171e+00,\n",
       "        -2.72861861e-01],\n",
       "       [ 1.14124052e-01, -1.32606998e+00,  1.12069066e+00,\n",
       "         3.89720949e-01]])"
      ]
     },
     "execution_count": 12,
     "metadata": {},
     "output_type": "execute_result"
    }
   ],
   "source": [
    "data"
   ]
  },
  {
   "cell_type": "code",
   "execution_count": 13,
   "id": "5cb04d4a",
   "metadata": {},
   "outputs": [],
   "source": [
    "ilkFrame = pd.DataFrame(data)"
   ]
  },
  {
   "cell_type": "code",
   "execution_count": 14,
   "id": "18d98acc",
   "metadata": {},
   "outputs": [
    {
     "data": {
      "text/html": [
       "<div>\n",
       "<style scoped>\n",
       "    .dataframe tbody tr th:only-of-type {\n",
       "        vertical-align: middle;\n",
       "    }\n",
       "\n",
       "    .dataframe tbody tr th {\n",
       "        vertical-align: top;\n",
       "    }\n",
       "\n",
       "    .dataframe thead th {\n",
       "        text-align: right;\n",
       "    }\n",
       "</style>\n",
       "<table border=\"1\" class=\"dataframe\">\n",
       "  <thead>\n",
       "    <tr style=\"text-align: right;\">\n",
       "      <th></th>\n",
       "      <th>0</th>\n",
       "      <th>1</th>\n",
       "      <th>2</th>\n",
       "      <th>3</th>\n",
       "    </tr>\n",
       "  </thead>\n",
       "  <tbody>\n",
       "    <tr>\n",
       "      <th>0</th>\n",
       "      <td>1.492893</td>\n",
       "      <td>0.615813</td>\n",
       "      <td>0.132654</td>\n",
       "      <td>0.640093</td>\n",
       "    </tr>\n",
       "    <tr>\n",
       "      <th>1</th>\n",
       "      <td>0.027908</td>\n",
       "      <td>-0.000995</td>\n",
       "      <td>1.427102</td>\n",
       "      <td>-0.272862</td>\n",
       "    </tr>\n",
       "    <tr>\n",
       "      <th>2</th>\n",
       "      <td>0.114124</td>\n",
       "      <td>-1.326070</td>\n",
       "      <td>1.120691</td>\n",
       "      <td>0.389721</td>\n",
       "    </tr>\n",
       "  </tbody>\n",
       "</table>\n",
       "</div>"
      ],
      "text/plain": [
       "          0         1         2         3\n",
       "0  1.492893  0.615813  0.132654  0.640093\n",
       "1  0.027908 -0.000995  1.427102 -0.272862\n",
       "2  0.114124 -1.326070  1.120691  0.389721"
      ]
     },
     "execution_count": 14,
     "metadata": {},
     "output_type": "execute_result"
    }
   ],
   "source": [
    "ilkFrame"
   ]
  },
  {
   "cell_type": "code",
   "execution_count": 15,
   "id": "1afa0be4",
   "metadata": {},
   "outputs": [],
   "source": [
    "yeniFrame = pd.DataFrame(data, index=[\"Tolga\",\"Furkan\",\"Kılınç\"],columns=[\"Yaş\", \"Şehir\",\"Mail\",\"Araç\"])"
   ]
  },
  {
   "cell_type": "code",
   "execution_count": 16,
   "id": "92d6072e",
   "metadata": {},
   "outputs": [
    {
     "data": {
      "text/html": [
       "<div>\n",
       "<style scoped>\n",
       "    .dataframe tbody tr th:only-of-type {\n",
       "        vertical-align: middle;\n",
       "    }\n",
       "\n",
       "    .dataframe tbody tr th {\n",
       "        vertical-align: top;\n",
       "    }\n",
       "\n",
       "    .dataframe thead th {\n",
       "        text-align: right;\n",
       "    }\n",
       "</style>\n",
       "<table border=\"1\" class=\"dataframe\">\n",
       "  <thead>\n",
       "    <tr style=\"text-align: right;\">\n",
       "      <th></th>\n",
       "      <th>Yaş</th>\n",
       "      <th>Şehir</th>\n",
       "      <th>Mail</th>\n",
       "      <th>Araç</th>\n",
       "    </tr>\n",
       "  </thead>\n",
       "  <tbody>\n",
       "    <tr>\n",
       "      <th>Tolga</th>\n",
       "      <td>1.492893</td>\n",
       "      <td>0.615813</td>\n",
       "      <td>0.132654</td>\n",
       "      <td>0.640093</td>\n",
       "    </tr>\n",
       "    <tr>\n",
       "      <th>Furkan</th>\n",
       "      <td>0.027908</td>\n",
       "      <td>-0.000995</td>\n",
       "      <td>1.427102</td>\n",
       "      <td>-0.272862</td>\n",
       "    </tr>\n",
       "    <tr>\n",
       "      <th>Kılınç</th>\n",
       "      <td>0.114124</td>\n",
       "      <td>-1.326070</td>\n",
       "      <td>1.120691</td>\n",
       "      <td>0.389721</td>\n",
       "    </tr>\n",
       "  </tbody>\n",
       "</table>\n",
       "</div>"
      ],
      "text/plain": [
       "             Yaş     Şehir      Mail      Araç\n",
       "Tolga   1.492893  0.615813  0.132654  0.640093\n",
       "Furkan  0.027908 -0.000995  1.427102 -0.272862\n",
       "Kılınç  0.114124 -1.326070  1.120691  0.389721"
      ]
     },
     "execution_count": 16,
     "metadata": {},
     "output_type": "execute_result"
    }
   ],
   "source": [
    "yeniFrame"
   ]
  },
  {
   "cell_type": "code",
   "execution_count": 19,
   "id": "1edab1aa",
   "metadata": {},
   "outputs": [
    {
     "data": {
      "text/plain": [
       "Yaş      1.492893\n",
       "Şehir    0.615813\n",
       "Mail     0.132654\n",
       "Araç     0.640093\n",
       "Name: Tolga, dtype: float64"
      ]
     },
     "execution_count": 19,
     "metadata": {},
     "output_type": "execute_result"
    }
   ],
   "source": [
    "yeniFrame.loc[\"Tolga\"]"
   ]
  },
  {
   "cell_type": "code",
   "execution_count": 20,
   "id": "8466c432",
   "metadata": {},
   "outputs": [
    {
     "ename": "TypeError",
     "evalue": "'DataFrame' object is not callable",
     "output_type": "error",
     "traceback": [
      "\u001b[1;31m---------------------------------------------------------------------------\u001b[0m",
      "\u001b[1;31mTypeError\u001b[0m                                 Traceback (most recent call last)",
      "Input \u001b[1;32mIn [20]\u001b[0m, in \u001b[0;36m<cell line: 1>\u001b[1;34m()\u001b[0m\n\u001b[1;32m----> 1\u001b[0m \u001b[43myeniFrame\u001b[49m\u001b[43m(\u001b[49m\u001b[38;5;124;43m\"\u001b[39;49m\u001b[38;5;124;43mYaş\u001b[39;49m\u001b[38;5;124;43m\"\u001b[39;49m\u001b[43m)\u001b[49m\n",
      "\u001b[1;31mTypeError\u001b[0m: 'DataFrame' object is not callable"
     ]
    }
   ],
   "source": [
    "yeniFrame(\"Yaş\")"
   ]
  },
  {
   "cell_type": "code",
   "execution_count": 21,
   "id": "0afab1f4",
   "metadata": {},
   "outputs": [
    {
     "data": {
      "text/plain": [
       "Tolga     1.492893\n",
       "Furkan    0.027908\n",
       "Kılınç    0.114124\n",
       "Name: Yaş, dtype: float64"
      ]
     },
     "execution_count": 21,
     "metadata": {},
     "output_type": "execute_result"
    }
   ],
   "source": [
    "yeniFrame[\"Yaş\"]"
   ]
  },
  {
   "cell_type": "code",
   "execution_count": 22,
   "id": "46202236",
   "metadata": {},
   "outputs": [
    {
     "data": {
      "text/plain": [
       "Yaş      1.492893\n",
       "Şehir    0.615813\n",
       "Mail     0.132654\n",
       "Araç     0.640093\n",
       "Name: Tolga, dtype: float64"
      ]
     },
     "execution_count": 22,
     "metadata": {},
     "output_type": "execute_result"
    }
   ],
   "source": [
    "yeniFrame.iloc[0]"
   ]
  },
  {
   "cell_type": "code",
   "execution_count": 23,
   "id": "61bfca42",
   "metadata": {},
   "outputs": [],
   "source": [
    "yeniFrame[\"Borç\"] = yeniFrame[\"Araç\"] + yeniFrame[\"Şehir\"]"
   ]
  },
  {
   "cell_type": "code",
   "execution_count": 24,
   "id": "0574e53f",
   "metadata": {},
   "outputs": [
    {
     "data": {
      "text/html": [
       "<div>\n",
       "<style scoped>\n",
       "    .dataframe tbody tr th:only-of-type {\n",
       "        vertical-align: middle;\n",
       "    }\n",
       "\n",
       "    .dataframe tbody tr th {\n",
       "        vertical-align: top;\n",
       "    }\n",
       "\n",
       "    .dataframe thead th {\n",
       "        text-align: right;\n",
       "    }\n",
       "</style>\n",
       "<table border=\"1\" class=\"dataframe\">\n",
       "  <thead>\n",
       "    <tr style=\"text-align: right;\">\n",
       "      <th></th>\n",
       "      <th>Yaş</th>\n",
       "      <th>Şehir</th>\n",
       "      <th>Mail</th>\n",
       "      <th>Araç</th>\n",
       "      <th>Borç</th>\n",
       "    </tr>\n",
       "  </thead>\n",
       "  <tbody>\n",
       "    <tr>\n",
       "      <th>Tolga</th>\n",
       "      <td>1.492893</td>\n",
       "      <td>0.615813</td>\n",
       "      <td>0.132654</td>\n",
       "      <td>0.640093</td>\n",
       "      <td>1.255906</td>\n",
       "    </tr>\n",
       "    <tr>\n",
       "      <th>Furkan</th>\n",
       "      <td>0.027908</td>\n",
       "      <td>-0.000995</td>\n",
       "      <td>1.427102</td>\n",
       "      <td>-0.272862</td>\n",
       "      <td>-0.273857</td>\n",
       "    </tr>\n",
       "    <tr>\n",
       "      <th>Kılınç</th>\n",
       "      <td>0.114124</td>\n",
       "      <td>-1.326070</td>\n",
       "      <td>1.120691</td>\n",
       "      <td>0.389721</td>\n",
       "      <td>-0.936349</td>\n",
       "    </tr>\n",
       "  </tbody>\n",
       "</table>\n",
       "</div>"
      ],
      "text/plain": [
       "             Yaş     Şehir      Mail      Araç      Borç\n",
       "Tolga   1.492893  0.615813  0.132654  0.640093  1.255906\n",
       "Furkan  0.027908 -0.000995  1.427102 -0.272862 -0.273857\n",
       "Kılınç  0.114124 -1.326070  1.120691  0.389721 -0.936349"
      ]
     },
     "execution_count": 24,
     "metadata": {},
     "output_type": "execute_result"
    }
   ],
   "source": [
    "yeniFrame"
   ]
  },
  {
   "cell_type": "code",
   "execution_count": 25,
   "id": "b3a85103",
   "metadata": {},
   "outputs": [
    {
     "data": {
      "text/html": [
       "<div>\n",
       "<style scoped>\n",
       "    .dataframe tbody tr th:only-of-type {\n",
       "        vertical-align: middle;\n",
       "    }\n",
       "\n",
       "    .dataframe tbody tr th {\n",
       "        vertical-align: top;\n",
       "    }\n",
       "\n",
       "    .dataframe thead th {\n",
       "        text-align: right;\n",
       "    }\n",
       "</style>\n",
       "<table border=\"1\" class=\"dataframe\">\n",
       "  <thead>\n",
       "    <tr style=\"text-align: right;\">\n",
       "      <th></th>\n",
       "      <th>Yaş</th>\n",
       "      <th>Şehir</th>\n",
       "      <th>Mail</th>\n",
       "      <th>Araç</th>\n",
       "      <th>Borç</th>\n",
       "    </tr>\n",
       "  </thead>\n",
       "  <tbody>\n",
       "    <tr>\n",
       "      <th>Tolga</th>\n",
       "      <td>1.492893</td>\n",
       "      <td>0.615813</td>\n",
       "      <td>0.132654</td>\n",
       "      <td>0.640093</td>\n",
       "      <td>1.255906</td>\n",
       "    </tr>\n",
       "    <tr>\n",
       "      <th>Furkan</th>\n",
       "      <td>0.027908</td>\n",
       "      <td>-0.000995</td>\n",
       "      <td>1.427102</td>\n",
       "      <td>-0.272862</td>\n",
       "      <td>-0.273857</td>\n",
       "    </tr>\n",
       "    <tr>\n",
       "      <th>Kılınç</th>\n",
       "      <td>0.114124</td>\n",
       "      <td>-1.326070</td>\n",
       "      <td>1.120691</td>\n",
       "      <td>0.389721</td>\n",
       "      <td>-0.936349</td>\n",
       "    </tr>\n",
       "  </tbody>\n",
       "</table>\n",
       "</div>"
      ],
      "text/plain": [
       "             Yaş     Şehir      Mail      Araç      Borç\n",
       "Tolga   1.492893  0.615813  0.132654  0.640093  1.255906\n",
       "Furkan  0.027908 -0.000995  1.427102 -0.272862 -0.273857\n",
       "Kılınç  0.114124 -1.326070  1.120691  0.389721 -0.936349"
      ]
     },
     "execution_count": 25,
     "metadata": {},
     "output_type": "execute_result"
    }
   ],
   "source": [
    "yeniFrame"
   ]
  },
  {
   "cell_type": "code",
   "execution_count": 30,
   "id": "c62a8874",
   "metadata": {},
   "outputs": [
    {
     "data": {
      "text/html": [
       "<div>\n",
       "<style scoped>\n",
       "    .dataframe tbody tr th:only-of-type {\n",
       "        vertical-align: middle;\n",
       "    }\n",
       "\n",
       "    .dataframe tbody tr th {\n",
       "        vertical-align: top;\n",
       "    }\n",
       "\n",
       "    .dataframe thead th {\n",
       "        text-align: right;\n",
       "    }\n",
       "</style>\n",
       "<table border=\"1\" class=\"dataframe\">\n",
       "  <thead>\n",
       "    <tr style=\"text-align: right;\">\n",
       "      <th></th>\n",
       "      <th>Yaş</th>\n",
       "      <th>Şehir</th>\n",
       "      <th>Araç</th>\n",
       "      <th>Borç</th>\n",
       "    </tr>\n",
       "  </thead>\n",
       "  <tbody>\n",
       "    <tr>\n",
       "      <th>Tolga</th>\n",
       "      <td>1.492893</td>\n",
       "      <td>0.615813</td>\n",
       "      <td>0.640093</td>\n",
       "      <td>1.255906</td>\n",
       "    </tr>\n",
       "    <tr>\n",
       "      <th>Furkan</th>\n",
       "      <td>0.027908</td>\n",
       "      <td>-0.000995</td>\n",
       "      <td>-0.272862</td>\n",
       "      <td>-0.273857</td>\n",
       "    </tr>\n",
       "    <tr>\n",
       "      <th>Kılınç</th>\n",
       "      <td>0.114124</td>\n",
       "      <td>-1.326070</td>\n",
       "      <td>0.389721</td>\n",
       "      <td>-0.936349</td>\n",
       "    </tr>\n",
       "  </tbody>\n",
       "</table>\n",
       "</div>"
      ],
      "text/plain": [
       "             Yaş     Şehir      Araç      Borç\n",
       "Tolga   1.492893  0.615813  0.640093  1.255906\n",
       "Furkan  0.027908 -0.000995 -0.272862 -0.273857\n",
       "Kılınç  0.114124 -1.326070  0.389721 -0.936349"
      ]
     },
     "execution_count": 30,
     "metadata": {},
     "output_type": "execute_result"
    }
   ],
   "source": [
    "yeniFrame.drop(\"Mail\",axis= 1)"
   ]
  },
  {
   "cell_type": "code",
   "execution_count": 31,
   "id": "2dce1c91",
   "metadata": {},
   "outputs": [
    {
     "data": {
      "text/html": [
       "<div>\n",
       "<style scoped>\n",
       "    .dataframe tbody tr th:only-of-type {\n",
       "        vertical-align: middle;\n",
       "    }\n",
       "\n",
       "    .dataframe tbody tr th {\n",
       "        vertical-align: top;\n",
       "    }\n",
       "\n",
       "    .dataframe thead th {\n",
       "        text-align: right;\n",
       "    }\n",
       "</style>\n",
       "<table border=\"1\" class=\"dataframe\">\n",
       "  <thead>\n",
       "    <tr style=\"text-align: right;\">\n",
       "      <th></th>\n",
       "      <th>Yaş</th>\n",
       "      <th>Şehir</th>\n",
       "      <th>Mail</th>\n",
       "      <th>Araç</th>\n",
       "      <th>Borç</th>\n",
       "    </tr>\n",
       "  </thead>\n",
       "  <tbody>\n",
       "    <tr>\n",
       "      <th>Tolga</th>\n",
       "      <td>1.492893</td>\n",
       "      <td>0.615813</td>\n",
       "      <td>0.132654</td>\n",
       "      <td>0.640093</td>\n",
       "      <td>1.255906</td>\n",
       "    </tr>\n",
       "    <tr>\n",
       "      <th>Furkan</th>\n",
       "      <td>0.027908</td>\n",
       "      <td>-0.000995</td>\n",
       "      <td>1.427102</td>\n",
       "      <td>-0.272862</td>\n",
       "      <td>-0.273857</td>\n",
       "    </tr>\n",
       "    <tr>\n",
       "      <th>Kılınç</th>\n",
       "      <td>0.114124</td>\n",
       "      <td>-1.326070</td>\n",
       "      <td>1.120691</td>\n",
       "      <td>0.389721</td>\n",
       "      <td>-0.936349</td>\n",
       "    </tr>\n",
       "  </tbody>\n",
       "</table>\n",
       "</div>"
      ],
      "text/plain": [
       "             Yaş     Şehir      Mail      Araç      Borç\n",
       "Tolga   1.492893  0.615813  0.132654  0.640093  1.255906\n",
       "Furkan  0.027908 -0.000995  1.427102 -0.272862 -0.273857\n",
       "Kılınç  0.114124 -1.326070  1.120691  0.389721 -0.936349"
      ]
     },
     "execution_count": 31,
     "metadata": {},
     "output_type": "execute_result"
    }
   ],
   "source": [
    "yeniFrame"
   ]
  },
  {
   "cell_type": "code",
   "execution_count": 32,
   "id": "e597227a",
   "metadata": {},
   "outputs": [],
   "source": [
    "yeniFrame.drop(\"Mail\",axis=1,inplace=True)"
   ]
  },
  {
   "cell_type": "code",
   "execution_count": 33,
   "id": "a3fd686d",
   "metadata": {},
   "outputs": [
    {
     "data": {
      "text/html": [
       "<div>\n",
       "<style scoped>\n",
       "    .dataframe tbody tr th:only-of-type {\n",
       "        vertical-align: middle;\n",
       "    }\n",
       "\n",
       "    .dataframe tbody tr th {\n",
       "        vertical-align: top;\n",
       "    }\n",
       "\n",
       "    .dataframe thead th {\n",
       "        text-align: right;\n",
       "    }\n",
       "</style>\n",
       "<table border=\"1\" class=\"dataframe\">\n",
       "  <thead>\n",
       "    <tr style=\"text-align: right;\">\n",
       "      <th></th>\n",
       "      <th>Yaş</th>\n",
       "      <th>Şehir</th>\n",
       "      <th>Araç</th>\n",
       "      <th>Borç</th>\n",
       "    </tr>\n",
       "  </thead>\n",
       "  <tbody>\n",
       "    <tr>\n",
       "      <th>Tolga</th>\n",
       "      <td>1.492893</td>\n",
       "      <td>0.615813</td>\n",
       "      <td>0.640093</td>\n",
       "      <td>1.255906</td>\n",
       "    </tr>\n",
       "    <tr>\n",
       "      <th>Furkan</th>\n",
       "      <td>0.027908</td>\n",
       "      <td>-0.000995</td>\n",
       "      <td>-0.272862</td>\n",
       "      <td>-0.273857</td>\n",
       "    </tr>\n",
       "    <tr>\n",
       "      <th>Kılınç</th>\n",
       "      <td>0.114124</td>\n",
       "      <td>-1.326070</td>\n",
       "      <td>0.389721</td>\n",
       "      <td>-0.936349</td>\n",
       "    </tr>\n",
       "  </tbody>\n",
       "</table>\n",
       "</div>"
      ],
      "text/plain": [
       "             Yaş     Şehir      Araç      Borç\n",
       "Tolga   1.492893  0.615813  0.640093  1.255906\n",
       "Furkan  0.027908 -0.000995 -0.272862 -0.273857\n",
       "Kılınç  0.114124 -1.326070  0.389721 -0.936349"
      ]
     },
     "execution_count": 33,
     "metadata": {},
     "output_type": "execute_result"
    }
   ],
   "source": [
    "yeniFrame"
   ]
  },
  {
   "cell_type": "code",
   "execution_count": 35,
   "id": "741decd8",
   "metadata": {},
   "outputs": [
    {
     "data": {
      "text/plain": [
       "1.4928929445861245"
      ]
     },
     "execution_count": 35,
     "metadata": {},
     "output_type": "execute_result"
    }
   ],
   "source": [
    "yeniFrame.loc[\"Tolga\"][\"Yaş\"]"
   ]
  },
  {
   "cell_type": "code",
   "execution_count": 36,
   "id": "c57f277c",
   "metadata": {},
   "outputs": [
    {
     "data": {
      "text/html": [
       "<div>\n",
       "<style scoped>\n",
       "    .dataframe tbody tr th:only-of-type {\n",
       "        vertical-align: middle;\n",
       "    }\n",
       "\n",
       "    .dataframe tbody tr th {\n",
       "        vertical-align: top;\n",
       "    }\n",
       "\n",
       "    .dataframe thead th {\n",
       "        text-align: right;\n",
       "    }\n",
       "</style>\n",
       "<table border=\"1\" class=\"dataframe\">\n",
       "  <thead>\n",
       "    <tr style=\"text-align: right;\">\n",
       "      <th></th>\n",
       "      <th>Yaş</th>\n",
       "      <th>Şehir</th>\n",
       "      <th>Araç</th>\n",
       "      <th>Borç</th>\n",
       "    </tr>\n",
       "  </thead>\n",
       "  <tbody>\n",
       "    <tr>\n",
       "      <th>Tolga</th>\n",
       "      <td>False</td>\n",
       "      <td>False</td>\n",
       "      <td>False</td>\n",
       "      <td>False</td>\n",
       "    </tr>\n",
       "    <tr>\n",
       "      <th>Furkan</th>\n",
       "      <td>False</td>\n",
       "      <td>True</td>\n",
       "      <td>True</td>\n",
       "      <td>True</td>\n",
       "    </tr>\n",
       "    <tr>\n",
       "      <th>Kılınç</th>\n",
       "      <td>False</td>\n",
       "      <td>True</td>\n",
       "      <td>False</td>\n",
       "      <td>True</td>\n",
       "    </tr>\n",
       "  </tbody>\n",
       "</table>\n",
       "</div>"
      ],
      "text/plain": [
       "          Yaş  Şehir   Araç   Borç\n",
       "Tolga   False  False  False  False\n",
       "Furkan  False   True   True   True\n",
       "Kılınç  False   True  False   True"
      ]
     },
     "execution_count": 36,
     "metadata": {},
     "output_type": "execute_result"
    }
   ],
   "source": [
    "yeniFrame < 0"
   ]
  },
  {
   "cell_type": "code",
   "execution_count": 38,
   "id": "75c8e615",
   "metadata": {},
   "outputs": [
    {
     "data": {
      "text/html": [
       "<div>\n",
       "<style scoped>\n",
       "    .dataframe tbody tr th:only-of-type {\n",
       "        vertical-align: middle;\n",
       "    }\n",
       "\n",
       "    .dataframe tbody tr th {\n",
       "        vertical-align: top;\n",
       "    }\n",
       "\n",
       "    .dataframe thead th {\n",
       "        text-align: right;\n",
       "    }\n",
       "</style>\n",
       "<table border=\"1\" class=\"dataframe\">\n",
       "  <thead>\n",
       "    <tr style=\"text-align: right;\">\n",
       "      <th></th>\n",
       "      <th>Yaş</th>\n",
       "      <th>Şehir</th>\n",
       "      <th>Araç</th>\n",
       "      <th>Borç</th>\n",
       "    </tr>\n",
       "  </thead>\n",
       "  <tbody>\n",
       "    <tr>\n",
       "      <th>Tolga</th>\n",
       "      <td>1.492893</td>\n",
       "      <td>0.615813</td>\n",
       "      <td>0.640093</td>\n",
       "      <td>1.255906</td>\n",
       "    </tr>\n",
       "    <tr>\n",
       "      <th>Furkan</th>\n",
       "      <td>0.027908</td>\n",
       "      <td>NaN</td>\n",
       "      <td>NaN</td>\n",
       "      <td>NaN</td>\n",
       "    </tr>\n",
       "    <tr>\n",
       "      <th>Kılınç</th>\n",
       "      <td>0.114124</td>\n",
       "      <td>NaN</td>\n",
       "      <td>0.389721</td>\n",
       "      <td>NaN</td>\n",
       "    </tr>\n",
       "  </tbody>\n",
       "</table>\n",
       "</div>"
      ],
      "text/plain": [
       "             Yaş     Şehir      Araç      Borç\n",
       "Tolga   1.492893  0.615813  0.640093  1.255906\n",
       "Furkan  0.027908       NaN       NaN       NaN\n",
       "Kılınç  0.114124       NaN  0.389721       NaN"
      ]
     },
     "execution_count": 38,
     "metadata": {},
     "output_type": "execute_result"
    }
   ],
   "source": [
    "yeniFrame[yeniFrame > 0]"
   ]
  },
  {
   "cell_type": "code",
   "execution_count": 42,
   "id": "bb9b091e",
   "metadata": {},
   "outputs": [
    {
     "data": {
      "text/html": [
       "<div>\n",
       "<style scoped>\n",
       "    .dataframe tbody tr th:only-of-type {\n",
       "        vertical-align: middle;\n",
       "    }\n",
       "\n",
       "    .dataframe tbody tr th {\n",
       "        vertical-align: top;\n",
       "    }\n",
       "\n",
       "    .dataframe thead th {\n",
       "        text-align: right;\n",
       "    }\n",
       "</style>\n",
       "<table border=\"1\" class=\"dataframe\">\n",
       "  <thead>\n",
       "    <tr style=\"text-align: right;\">\n",
       "      <th></th>\n",
       "      <th>Yaş</th>\n",
       "      <th>Şehir</th>\n",
       "      <th>Araç</th>\n",
       "      <th>Borç</th>\n",
       "    </tr>\n",
       "  </thead>\n",
       "  <tbody>\n",
       "    <tr>\n",
       "      <th>Furkan</th>\n",
       "      <td>0.027908</td>\n",
       "      <td>-0.000995</td>\n",
       "      <td>-0.272862</td>\n",
       "      <td>-0.273857</td>\n",
       "    </tr>\n",
       "    <tr>\n",
       "      <th>Kılınç</th>\n",
       "      <td>0.114124</td>\n",
       "      <td>-1.326070</td>\n",
       "      <td>0.389721</td>\n",
       "      <td>-0.936349</td>\n",
       "    </tr>\n",
       "  </tbody>\n",
       "</table>\n",
       "</div>"
      ],
      "text/plain": [
       "             Yaş     Şehir      Araç      Borç\n",
       "Furkan  0.027908 -0.000995 -0.272862 -0.273857\n",
       "Kılınç  0.114124 -1.326070  0.389721 -0.936349"
      ]
     },
     "execution_count": 42,
     "metadata": {},
     "output_type": "execute_result"
    }
   ],
   "source": [
    "yeniFrame[yeniFrame[\"Yaş\"] < 1]"
   ]
  },
  {
   "cell_type": "code",
   "execution_count": 44,
   "id": "1ba5a206",
   "metadata": {},
   "outputs": [],
   "source": [
    "yeniFrame.reset_index(inplace=True)"
   ]
  },
  {
   "cell_type": "code",
   "execution_count": 45,
   "id": "3e1ac12b",
   "metadata": {},
   "outputs": [
    {
     "data": {
      "text/html": [
       "<div>\n",
       "<style scoped>\n",
       "    .dataframe tbody tr th:only-of-type {\n",
       "        vertical-align: middle;\n",
       "    }\n",
       "\n",
       "    .dataframe tbody tr th {\n",
       "        vertical-align: top;\n",
       "    }\n",
       "\n",
       "    .dataframe thead th {\n",
       "        text-align: right;\n",
       "    }\n",
       "</style>\n",
       "<table border=\"1\" class=\"dataframe\">\n",
       "  <thead>\n",
       "    <tr style=\"text-align: right;\">\n",
       "      <th></th>\n",
       "      <th>index</th>\n",
       "      <th>Yaş</th>\n",
       "      <th>Şehir</th>\n",
       "      <th>Araç</th>\n",
       "      <th>Borç</th>\n",
       "    </tr>\n",
       "  </thead>\n",
       "  <tbody>\n",
       "    <tr>\n",
       "      <th>0</th>\n",
       "      <td>Tolga</td>\n",
       "      <td>1.492893</td>\n",
       "      <td>0.615813</td>\n",
       "      <td>0.640093</td>\n",
       "      <td>1.255906</td>\n",
       "    </tr>\n",
       "    <tr>\n",
       "      <th>1</th>\n",
       "      <td>Furkan</td>\n",
       "      <td>0.027908</td>\n",
       "      <td>-0.000995</td>\n",
       "      <td>-0.272862</td>\n",
       "      <td>-0.273857</td>\n",
       "    </tr>\n",
       "    <tr>\n",
       "      <th>2</th>\n",
       "      <td>Kılınç</td>\n",
       "      <td>0.114124</td>\n",
       "      <td>-1.326070</td>\n",
       "      <td>0.389721</td>\n",
       "      <td>-0.936349</td>\n",
       "    </tr>\n",
       "  </tbody>\n",
       "</table>\n",
       "</div>"
      ],
      "text/plain": [
       "    index       Yaş     Şehir      Araç      Borç\n",
       "0   Tolga  1.492893  0.615813  0.640093  1.255906\n",
       "1  Furkan  0.027908 -0.000995 -0.272862 -0.273857\n",
       "2  Kılınç  0.114124 -1.326070  0.389721 -0.936349"
      ]
     },
     "execution_count": 45,
     "metadata": {},
     "output_type": "execute_result"
    }
   ],
   "source": [
    "yeniFrame"
   ]
  }
 ],
 "metadata": {
  "kernelspec": {
   "display_name": "Python 3 (ipykernel)",
   "language": "python",
   "name": "python3"
  },
  "language_info": {
   "codemirror_mode": {
    "name": "ipython",
    "version": 3
   },
   "file_extension": ".py",
   "mimetype": "text/x-python",
   "name": "python",
   "nbconvert_exporter": "python",
   "pygments_lexer": "ipython3",
   "version": "3.9.12"
  }
 },
 "nbformat": 4,
 "nbformat_minor": 5
}
