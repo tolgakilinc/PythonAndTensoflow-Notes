{
 "cells": [
  {
   "cell_type": "markdown",
   "id": "f4305803",
   "metadata": {},
   "source": [
    "## Listeler Giriş"
   ]
  },
  {
   "cell_type": "code",
   "execution_count": 1,
   "id": "9681aaa5",
   "metadata": {},
   "outputs": [],
   "source": [
    "stringYeni = \"Selam Bebek\""
   ]
  },
  {
   "cell_type": "code",
   "execution_count": 2,
   "id": "ca6f336d",
   "metadata": {},
   "outputs": [
    {
     "data": {
      "text/plain": [
       "'S'"
      ]
     },
     "execution_count": 2,
     "metadata": {},
     "output_type": "execute_result"
    }
   ],
   "source": [
    "stringYeni[0]"
   ]
  },
  {
   "cell_type": "markdown",
   "id": "c8ca62b0",
   "metadata": {},
   "source": [
    "## immutability (değişmezlik) & mutable (değişebilirlik)"
   ]
  },
  {
   "cell_type": "markdown",
   "id": "8b1965fa",
   "metadata": {},
   "source": [
    "## Listelerde değişebilirlik var stringte değişmezlik yok"
   ]
  },
  {
   "cell_type": "code",
   "execution_count": 3,
   "id": "f8f1e8b5",
   "metadata": {},
   "outputs": [],
   "source": [
    "# stringYeni[0] = \"B\" DEĞİŞMEZ."
   ]
  },
  {
   "cell_type": "code",
   "execution_count": 4,
   "id": "90335751",
   "metadata": {},
   "outputs": [],
   "source": [
    "ilkListe = [10,20,30,40]"
   ]
  },
  {
   "cell_type": "code",
   "execution_count": 5,
   "id": "2283fbc3",
   "metadata": {},
   "outputs": [
    {
     "data": {
      "text/plain": [
       "[10, 20, 30, 40]"
      ]
     },
     "execution_count": 5,
     "metadata": {},
     "output_type": "execute_result"
    }
   ],
   "source": [
    "ilkListe"
   ]
  },
  {
   "cell_type": "code",
   "execution_count": 6,
   "id": "92a62135",
   "metadata": {},
   "outputs": [
    {
     "data": {
      "text/plain": [
       "list"
      ]
     },
     "execution_count": 6,
     "metadata": {},
     "output_type": "execute_result"
    }
   ],
   "source": [
    "type(ilkListe)"
   ]
  },
  {
   "cell_type": "code",
   "execution_count": 7,
   "id": "29132582",
   "metadata": {},
   "outputs": [],
   "source": [
    "benimNumaram = 10\n",
    "benimDigerNumaram = 20"
   ]
  },
  {
   "cell_type": "code",
   "execution_count": 8,
   "id": "4e14996d",
   "metadata": {},
   "outputs": [],
   "source": [
    "benimNumaraListem = [benimNumaram,benimDigerNumaram]"
   ]
  },
  {
   "cell_type": "code",
   "execution_count": 9,
   "id": "2b4fcddd",
   "metadata": {},
   "outputs": [
    {
     "data": {
      "text/plain": [
       "[10, 20]"
      ]
     },
     "execution_count": 9,
     "metadata": {},
     "output_type": "execute_result"
    }
   ],
   "source": [
    "benimNumaraListem"
   ]
  },
  {
   "cell_type": "code",
   "execution_count": 10,
   "id": "f551a53c",
   "metadata": {},
   "outputs": [
    {
     "data": {
      "text/plain": [
       "[10, 20, 30, 40]"
      ]
     },
     "execution_count": 10,
     "metadata": {},
     "output_type": "execute_result"
    }
   ],
   "source": [
    "ilkListe\n"
   ]
  },
  {
   "cell_type": "code",
   "execution_count": 11,
   "id": "35c1b509",
   "metadata": {},
   "outputs": [
    {
     "data": {
      "text/plain": [
       "10"
      ]
     },
     "execution_count": 11,
     "metadata": {},
     "output_type": "execute_result"
    }
   ],
   "source": [
    "ilkListe[0]"
   ]
  },
  {
   "cell_type": "code",
   "execution_count": 12,
   "id": "21c94556",
   "metadata": {},
   "outputs": [],
   "source": [
    "ilkListe[0] = 1"
   ]
  },
  {
   "cell_type": "code",
   "execution_count": 13,
   "id": "e85cd909",
   "metadata": {},
   "outputs": [
    {
     "data": {
      "text/plain": [
       "[1, 20, 30, 40]"
      ]
     },
     "execution_count": 13,
     "metadata": {},
     "output_type": "execute_result"
    }
   ],
   "source": [
    "ilkListe"
   ]
  },
  {
   "cell_type": "code",
   "execution_count": 14,
   "id": "24febefe",
   "metadata": {},
   "outputs": [],
   "source": [
    "ilkListe.append(50)"
   ]
  },
  {
   "cell_type": "code",
   "execution_count": 15,
   "id": "a9040279",
   "metadata": {},
   "outputs": [
    {
     "data": {
      "text/plain": [
       "[1, 20, 30, 40, 50]"
      ]
     },
     "execution_count": 15,
     "metadata": {},
     "output_type": "execute_result"
    }
   ],
   "source": [
    "ilkListe"
   ]
  },
  {
   "cell_type": "code",
   "execution_count": 43,
   "id": "5ce65f08",
   "metadata": {},
   "outputs": [
    {
     "data": {
      "text/plain": [
       "0"
      ]
     },
     "execution_count": 43,
     "metadata": {},
     "output_type": "execute_result"
    }
   ],
   "source": [
    "ilkListe.count(2)\n"
   ]
  },
  {
   "cell_type": "code",
   "execution_count": 17,
   "id": "9f8f01c0",
   "metadata": {},
   "outputs": [
    {
     "data": {
      "text/plain": [
       "0"
      ]
     },
     "execution_count": 17,
     "metadata": {},
     "output_type": "execute_result"
    }
   ],
   "source": [
    "ilkListe.count(2)"
   ]
  },
  {
   "cell_type": "code",
   "execution_count": 18,
   "id": "e051df8d",
   "metadata": {},
   "outputs": [
    {
     "data": {
      "text/plain": [
       "[1, 20, 30, 40, 50]"
      ]
     },
     "execution_count": 18,
     "metadata": {},
     "output_type": "execute_result"
    }
   ],
   "source": [
    "ilkListe"
   ]
  },
  {
   "cell_type": "code",
   "execution_count": 19,
   "id": "52afa93f",
   "metadata": {},
   "outputs": [
    {
     "data": {
      "text/plain": [
       "<function list.pop(index=-1, /)>"
      ]
     },
     "execution_count": 19,
     "metadata": {},
     "output_type": "execute_result"
    }
   ],
   "source": [
    "ilkListe.pop"
   ]
  },
  {
   "cell_type": "code",
   "execution_count": 20,
   "id": "698b1ec5",
   "metadata": {},
   "outputs": [
    {
     "data": {
      "text/plain": [
       "50"
      ]
     },
     "execution_count": 20,
     "metadata": {},
     "output_type": "execute_result"
    }
   ],
   "source": [
    "ilkListe.pop()"
   ]
  },
  {
   "cell_type": "code",
   "execution_count": 21,
   "id": "dfc5be20",
   "metadata": {},
   "outputs": [
    {
     "data": {
      "text/plain": [
       "[1, 20, 30, 40]"
      ]
     },
     "execution_count": 21,
     "metadata": {},
     "output_type": "execute_result"
    }
   ],
   "source": [
    "ilkListe\n"
   ]
  },
  {
   "cell_type": "code",
   "execution_count": 22,
   "id": "765266b0",
   "metadata": {},
   "outputs": [],
   "source": [
    "ilkListe.remove(1)"
   ]
  },
  {
   "cell_type": "code",
   "execution_count": 23,
   "id": "9b48c9d2",
   "metadata": {},
   "outputs": [
    {
     "data": {
      "text/plain": [
       "[20, 30, 40]"
      ]
     },
     "execution_count": 23,
     "metadata": {},
     "output_type": "execute_result"
    }
   ],
   "source": [
    "ilkListe"
   ]
  },
  {
   "cell_type": "code",
   "execution_count": 24,
   "id": "d5dc7fa2",
   "metadata": {},
   "outputs": [
    {
     "data": {
      "text/plain": [
       "1"
      ]
     },
     "execution_count": 24,
     "metadata": {},
     "output_type": "execute_result"
    }
   ],
   "source": [
    "\n",
    "ilkListe.count(20)"
   ]
  },
  {
   "cell_type": "code",
   "execution_count": 25,
   "id": "3210a22c",
   "metadata": {},
   "outputs": [],
   "source": [
    "ilkListe.append(10)"
   ]
  },
  {
   "cell_type": "code",
   "execution_count": 26,
   "id": "dc86c1e9",
   "metadata": {},
   "outputs": [
    {
     "data": {
      "text/plain": [
       "[20, 30, 40, 10]"
      ]
     },
     "execution_count": 26,
     "metadata": {},
     "output_type": "execute_result"
    }
   ],
   "source": [
    "ilkListe"
   ]
  },
  {
   "cell_type": "code",
   "execution_count": 27,
   "id": "f4f00e0a",
   "metadata": {},
   "outputs": [],
   "source": [
    "stringListem = [\"tolga\" , \"furkan\" , \"kılınç\"]"
   ]
  },
  {
   "cell_type": "code",
   "execution_count": 28,
   "id": "d1a51f91",
   "metadata": {},
   "outputs": [
    {
     "data": {
      "text/plain": [
       "['tolga', 'furkan', 'kılınç']"
      ]
     },
     "execution_count": 28,
     "metadata": {},
     "output_type": "execute_result"
    }
   ],
   "source": [
    "stringListem"
   ]
  },
  {
   "cell_type": "code",
   "execution_count": 29,
   "id": "e65e2af7",
   "metadata": {},
   "outputs": [
    {
     "data": {
      "text/plain": [
       "['tolga', 'furkan', 'kılınç', 20, 30, 40, 10]"
      ]
     },
     "execution_count": 29,
     "metadata": {},
     "output_type": "execute_result"
    }
   ],
   "source": [
    "stringListem + ilkListe"
   ]
  },
  {
   "cell_type": "code",
   "execution_count": 30,
   "id": "a070e335",
   "metadata": {},
   "outputs": [],
   "source": [
    "toplamListe = stringListem + ilkListe"
   ]
  },
  {
   "cell_type": "code",
   "execution_count": 31,
   "id": "23f8e2ac",
   "metadata": {},
   "outputs": [
    {
     "data": {
      "text/plain": [
       "['tolga', 'furkan', 'kılınç', 20, 30, 40, 10]"
      ]
     },
     "execution_count": 31,
     "metadata": {},
     "output_type": "execute_result"
    }
   ],
   "source": [
    "toplamListe"
   ]
  },
  {
   "cell_type": "markdown",
   "id": "6c12cf5f",
   "metadata": {},
   "source": [
    "# iç içe liste kullanımı (nestedList)"
   ]
  },
  {
   "cell_type": "code",
   "execution_count": 32,
   "id": "bfd4e352",
   "metadata": {},
   "outputs": [],
   "source": [
    "nestedList = [1 , 5 , \"tolga\",4,[6,\"z\"]]"
   ]
  },
  {
   "cell_type": "code",
   "execution_count": 33,
   "id": "093c0a90",
   "metadata": {},
   "outputs": [
    {
     "data": {
      "text/plain": [
       "[1, 5, 'tolga', 4, [6, 'z']]"
      ]
     },
     "execution_count": 33,
     "metadata": {},
     "output_type": "execute_result"
    }
   ],
   "source": [
    "nestedList"
   ]
  },
  {
   "cell_type": "code",
   "execution_count": 34,
   "id": "9a435262",
   "metadata": {},
   "outputs": [],
   "source": [
    "icListe = nestedList[4]\n",
    "zDegeri = icListe[1]"
   ]
  },
  {
   "cell_type": "code",
   "execution_count": 35,
   "id": "7a0f22bb",
   "metadata": {},
   "outputs": [
    {
     "data": {
      "text/plain": [
       "'z'"
      ]
     },
     "execution_count": 35,
     "metadata": {},
     "output_type": "execute_result"
    }
   ],
   "source": [
    "zDegeri"
   ]
  },
  {
   "cell_type": "code",
   "execution_count": 36,
   "id": "46129c3c",
   "metadata": {},
   "outputs": [],
   "source": [
    "zDegiskeni = nestedList[4][1]"
   ]
  },
  {
   "cell_type": "code",
   "execution_count": 37,
   "id": "342e5d7b",
   "metadata": {},
   "outputs": [
    {
     "data": {
      "text/plain": [
       "'z'"
      ]
     },
     "execution_count": 37,
     "metadata": {},
     "output_type": "execute_result"
    }
   ],
   "source": [
    "zDegiskeni"
   ]
  },
  {
   "cell_type": "code",
   "execution_count": 38,
   "id": "2abe625e",
   "metadata": {},
   "outputs": [],
   "source": [
    "karmasikListe = [[1,2,3,[\"a\",\"b\"],50],40,20,[\"z\",5.5],[3,[\"a\"]]]"
   ]
  },
  {
   "cell_type": "code",
   "execution_count": 39,
   "id": "4b197f1b",
   "metadata": {},
   "outputs": [
    {
     "data": {
      "text/plain": [
       "'b'"
      ]
     },
     "execution_count": 39,
     "metadata": {},
     "output_type": "execute_result"
    }
   ],
   "source": [
    "bDegeri = karmasikListe[0][3][1]\n",
    "bDegeri"
   ]
  },
  {
   "cell_type": "code",
   "execution_count": 40,
   "id": "d2d5e66d",
   "metadata": {},
   "outputs": [
    {
     "data": {
      "text/plain": [
       "'z'"
      ]
     },
     "execution_count": 40,
     "metadata": {},
     "output_type": "execute_result"
    }
   ],
   "source": [
    "karmasikListe[3][0]"
   ]
  },
  {
   "cell_type": "code",
   "execution_count": 41,
   "id": "28b40bc6",
   "metadata": {},
   "outputs": [
    {
     "data": {
      "text/plain": [
       "[20, 40, [1, 2, 3, ['a', 'b'], 50]]"
      ]
     },
     "execution_count": 41,
     "metadata": {},
     "output_type": "execute_result"
    }
   ],
   "source": [
    "karmasikListe[2::-1]"
   ]
  }
 ],
 "metadata": {
  "kernelspec": {
   "display_name": "Python 3 (ipykernel)",
   "language": "python",
   "name": "python3"
  },
  "language_info": {
   "codemirror_mode": {
    "name": "ipython",
    "version": 3
   },
   "file_extension": ".py",
   "mimetype": "text/x-python",
   "name": "python",
   "nbconvert_exporter": "python",
   "pygments_lexer": "ipython3",
   "version": "3.9.12"
  }
 },
 "nbformat": 4,
 "nbformat_minor": 5
}
