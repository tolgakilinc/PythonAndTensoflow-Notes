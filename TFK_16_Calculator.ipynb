{
 "cells": [
  {
   "cell_type": "code",
   "execution_count": null,
   "id": "e080d1f3",
   "metadata": {},
   "outputs": [],
   "source": [
    "def Calculator(num1,num2,solution):\n",
    "    if solution not in \"+-*/\":\n",
    "        return \"Geçerli değerler giriniz\"\n",
    "    if solution == \"+\":\n",
    "        return num1 + num2\n",
    "    if solution == \"-\":\n",
    "        return num1 - num2\n",
    "    if solution == \"*\":\n",
    "        return num1 * num2\n",
    "    if solution == \"/\":\n",
    "        return num1 / num2\n",
    "    \n",
    "    else:\"hata!!\"\n",
    "        \n",
    "while True:\n",
    "    try:\n",
    "        num1 = int(input(\"1. sayıyı giriniz :\"))\n",
    "        num2 = int(input(\"2. sayıyı giriniz :\"))\n",
    "        solution = input(\"+-/* değerleri giriniz.\")\n",
    "        print(\"İşlemin Sonucu : \" + str(Calculator(num1,num2,solution)))\n",
    "    except:\n",
    "        print(\"Lütfen tam sayı değerlerini giriniz.\")"
   ]
  },
  {
   "cell_type": "code",
   "execution_count": null,
   "id": "7ba5db38",
   "metadata": {},
   "outputs": [],
   "source": []
  }
 ],
 "metadata": {
  "kernelspec": {
   "display_name": "Python 3 (ipykernel)",
   "language": "python",
   "name": "python3"
  },
  "language_info": {
   "codemirror_mode": {
    "name": "ipython",
    "version": 3
   },
   "file_extension": ".py",
   "mimetype": "text/x-python",
   "name": "python",
   "nbconvert_exporter": "python",
   "pygments_lexer": "ipython3",
   "version": "3.9.12"
  }
 },
 "nbformat": 4,
 "nbformat_minor": 5
}
