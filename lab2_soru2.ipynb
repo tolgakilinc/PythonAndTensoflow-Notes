{
 "cells": [
  {
   "cell_type": "code",
   "execution_count": 23,
   "id": "b7b207eb",
   "metadata": {},
   "outputs": [],
   "source": [
    "class Kisi():\n",
    "    def __init__(self,isim,cinsiyet,yas):\n",
    "        self.isim = isim\n",
    "        self.cinsiyet = cinsiyet\n",
    "        self.yas = yas"
   ]
  },
  {
   "cell_type": "code",
   "execution_count": 45,
   "id": "89b50fcb",
   "metadata": {},
   "outputs": [],
   "source": [
    "class Araba(Kisi):\n",
    "    def __init__ (self,sahibi, plaka,uretimYili,durumu,renk,marka,model):\n",
    "        self.plaka = plaka\n",
    "        self.sahibi = sahibi\n",
    "        self.uretimYili = uretimYili\n",
    "        self.durumu = durumu\n",
    "        self.marka = marka\n",
    "        self.model = model\n",
    "    def printAraba():\n",
    "        print(self.plaka)\n",
    "        print(self.sahibi)\n",
    "        print(self.uretimYili)\n",
    "        print(self.durumu)\n",
    "        print(self.marka)\n",
    "        print(self.model)"
   ]
  },
  {
   "cell_type": "code",
   "execution_count": 177,
   "id": "dde187a0",
   "metadata": {},
   "outputs": [],
   "source": [
    "class Arabalar():\n",
    "    arabalar = []\n",
    "    \n",
    "    def ekle(self,araba):\n",
    "        self.arabalar.append(araba)\n",
    "        \n",
    "    def plakaKontrol(self,plakaDeger):   \n",
    "        for araba in self.arabalar:\n",
    "            plakaDeger = input(\"Bir plaka giriniz: \" )\n",
    "            if plakaDeger == \"plaka\":\n",
    "                \"Bu plakaya ait araç bulundu.\"\n",
    "                return True\n",
    "            else:\n",
    "                \"Bu plakaya ait araç yoktur.\"\n",
    "                return False\n",
    "            \n",
    "    def yuzdelikBulma(self):\n",
    "        womanCount = 0\n",
    "        manCount = 0\n",
    "        for araba in self.arabalar:\n",
    "            if str(araba.sahibi.cinsiyet) == \"Kadın\":\n",
    "                womanCount += 1\n",
    "            else:\n",
    "                manCount += 1\n",
    "        return (womanCount / len(self.arabalar) * 100), (manCount / len(self.arabalar) * 100)\n",
    "    \n",
    "    def listele(self):\n",
    "        for araba in self.arabalar:\n",
    "            print(\"Plaka:\", araba.plaka)\n",
    "    "
   ]
  },
  {
   "cell_type": "code",
   "execution_count": 178,
   "id": "c0827ec2",
   "metadata": {},
   "outputs": [],
   "source": [
    "araba1 = Araba(\"plaka\",Kisi(\"Tolga Furkan Kılınç\",\"Erkek\",22),2022,\"Sıfır,\",\"Siyah\",\"Honda\",\"Civic\")\n",
    "araba2 = Araba(\"plaka2\",Kisi(\"Tolga\",\"Erkek\",22),2021,\"Sıfır,\",\"Siyah\",\"Honda\",\"Civic\")\n",
    "araba3 = Araba(\"plaka3\",Kisi(\"Arda Kılınç\",\"Erkek\",22),2024,\"Sıfır,\",\"Siyah\",\"Honda\",\"Civic\")\n",
    "araba4 = Araba(\"plaka4\",Kisi(\"Halil Kılınç\",\"Erkek\",22),2025,\"Sıfır,\",\"Siyah\",\"Honda\",\"Civic\")\n",
    "araba5 = Araba(\"plaka\",Kisi(\"Songül Kılınç\",\"Kadın\",22),2006,\"Sıfır,\",\"Siyah\",\"Honda\",\"Civic\")"
   ]
  },
  {
   "cell_type": "code",
   "execution_count": 179,
   "id": "4ae5ba61",
   "metadata": {},
   "outputs": [],
   "source": [
    "arb = Arabalar()"
   ]
  },
  {
   "cell_type": "code",
   "execution_count": 180,
   "id": "240d9912",
   "metadata": {},
   "outputs": [],
   "source": [
    "arb.ekle(araba1)"
   ]
  },
  {
   "cell_type": "code",
   "execution_count": 181,
   "id": "672b8cf3",
   "metadata": {},
   "outputs": [],
   "source": [
    "arb.ekle(araba2)\n",
    "arb.ekle(araba3)\n",
    "arb.ekle(araba4)\n",
    "arb.ekle(araba5)"
   ]
  },
  {
   "cell_type": "markdown",
   "id": "92a518cc",
   "metadata": {},
   "source": [
    "plakaBul = arb.plakaKontrol()\n",
    "print(plakaBul)"
   ]
  },
  {
   "cell_type": "code",
   "execution_count": 182,
   "id": "f05b81ce",
   "metadata": {},
   "outputs": [
    {
     "ename": "AttributeError",
     "evalue": "'str' object has no attribute 'cinsiyet'",
     "output_type": "error",
     "traceback": [
      "\u001b[1;31m---------------------------------------------------------------------------\u001b[0m",
      "\u001b[1;31mAttributeError\u001b[0m                            Traceback (most recent call last)",
      "Input \u001b[1;32mIn [182]\u001b[0m, in \u001b[0;36m<cell line: 1>\u001b[1;34m()\u001b[0m\n\u001b[1;32m----> 1\u001b[0m (womanPercent,manPercent) \u001b[38;5;241m=\u001b[39m \u001b[43marb\u001b[49m\u001b[38;5;241;43m.\u001b[39;49m\u001b[43myuzdelikBulma\u001b[49m\u001b[43m(\u001b[49m\u001b[43m)\u001b[49m\n",
      "Input \u001b[1;32mIn [177]\u001b[0m, in \u001b[0;36mArabalar.yuzdelikBulma\u001b[1;34m(self)\u001b[0m\n\u001b[0;32m     19\u001b[0m manCount \u001b[38;5;241m=\u001b[39m \u001b[38;5;241m0\u001b[39m\n\u001b[0;32m     20\u001b[0m \u001b[38;5;28;01mfor\u001b[39;00m araba \u001b[38;5;129;01min\u001b[39;00m \u001b[38;5;28mself\u001b[39m\u001b[38;5;241m.\u001b[39marabalar:\n\u001b[1;32m---> 21\u001b[0m     \u001b[38;5;28;01mif\u001b[39;00m \u001b[38;5;28mstr\u001b[39m(\u001b[43maraba\u001b[49m\u001b[38;5;241;43m.\u001b[39;49m\u001b[43msahibi\u001b[49m\u001b[38;5;241;43m.\u001b[39;49m\u001b[43mcinsiyet\u001b[49m) \u001b[38;5;241m==\u001b[39m \u001b[38;5;124m\"\u001b[39m\u001b[38;5;124mKadın\u001b[39m\u001b[38;5;124m\"\u001b[39m:\n\u001b[0;32m     22\u001b[0m         womanCount \u001b[38;5;241m+\u001b[39m\u001b[38;5;241m=\u001b[39m \u001b[38;5;241m1\u001b[39m\n\u001b[0;32m     23\u001b[0m     \u001b[38;5;28;01melse\u001b[39;00m:\n",
      "\u001b[1;31mAttributeError\u001b[0m: 'str' object has no attribute 'cinsiyet'"
     ]
    }
   ],
   "source": [
    "(womanPercent,manPercent) = arb.yuzdelikBulma()"
   ]
  },
  {
   "cell_type": "code",
   "execution_count": 184,
   "id": "e048c52f",
   "metadata": {},
   "outputs": [
    {
     "name": "stdout",
     "output_type": "stream",
     "text": [
      "Plaka: <__main__.Kisi object at 0x00000220BE4D9040>\n",
      "Plaka: <__main__.Kisi object at 0x00000220BE4D9AF0>\n",
      "Plaka: <__main__.Kisi object at 0x00000220BE4D9DF0>\n",
      "Plaka: <__main__.Kisi object at 0x00000220BE4D97F0>\n",
      "Plaka: <__main__.Kisi object at 0x00000220BE4D9550>\n"
     ]
    }
   ],
   "source": [
    "arb.listele()"
   ]
  },
  {
   "cell_type": "code",
   "execution_count": null,
   "id": "b5216386",
   "metadata": {},
   "outputs": [],
   "source": []
  },
  {
   "cell_type": "code",
   "execution_count": null,
   "id": "6d93b7b3",
   "metadata": {},
   "outputs": [],
   "source": []
  }
 ],
 "metadata": {
  "kernelspec": {
   "display_name": "Python 3 (ipykernel)",
   "language": "python",
   "name": "python3"
  },
  "language_info": {
   "codemirror_mode": {
    "name": "ipython",
    "version": 3
   },
   "file_extension": ".py",
   "mimetype": "text/x-python",
   "name": "python",
   "nbconvert_exporter": "python",
   "pygments_lexer": "ipython3",
   "version": "3.9.12"
  }
 },
 "nbformat": 4,
 "nbformat_minor": 5
}
