{
 "cells": [
  {
   "cell_type": "code",
   "execution_count": 3,
   "id": "b54227fd",
   "metadata": {},
   "outputs": [],
   "source": [
    "import numpy as np\n",
    "import pandas as pd"
   ]
  },
  {
   "cell_type": "markdown",
   "id": "c5e4783a",
   "metadata": {},
   "source": [
    "## Series / Seriler"
   ]
  },
  {
   "cell_type": "code",
   "execution_count": 4,
   "id": "c777162e",
   "metadata": {},
   "outputs": [],
   "source": [
    "ilkSozluk = {\"Tolga\":22,\"Halil\":50,\"Songül\":45,\"Arda\":17}"
   ]
  },
  {
   "cell_type": "code",
   "execution_count": 7,
   "id": "abd8e7ee",
   "metadata": {},
   "outputs": [
    {
     "data": {
      "text/plain": [
       "Tolga     22\n",
       "Halil     50\n",
       "Songül    45\n",
       "Arda      17\n",
       "dtype: int64"
      ]
     },
     "execution_count": 7,
     "metadata": {},
     "output_type": "execute_result"
    }
   ],
   "source": [
    "pd.Series(ilkSozluk)"
   ]
  },
  {
   "cell_type": "code",
   "execution_count": 6,
   "id": "49b8f20c",
   "metadata": {},
   "outputs": [
    {
     "data": {
      "text/plain": [
       "pandas.core.series.Series"
      ]
     },
     "execution_count": 6,
     "metadata": {},
     "output_type": "execute_result"
    }
   ],
   "source": [
    "type(pd.Series(ilkSozluk))"
   ]
  },
  {
   "cell_type": "code",
   "execution_count": 15,
   "id": "cd8c2828",
   "metadata": {},
   "outputs": [],
   "source": [
    "benimYaslarım = [22,23,24]\n",
    "benimAdlarım = [\"Tolga\",\"Furkan\",\"Kılınç\"]"
   ]
  },
  {
   "cell_type": "code",
   "execution_count": 16,
   "id": "7b55ee30",
   "metadata": {},
   "outputs": [
    {
     "data": {
      "text/plain": [
       "0    22\n",
       "1    23\n",
       "2    24\n",
       "dtype: int64"
      ]
     },
     "execution_count": 16,
     "metadata": {},
     "output_type": "execute_result"
    }
   ],
   "source": [
    "pd.Series(benimYaslarım)"
   ]
  },
  {
   "cell_type": "code",
   "execution_count": 17,
   "id": "fbb56e03",
   "metadata": {},
   "outputs": [
    {
     "data": {
      "text/plain": [
       "0     Tolga\n",
       "1    Furkan\n",
       "2    Kılınç\n",
       "dtype: object"
      ]
     },
     "execution_count": 17,
     "metadata": {},
     "output_type": "execute_result"
    }
   ],
   "source": [
    "pd.Series(benimAdlarım)"
   ]
  },
  {
   "cell_type": "code",
   "execution_count": 18,
   "id": "b8323fae",
   "metadata": {},
   "outputs": [
    {
     "data": {
      "text/plain": [
       "Tolga     22\n",
       "Furkan    23\n",
       "Kılınç    24\n",
       "dtype: int64"
      ]
     },
     "execution_count": 18,
     "metadata": {},
     "output_type": "execute_result"
    }
   ],
   "source": [
    "pd.Series(benimYaslarım,benimAdlarım)"
   ]
  },
  {
   "cell_type": "code",
   "execution_count": 19,
   "id": "78705d36",
   "metadata": {},
   "outputs": [
    {
     "data": {
      "text/plain": [
       "Tolga     22\n",
       "Furkan    23\n",
       "Kılınç    24\n",
       "dtype: int64"
      ]
     },
     "execution_count": 19,
     "metadata": {},
     "output_type": "execute_result"
    }
   ],
   "source": [
    "pd.Series(data = benimYaslarım, index=benimAdlarım)"
   ]
  },
  {
   "cell_type": "code",
   "execution_count": 20,
   "id": "44fe1dfd",
   "metadata": {},
   "outputs": [],
   "source": [
    "numpyDizisi = np.array([50,40,30])"
   ]
  },
  {
   "cell_type": "code",
   "execution_count": 21,
   "id": "5465b0b9",
   "metadata": {},
   "outputs": [
    {
     "data": {
      "text/plain": [
       "array([50, 40, 30])"
      ]
     },
     "execution_count": 21,
     "metadata": {},
     "output_type": "execute_result"
    }
   ],
   "source": [
    "numpyDizisi"
   ]
  },
  {
   "cell_type": "code",
   "execution_count": 22,
   "id": "74ccdbfe",
   "metadata": {},
   "outputs": [
    {
     "data": {
      "text/plain": [
       "0    50\n",
       "1    40\n",
       "2    30\n",
       "dtype: int32"
      ]
     },
     "execution_count": 22,
     "metadata": {},
     "output_type": "execute_result"
    }
   ],
   "source": [
    "pd.Series(numpyDizisi)"
   ]
  },
  {
   "cell_type": "code",
   "execution_count": 23,
   "id": "be9e0728",
   "metadata": {},
   "outputs": [
    {
     "data": {
      "text/plain": [
       "Tolga     50\n",
       "Furkan    40\n",
       "Kılınç    30\n",
       "dtype: int32"
      ]
     },
     "execution_count": 23,
     "metadata": {},
     "output_type": "execute_result"
    }
   ],
   "source": [
    "pd.Series(numpyDizisi,benimAdlarım)"
   ]
  },
  {
   "cell_type": "code",
   "execution_count": 28,
   "id": "a3cc1ebd",
   "metadata": {},
   "outputs": [
    {
     "data": {
      "text/plain": [
       "1     Tolga\n",
       "2    Furkan\n",
       "3    Kılınç\n",
       "dtype: object"
      ]
     },
     "execution_count": 28,
     "metadata": {},
     "output_type": "execute_result"
    }
   ],
   "source": [
    "pd.Series([\"Tolga\",\"Furkan\",\"Kılınç\"],index=[1,2,3])"
   ]
  },
  {
   "cell_type": "code",
   "execution_count": 30,
   "id": "01edb64c",
   "metadata": {},
   "outputs": [],
   "source": [
    "yarısmaSonuc = pd.Series([10,5,1],[\"Tolga\",\"Furkan\",\"Kılnç\"])"
   ]
  },
  {
   "cell_type": "code",
   "execution_count": 4,
   "id": "7fd761c4",
   "metadata": {},
   "outputs": [],
   "source": [
    "yarisma1 = pd.Series([1,2,3],[\"Tolga\",\"Furkan\",\"Kılınç\"])"
   ]
  },
  {
   "cell_type": "code",
   "execution_count": 6,
   "id": "83df9769",
   "metadata": {},
   "outputs": [],
   "source": [
    "yarisma2 = pd.Series([2,3,10],[\"Furkan\",\"Tolga\",\"Kılınç\"])"
   ]
  },
  {
   "cell_type": "code",
   "execution_count": 7,
   "id": "1321bef0",
   "metadata": {},
   "outputs": [],
   "source": [
    "yarismaSonucu = yarisma1 + yarisma2"
   ]
  },
  {
   "cell_type": "code",
   "execution_count": 8,
   "id": "b13ee671",
   "metadata": {},
   "outputs": [
    {
     "data": {
      "text/plain": [
       "Furkan     4\n",
       "Kılınç    13\n",
       "Tolga      4\n",
       "dtype: int64"
      ]
     },
     "execution_count": 8,
     "metadata": {},
     "output_type": "execute_result"
    }
   ],
   "source": [
    "yarismaSonucu"
   ]
  },
  {
   "cell_type": "code",
   "execution_count": 11,
   "id": "c8ae7ad9",
   "metadata": {},
   "outputs": [],
   "source": [
    "tekYaris = pd.Series([10,20,30],[\"Tolga\",\"Ali\",\"Mustafa\"])"
   ]
  },
  {
   "cell_type": "code",
   "execution_count": 13,
   "id": "f635d559",
   "metadata": {},
   "outputs": [],
   "source": [
    "ciftYaris = pd.Series([20,10,130],[\"Ali\",\"Mostafa\",\"Tolga\"])"
   ]
  },
  {
   "cell_type": "code",
   "execution_count": 14,
   "id": "e9991458",
   "metadata": {},
   "outputs": [],
   "source": [
    "toplamYaris = tekYaris + ciftYaris"
   ]
  },
  {
   "cell_type": "code",
   "execution_count": 15,
   "id": "76613f7c",
   "metadata": {},
   "outputs": [
    {
     "data": {
      "text/plain": [
       "Ali         40.0\n",
       "Mostafa      NaN\n",
       "Mustafa      NaN\n",
       "Tolga      140.0\n",
       "dtype: float64"
      ]
     },
     "execution_count": 15,
     "metadata": {},
     "output_type": "execute_result"
    }
   ],
   "source": [
    "toplamYaris"
   ]
  },
  {
   "cell_type": "code",
   "execution_count": null,
   "id": "862d13b3",
   "metadata": {},
   "outputs": [],
   "source": []
  }
 ],
 "metadata": {
  "kernelspec": {
   "display_name": "Python 3 (ipykernel)",
   "language": "python",
   "name": "python3"
  },
  "language_info": {
   "codemirror_mode": {
    "name": "ipython",
    "version": 3
   },
   "file_extension": ".py",
   "mimetype": "text/x-python",
   "name": "python",
   "nbconvert_exporter": "python",
   "pygments_lexer": "ipython3",
   "version": "3.9.12"
  }
 },
 "nbformat": 4,
 "nbformat_minor": 5
}
