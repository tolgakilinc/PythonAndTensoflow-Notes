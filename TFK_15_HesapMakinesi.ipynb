{
 "cells": [
  {
   "cell_type": "code",
   "execution_count": 5,
   "id": "eb92fd3f",
   "metadata": {},
   "outputs": [
    {
     "name": "stdout",
     "output_type": "stream",
     "text": [
      "Lütfen işlem yapmak istediğiniz sayıyı giriniz :25\n",
      "Lütfen işlem yapmak istediğiniz 2.sayıyı giriniz :2\n",
      "lütfen hangi operatörle işlem yapmak istediğinizi seçiniz {+}{-}{*}{/}*\n"
     ]
    }
   ],
   "source": [
    "num1 = input(\"Lütfen işlem yapmak istediğiniz sayıyı giriniz :\")\n",
    "num2 = input(\"Lütfen işlem yapmak istediğiniz 2.sayıyı giriniz :\")\n",
    "islem = input(\"lütfen hangi operatörle işlem yapmak istediğinizi seçiniz {+}{-}{*}{/}\")"
   ]
  },
  {
   "cell_type": "code",
   "execution_count": 6,
   "id": "65b97d95",
   "metadata": {},
   "outputs": [
    {
     "name": "stdout",
     "output_type": "stream",
     "text": [
      "50\n"
     ]
    }
   ],
   "source": [
    "\n",
    "    if islem == \"+\":\n",
    "        sonuc = int(num1) + int(num2)\n",
    "    elif islem == \"-\":\n",
    "        sonuc = int(num1) - int(num2)\n",
    "    elif islem == \"*\":\n",
    "        sonuc = int(num1) * int(num2)\n",
    "    elif islem == \"/\":\n",
    "        sonuc = int(num1) / int(num2)\n",
    "    else: print(\"Lütfen geçerli operatör seçiniz {+}{-}{*}{/}\")\n",
    "print(sonuc)\n",
    "    \n"
   ]
  },
  {
   "cell_type": "code",
   "execution_count": null,
   "id": "bb102cc3",
   "metadata": {},
   "outputs": [],
   "source": []
  },
  {
   "cell_type": "code",
   "execution_count": null,
   "id": "ae5180a9",
   "metadata": {},
   "outputs": [],
   "source": []
  },
  {
   "cell_type": "code",
   "execution_count": null,
   "id": "806054d2",
   "metadata": {},
   "outputs": [],
   "source": []
  },
  {
   "cell_type": "code",
   "execution_count": null,
   "id": "f74753fb",
   "metadata": {},
   "outputs": [],
   "source": []
  }
 ],
 "metadata": {
  "kernelspec": {
   "display_name": "Python 3 (ipykernel)",
   "language": "python",
   "name": "python3"
  },
  "language_info": {
   "codemirror_mode": {
    "name": "ipython",
    "version": 3
   },
   "file_extension": ".py",
   "mimetype": "text/x-python",
   "name": "python",
   "nbconvert_exporter": "python",
   "pygments_lexer": "ipython3",
   "version": "3.9.12"
  }
 },
 "nbformat": 4,
 "nbformat_minor": 5
}
