{
 "cells": [
  {
   "cell_type": "code",
   "execution_count": 1,
   "id": "1fed20e5",
   "metadata": {},
   "outputs": [
    {
     "name": "stdout",
     "output_type": "stream",
     "text": [
      "Lütfen telefon numaranızı giriniz : 12\n",
      "İşlem başarılı\n",
      "Dene.\n"
     ]
    }
   ],
   "source": [
    "while True:\n",
    "    try:\n",
    "        numara = int(input(\"Lütfen telefon numaranızı giriniz : \"))\n",
    "    except:\n",
    "        print(\"Lütfen geçerli bir telefon numarası giriniz.\")\n",
    "        continue\n",
    "    else:\n",
    "        print(\"İşlem başarılı\")\n",
    "        break\n",
    "    finally:\n",
    "        print(\"Dene.\")\n",
    "        "
   ]
  },
  {
   "cell_type": "code",
   "execution_count": null,
   "id": "1577773d",
   "metadata": {},
   "outputs": [],
   "source": []
  }
 ],
 "metadata": {
  "kernelspec": {
   "display_name": "Python 3 (ipykernel)",
   "language": "python",
   "name": "python3"
  },
  "language_info": {
   "codemirror_mode": {
    "name": "ipython",
    "version": 3
   },
   "file_extension": ".py",
   "mimetype": "text/x-python",
   "name": "python",
   "nbconvert_exporter": "python",
   "pygments_lexer": "ipython3",
   "version": "3.9.12"
  }
 },
 "nbformat": 4,
 "nbformat_minor": 5
}
