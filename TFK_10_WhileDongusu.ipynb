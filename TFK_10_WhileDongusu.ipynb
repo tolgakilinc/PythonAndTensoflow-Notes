{
 "cells": [
  {
   "cell_type": "code",
   "execution_count": 37,
   "id": "2e3914ef",
   "metadata": {},
   "outputs": [],
   "source": []
  },
  {
   "cell_type": "code",
   "execution_count": 38,
   "id": "11ee0cbc",
   "metadata": {},
   "outputs": [
    {
     "data": {
      "text/plain": [
       "10"
      ]
     },
     "execution_count": 38,
     "metadata": {},
     "output_type": "execute_result"
    }
   ],
   "source": [
    "a"
   ]
  },
  {
   "cell_type": "code",
   "execution_count": 50,
   "id": "7489a8a7",
   "metadata": {},
   "outputs": [
    {
     "ename": "IndentationError",
     "evalue": "unindent does not match any outer indentation level (<tokenize>, line 6)",
     "output_type": "error",
     "traceback": [
      "\u001b[1;36m  File \u001b[1;32m<tokenize>:6\u001b[1;36m\u001b[0m\n\u001b[1;33m    a = a + 1\u001b[0m\n\u001b[1;37m    ^\u001b[0m\n\u001b[1;31mIndentationError\u001b[0m\u001b[1;31m:\u001b[0m unindent does not match any outer indentation level\n"
     ]
    }
   ],
   "source": [
    "a = 10\n",
    "b = 20\n",
    "while a < b:\n",
    "     #print(str(a) + \" sayisi \" + str(b) + \" sayısından küçüktür.\")\n",
    "     print(f\"{a} sayisi {b} sayisindan küçüktür.\")\n",
    "    a = a + 1"
   ]
  },
  {
   "cell_type": "code",
   "execution_count": 24,
   "id": "fae17611",
   "metadata": {},
   "outputs": [],
   "source": [
    "ilkListe = [1,2,33,4,55,6]"
   ]
  },
  {
   "cell_type": "code",
   "execution_count": 25,
   "id": "eb91cf2f",
   "metadata": {},
   "outputs": [
    {
     "data": {
      "text/plain": [
       "55"
      ]
     },
     "execution_count": 25,
     "metadata": {},
     "output_type": "execute_result"
    }
   ],
   "source": [
    "ilkListe.pop(4)"
   ]
  },
  {
   "cell_type": "code",
   "execution_count": 26,
   "id": "85b6cb46",
   "metadata": {},
   "outputs": [
    {
     "data": {
      "text/plain": [
       "[1, 2, 33, 4, 6]"
      ]
     },
     "execution_count": 26,
     "metadata": {},
     "output_type": "execute_result"
    }
   ],
   "source": [
    "ilkListe"
   ]
  },
  {
   "cell_type": "code",
   "execution_count": 27,
   "id": "566f3cf1",
   "metadata": {},
   "outputs": [],
   "source": [
    "ilkListe.append(33)"
   ]
  },
  {
   "cell_type": "code",
   "execution_count": 28,
   "id": "3d10b63a",
   "metadata": {},
   "outputs": [
    {
     "data": {
      "text/plain": [
       "[1, 2, 33, 4, 6, 33]"
      ]
     },
     "execution_count": 28,
     "metadata": {},
     "output_type": "execute_result"
    }
   ],
   "source": [
    "ilkListe"
   ]
  },
  {
   "cell_type": "code",
   "execution_count": 30,
   "id": "4464bb4c",
   "metadata": {},
   "outputs": [
    {
     "name": "stdout",
     "output_type": "stream",
     "text": [
      "33 listenin içerisinde\n",
      "33 listenin içerisinde\n",
      "33 listenin içerisinde\n",
      "33 listenin içerisinde\n"
     ]
    }
   ],
   "source": [
    "while 33 in ilkListe:\n",
    "    print(\"33 listenin içerisinde\")\n",
    "    ilkListe.pop()"
   ]
  },
  {
   "cell_type": "code",
   "execution_count": 52,
   "id": "5dada06a",
   "metadata": {},
   "outputs": [
    {
     "name": "stdout",
     "output_type": "stream",
     "text": [
      "10 sayisi 20 sayisindan küçüktür.\n",
      "11 sayisi 20 sayisindan küçüktür.\n",
      "12 sayisi 20 sayisindan küçüktür.\n",
      "13 sayisi 20 sayisindan küçüktür.\n",
      "14 sayisi 20 sayisindan küçüktür.\n",
      "15 sayisi 20 sayisindan küçüktür.\n",
      "16 sayisi 20 sayisindan küçüktür.\n",
      "17 sayisi 20 sayisindan küçüktür.\n",
      "18 sayisi 20 sayisindan küçüktür.\n",
      "19 sayisi 20 sayisindan küçüktür.\n"
     ]
    }
   ],
   "source": [
    "a = 10\n",
    "b = 20\n",
    "while a < b:\n",
    "    print(f\"{a} sayisi {b} sayisindan küçüktür.\")\n",
    "    #print(str(a) + \" sayisi \" + str(b) + \" sayısından küçüktür.\")\n",
    "    a = a + 1"
   ]
  },
  {
   "cell_type": "code",
   "execution_count": null,
   "id": "f7adb69d",
   "metadata": {},
   "outputs": [],
   "source": []
  }
 ],
 "metadata": {
  "kernelspec": {
   "display_name": "Python 3 (ipykernel)",
   "language": "python",
   "name": "python3"
  },
  "language_info": {
   "codemirror_mode": {
    "name": "ipython",
    "version": 3
   },
   "file_extension": ".py",
   "mimetype": "text/x-python",
   "name": "python",
   "nbconvert_exporter": "python",
   "pygments_lexer": "ipython3",
   "version": "3.9.12"
  }
 },
 "nbformat": 4,
 "nbformat_minor": 5
}
