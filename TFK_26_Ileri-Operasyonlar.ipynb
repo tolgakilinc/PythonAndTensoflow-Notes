{
 "cells": [
  {
   "cell_type": "code",
   "execution_count": 1,
   "id": "dbc6dfc8",
   "metadata": {},
   "outputs": [],
   "source": [
    "import numpy as np\n",
    "import pandas as pd"
   ]
  },
  {
   "cell_type": "code",
   "execution_count": 2,
   "id": "0ad01b3b",
   "metadata": {},
   "outputs": [],
   "source": [
    "firma = {\"Isim\" : [\"Tolga\",\"Furkan\",\"Kılınç\",\"Arda\"],\n",
    "        \"Departman\" : [\"Yazılım\",\"Satış\",\"Pazarlama\",\"Yazılım\"],\n",
    "        \"Maas\": [200,300,400,500]}"
   ]
  },
  {
   "cell_type": "code",
   "execution_count": 3,
   "id": "01cbf5a4",
   "metadata": {},
   "outputs": [],
   "source": [
    "firmaFrame = pd.DataFrame(firma)"
   ]
  },
  {
   "cell_type": "code",
   "execution_count": 4,
   "id": "698db994",
   "metadata": {},
   "outputs": [
    {
     "data": {
      "text/html": [
       "<div>\n",
       "<style scoped>\n",
       "    .dataframe tbody tr th:only-of-type {\n",
       "        vertical-align: middle;\n",
       "    }\n",
       "\n",
       "    .dataframe tbody tr th {\n",
       "        vertical-align: top;\n",
       "    }\n",
       "\n",
       "    .dataframe thead th {\n",
       "        text-align: right;\n",
       "    }\n",
       "</style>\n",
       "<table border=\"1\" class=\"dataframe\">\n",
       "  <thead>\n",
       "    <tr style=\"text-align: right;\">\n",
       "      <th></th>\n",
       "      <th>Isim</th>\n",
       "      <th>Departman</th>\n",
       "      <th>Maas</th>\n",
       "    </tr>\n",
       "  </thead>\n",
       "  <tbody>\n",
       "    <tr>\n",
       "      <th>0</th>\n",
       "      <td>Tolga</td>\n",
       "      <td>Yazılım</td>\n",
       "      <td>200</td>\n",
       "    </tr>\n",
       "    <tr>\n",
       "      <th>1</th>\n",
       "      <td>Furkan</td>\n",
       "      <td>Satış</td>\n",
       "      <td>300</td>\n",
       "    </tr>\n",
       "    <tr>\n",
       "      <th>2</th>\n",
       "      <td>Kılınç</td>\n",
       "      <td>Pazarlama</td>\n",
       "      <td>400</td>\n",
       "    </tr>\n",
       "    <tr>\n",
       "      <th>3</th>\n",
       "      <td>Arda</td>\n",
       "      <td>Yazılım</td>\n",
       "      <td>500</td>\n",
       "    </tr>\n",
       "  </tbody>\n",
       "</table>\n",
       "</div>"
      ],
      "text/plain": [
       "     Isim  Departman  Maas\n",
       "0   Tolga    Yazılım   200\n",
       "1  Furkan      Satış   300\n",
       "2  Kılınç  Pazarlama   400\n",
       "3    Arda    Yazılım   500"
      ]
     },
     "execution_count": 4,
     "metadata": {},
     "output_type": "execute_result"
    }
   ],
   "source": [
    "firmaFrame"
   ]
  },
  {
   "cell_type": "code",
   "execution_count": 5,
   "id": "857d82a1",
   "metadata": {},
   "outputs": [
    {
     "data": {
      "text/plain": [
       "0      Yazılım\n",
       "1        Satış\n",
       "2    Pazarlama\n",
       "3      Yazılım\n",
       "Name: Departman, dtype: object"
      ]
     },
     "execution_count": 5,
     "metadata": {},
     "output_type": "execute_result"
    }
   ],
   "source": [
    "firmaFrame[\"Departman\"]"
   ]
  },
  {
   "cell_type": "code",
   "execution_count": 6,
   "id": "839a9d6b",
   "metadata": {},
   "outputs": [
    {
     "data": {
      "text/plain": [
       "array(['Yazılım', 'Satış', 'Pazarlama'], dtype=object)"
      ]
     },
     "execution_count": 6,
     "metadata": {},
     "output_type": "execute_result"
    }
   ],
   "source": [
    "firmaFrame[\"Departman\"].unique()"
   ]
  },
  {
   "cell_type": "code",
   "execution_count": 7,
   "id": "1f66400d",
   "metadata": {},
   "outputs": [
    {
     "data": {
      "text/plain": [
       "3"
      ]
     },
     "execution_count": 7,
     "metadata": {},
     "output_type": "execute_result"
    }
   ],
   "source": [
    "firmaFrame[\"Departman\"].nunique()"
   ]
  },
  {
   "cell_type": "code",
   "execution_count": 8,
   "id": "7b0a6438",
   "metadata": {},
   "outputs": [
    {
     "data": {
      "text/plain": [
       "Yazılım      2\n",
       "Satış        1\n",
       "Pazarlama    1\n",
       "Name: Departman, dtype: int64"
      ]
     },
     "execution_count": 8,
     "metadata": {},
     "output_type": "execute_result"
    }
   ],
   "source": [
    "firmaFrame[\"Departman\"].value_counts()"
   ]
  },
  {
   "cell_type": "code",
   "execution_count": 12,
   "id": "dd99c2d0",
   "metadata": {},
   "outputs": [],
   "source": [
    "def bruttenNete(maas):\n",
    "    return maas * 0.66"
   ]
  },
  {
   "cell_type": "code",
   "execution_count": 13,
   "id": "6e63008b",
   "metadata": {},
   "outputs": [
    {
     "data": {
      "text/plain": [
       "0    132.0\n",
       "1    198.0\n",
       "2    264.0\n",
       "3    330.0\n",
       "Name: Maas, dtype: float64"
      ]
     },
     "execution_count": 13,
     "metadata": {},
     "output_type": "execute_result"
    }
   ],
   "source": [
    "firmaFrame[\"Maas\"].apply(bruttenNete)"
   ]
  },
  {
   "cell_type": "code",
   "execution_count": 14,
   "id": "4757216d",
   "metadata": {},
   "outputs": [
    {
     "data": {
      "text/html": [
       "<div>\n",
       "<style scoped>\n",
       "    .dataframe tbody tr th:only-of-type {\n",
       "        vertical-align: middle;\n",
       "    }\n",
       "\n",
       "    .dataframe tbody tr th {\n",
       "        vertical-align: top;\n",
       "    }\n",
       "\n",
       "    .dataframe thead th {\n",
       "        text-align: right;\n",
       "    }\n",
       "</style>\n",
       "<table border=\"1\" class=\"dataframe\">\n",
       "  <thead>\n",
       "    <tr style=\"text-align: right;\">\n",
       "      <th></th>\n",
       "      <th>Isim</th>\n",
       "      <th>Departman</th>\n",
       "      <th>Maas</th>\n",
       "    </tr>\n",
       "  </thead>\n",
       "  <tbody>\n",
       "    <tr>\n",
       "      <th>0</th>\n",
       "      <td>False</td>\n",
       "      <td>False</td>\n",
       "      <td>False</td>\n",
       "    </tr>\n",
       "    <tr>\n",
       "      <th>1</th>\n",
       "      <td>False</td>\n",
       "      <td>False</td>\n",
       "      <td>False</td>\n",
       "    </tr>\n",
       "    <tr>\n",
       "      <th>2</th>\n",
       "      <td>False</td>\n",
       "      <td>False</td>\n",
       "      <td>False</td>\n",
       "    </tr>\n",
       "    <tr>\n",
       "      <th>3</th>\n",
       "      <td>False</td>\n",
       "      <td>False</td>\n",
       "      <td>False</td>\n",
       "    </tr>\n",
       "  </tbody>\n",
       "</table>\n",
       "</div>"
      ],
      "text/plain": [
       "    Isim  Departman   Maas\n",
       "0  False      False  False\n",
       "1  False      False  False\n",
       "2  False      False  False\n",
       "3  False      False  False"
      ]
     },
     "execution_count": 14,
     "metadata": {},
     "output_type": "execute_result"
    }
   ],
   "source": [
    "firmaFrame.isnull()"
   ]
  },
  {
   "cell_type": "code",
   "execution_count": 15,
   "id": "b33a0c38",
   "metadata": {},
   "outputs": [],
   "source": [
    "newData = {\"Karakter Sınıfı\" : [\"SP\",\"SP\",\"Simpson\",\"Simpson\"],\n",
    "           \"Karakter Ismi\" : [\"Cartman\",\"Kenny\",\"Homer\",\"Bart\"],\n",
    "          \"Karakter Yas\" : [9,1,50,20]}"
   ]
  },
  {
   "cell_type": "code",
   "execution_count": 16,
   "id": "09939161",
   "metadata": {},
   "outputs": [],
   "source": [
    "karakterDF = pd.DataFrame(newData)"
   ]
  },
  {
   "cell_type": "code",
   "execution_count": 17,
   "id": "84f2321c",
   "metadata": {},
   "outputs": [
    {
     "data": {
      "text/html": [
       "<div>\n",
       "<style scoped>\n",
       "    .dataframe tbody tr th:only-of-type {\n",
       "        vertical-align: middle;\n",
       "    }\n",
       "\n",
       "    .dataframe tbody tr th {\n",
       "        vertical-align: top;\n",
       "    }\n",
       "\n",
       "    .dataframe thead th {\n",
       "        text-align: right;\n",
       "    }\n",
       "</style>\n",
       "<table border=\"1\" class=\"dataframe\">\n",
       "  <thead>\n",
       "    <tr style=\"text-align: right;\">\n",
       "      <th></th>\n",
       "      <th>Karakter Sınıfı</th>\n",
       "      <th>Karakter Ismi</th>\n",
       "      <th>Karakter Yas</th>\n",
       "    </tr>\n",
       "  </thead>\n",
       "  <tbody>\n",
       "    <tr>\n",
       "      <th>0</th>\n",
       "      <td>SP</td>\n",
       "      <td>Cartman</td>\n",
       "      <td>9</td>\n",
       "    </tr>\n",
       "    <tr>\n",
       "      <th>1</th>\n",
       "      <td>SP</td>\n",
       "      <td>Kenny</td>\n",
       "      <td>1</td>\n",
       "    </tr>\n",
       "    <tr>\n",
       "      <th>2</th>\n",
       "      <td>Simpson</td>\n",
       "      <td>Homer</td>\n",
       "      <td>50</td>\n",
       "    </tr>\n",
       "    <tr>\n",
       "      <th>3</th>\n",
       "      <td>Simpson</td>\n",
       "      <td>Bart</td>\n",
       "      <td>20</td>\n",
       "    </tr>\n",
       "  </tbody>\n",
       "</table>\n",
       "</div>"
      ],
      "text/plain": [
       "  Karakter Sınıfı Karakter Ismi  Karakter Yas\n",
       "0              SP       Cartman             9\n",
       "1              SP         Kenny             1\n",
       "2         Simpson         Homer            50\n",
       "3         Simpson          Bart            20"
      ]
     },
     "execution_count": 17,
     "metadata": {},
     "output_type": "execute_result"
    }
   ],
   "source": [
    "karakterDF"
   ]
  },
  {
   "cell_type": "code",
   "execution_count": 22,
   "id": "b103616d",
   "metadata": {},
   "outputs": [
    {
     "data": {
      "text/html": [
       "<div>\n",
       "<style scoped>\n",
       "    .dataframe tbody tr th:only-of-type {\n",
       "        vertical-align: middle;\n",
       "    }\n",
       "\n",
       "    .dataframe tbody tr th {\n",
       "        vertical-align: top;\n",
       "    }\n",
       "\n",
       "    .dataframe thead th {\n",
       "        text-align: right;\n",
       "    }\n",
       "</style>\n",
       "<table border=\"1\" class=\"dataframe\">\n",
       "  <thead>\n",
       "    <tr style=\"text-align: right;\">\n",
       "      <th></th>\n",
       "      <th></th>\n",
       "      <th>Karakter Yas</th>\n",
       "    </tr>\n",
       "    <tr>\n",
       "      <th>Karakter Sınıfı</th>\n",
       "      <th>Karakter Ismi</th>\n",
       "      <th></th>\n",
       "    </tr>\n",
       "  </thead>\n",
       "  <tbody>\n",
       "    <tr>\n",
       "      <th rowspan=\"2\" valign=\"top\">SP</th>\n",
       "      <th>Cartman</th>\n",
       "      <td>9</td>\n",
       "    </tr>\n",
       "    <tr>\n",
       "      <th>Kenny</th>\n",
       "      <td>1</td>\n",
       "    </tr>\n",
       "    <tr>\n",
       "      <th rowspan=\"2\" valign=\"top\">Simpson</th>\n",
       "      <th>Bart</th>\n",
       "      <td>20</td>\n",
       "    </tr>\n",
       "    <tr>\n",
       "      <th>Homer</th>\n",
       "      <td>50</td>\n",
       "    </tr>\n",
       "  </tbody>\n",
       "</table>\n",
       "</div>"
      ],
      "text/plain": [
       "                               Karakter Yas\n",
       "Karakter Sınıfı Karakter Ismi              \n",
       "SP              Cartman                   9\n",
       "                Kenny                     1\n",
       "Simpson         Bart                     20\n",
       "                Homer                    50"
      ]
     },
     "execution_count": 22,
     "metadata": {},
     "output_type": "execute_result"
    }
   ],
   "source": [
    "karakterDF.pivot_table(values=\"Karakter Yas\",index=[\"Karakter Sınıfı\",\"Karakter Ismi\"])\n",
    "# aggfunc=np.sum"
   ]
  },
  {
   "cell_type": "code",
   "execution_count": null,
   "id": "3b71f5e8",
   "metadata": {},
   "outputs": [],
   "source": []
  }
 ],
 "metadata": {
  "kernelspec": {
   "display_name": "Python 3 (ipykernel)",
   "language": "python",
   "name": "python3"
  },
  "language_info": {
   "codemirror_mode": {
    "name": "ipython",
    "version": 3
   },
   "file_extension": ".py",
   "mimetype": "text/x-python",
   "name": "python",
   "nbconvert_exporter": "python",
   "pygments_lexer": "ipython3",
   "version": "3.9.12"
  }
 },
 "nbformat": 4,
 "nbformat_minor": 5
}
