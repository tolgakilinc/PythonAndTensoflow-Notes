{
 "cells": [
  {
   "cell_type": "markdown",
   "id": "0afac372",
   "metadata": {},
   "source": [
    "## range"
   ]
  },
  {
   "cell_type": "code",
   "execution_count": 1,
   "id": "7c758ac4",
   "metadata": {
    "scrolled": true
   },
   "outputs": [
    {
     "data": {
      "text/plain": [
       "range(0, 10)"
      ]
     },
     "execution_count": 1,
     "metadata": {},
     "output_type": "execute_result"
    }
   ],
   "source": [
    "range(10)"
   ]
  },
  {
   "cell_type": "code",
   "execution_count": 2,
   "id": "99e291a2",
   "metadata": {},
   "outputs": [
    {
     "data": {
      "text/plain": [
       "range(0, 10)"
      ]
     },
     "execution_count": 2,
     "metadata": {},
     "output_type": "execute_result"
    }
   ],
   "source": [
    "range(10)"
   ]
  },
  {
   "cell_type": "code",
   "execution_count": 3,
   "id": "46a97881",
   "metadata": {},
   "outputs": [
    {
     "data": {
      "text/plain": [
       "range"
      ]
     },
     "execution_count": 3,
     "metadata": {},
     "output_type": "execute_result"
    }
   ],
   "source": [
    "range"
   ]
  },
  {
   "cell_type": "code",
   "execution_count": 4,
   "id": "64648a02",
   "metadata": {},
   "outputs": [
    {
     "data": {
      "text/plain": [
       "[0, 1, 2, 3, 4, 5, 6, 7, 8, 9, 10, 11, 12, 13, 14, 15, 16, 17, 18, 19]"
      ]
     },
     "execution_count": 4,
     "metadata": {},
     "output_type": "execute_result"
    }
   ],
   "source": [
    "list(range(20))"
   ]
  },
  {
   "cell_type": "code",
   "execution_count": 5,
   "id": "378a6110",
   "metadata": {},
   "outputs": [
    {
     "data": {
      "text/plain": [
       "range"
      ]
     },
     "execution_count": 5,
     "metadata": {},
     "output_type": "execute_result"
    }
   ],
   "source": [
    "range"
   ]
  },
  {
   "cell_type": "markdown",
   "id": "d1e0c375",
   "metadata": {},
   "source": [
    "## enumerate"
   ]
  },
  {
   "cell_type": "code",
   "execution_count": 23,
   "id": "98b1c302",
   "metadata": {},
   "outputs": [
    {
     "name": "stdout",
     "output_type": "stream",
     "text": [
      "güncel numara :   0 güncel index: 0\n",
      "güncel numara :   1 güncel index: 1\n",
      "güncel numara :   2 güncel index: 2\n",
      "güncel numara :   3 güncel index: 3\n",
      "güncel numara :   4 güncel index: 4\n",
      "güncel numara :   5 güncel index: 5\n",
      "güncel numara :   6 güncel index: 6\n",
      "güncel numara :   7 güncel index: 7\n",
      "güncel numara :   8 güncel index: 8\n",
      "güncel numara :   9 güncel index: 9\n",
      "güncel numara :   10 güncel index: 10\n",
      "güncel numara :   11 güncel index: 11\n",
      "güncel numara :   12 güncel index: 12\n",
      "güncel numara :   13 güncel index: 13\n",
      "güncel numara :   14 güncel index: 14\n"
     ]
    }
   ],
   "source": [
    "index = 0\n",
    "for numara in list(range(0,15)):\n",
    "    print(f\"güncel numara :   {numara} güncel index: {index}\")\n",
    "    index = index + 1"
   ]
  },
  {
   "cell_type": "code",
   "execution_count": 26,
   "id": "b7bef45e",
   "metadata": {},
   "outputs": [
    {
     "name": "stdout",
     "output_type": "stream",
     "text": [
      "0\n",
      "1\n",
      "2\n",
      "3\n",
      "4\n",
      "5\n",
      "6\n",
      "7\n",
      "8\n",
      "9\n"
     ]
    }
   ],
   "source": [
    "index = 0\n",
    "for (index,numara) in enumerate(list(range(0,10))):\n",
    "    print(index)"
   ]
  },
  {
   "cell_type": "markdown",
   "id": "a7f24905",
   "metadata": {},
   "source": [
    "### random"
   ]
  },
  {
   "cell_type": "code",
   "execution_count": 27,
   "id": "d75f894b",
   "metadata": {},
   "outputs": [],
   "source": [
    "from random import randint"
   ]
  },
  {
   "cell_type": "code",
   "execution_count": 31,
   "id": "a5026ac7",
   "metadata": {},
   "outputs": [
    {
     "data": {
      "text/plain": [
       "27"
      ]
     },
     "execution_count": 31,
     "metadata": {},
     "output_type": "execute_result"
    }
   ],
   "source": [
    "randint(0,100)"
   ]
  },
  {
   "cell_type": "code",
   "execution_count": 34,
   "id": "b8fc959c",
   "metadata": {},
   "outputs": [],
   "source": [
    "ilkLİste = list(range(0,11))"
   ]
  },
  {
   "cell_type": "code",
   "execution_count": 35,
   "id": "1fd8acc3",
   "metadata": {},
   "outputs": [
    {
     "data": {
      "text/plain": [
       "[0, 1, 2, 3, 4, 5, 6, 7, 8, 9, 10]"
      ]
     },
     "execution_count": 35,
     "metadata": {},
     "output_type": "execute_result"
    }
   ],
   "source": [
    "ilkLİste"
   ]
  },
  {
   "cell_type": "code",
   "execution_count": 37,
   "id": "bcb27d22",
   "metadata": {
    "scrolled": true
   },
   "outputs": [
    {
     "data": {
      "text/plain": [
       "2"
      ]
     },
     "execution_count": 37,
     "metadata": {},
     "output_type": "execute_result"
    }
   ],
   "source": [
    "ilkLİste[randint(0,9)]"
   ]
  },
  {
   "cell_type": "markdown",
   "id": "dbcc5f5f",
   "metadata": {},
   "source": [
    "## shuffle"
   ]
  },
  {
   "cell_type": "code",
   "execution_count": 38,
   "id": "29015c06",
   "metadata": {},
   "outputs": [],
   "source": [
    "from random import shuffle"
   ]
  },
  {
   "cell_type": "code",
   "execution_count": 41,
   "id": "8820a5b1",
   "metadata": {},
   "outputs": [],
   "source": [
    "shuffle(ilkLİste)"
   ]
  },
  {
   "cell_type": "code",
   "execution_count": 42,
   "id": "78f66093",
   "metadata": {},
   "outputs": [
    {
     "data": {
      "text/plain": [
       "[10, 4, 0, 2, 9, 5, 6, 3, 8, 7, 1]"
      ]
     },
     "execution_count": 42,
     "metadata": {},
     "output_type": "execute_result"
    }
   ],
   "source": [
    "ilkLİste"
   ]
  },
  {
   "cell_type": "markdown",
   "id": "d6b01fc7",
   "metadata": {},
   "source": [
    "## zip"
   ]
  },
  {
   "cell_type": "code",
   "execution_count": 43,
   "id": "5340ae8d",
   "metadata": {},
   "outputs": [],
   "source": [
    "yemekListesi = [\"kebap\", \"lahmacun\",\"salata\"]"
   ]
  },
  {
   "cell_type": "code",
   "execution_count": 44,
   "id": "22920542",
   "metadata": {},
   "outputs": [],
   "source": [
    "günListesi = [\"1.gün\",\"2.gün\",\"3.gün\"]"
   ]
  },
  {
   "cell_type": "code",
   "execution_count": 45,
   "id": "240a9d21",
   "metadata": {},
   "outputs": [],
   "source": [
    "kaloriListesi = [200,300,400]"
   ]
  },
  {
   "cell_type": "code",
   "execution_count": 48,
   "id": "0a73587c",
   "metadata": {},
   "outputs": [],
   "source": [
    "DiyetListesi = list(zip(yemekListesi,günListesi,kaloriListesi))"
   ]
  },
  {
   "cell_type": "code",
   "execution_count": 49,
   "id": "c5ed0aa5",
   "metadata": {},
   "outputs": [
    {
     "data": {
      "text/plain": [
       "[('kebap', '1.gün', 200), ('lahmacun', '2.gün', 300), ('salata', '3.gün', 400)]"
      ]
     },
     "execution_count": 49,
     "metadata": {},
     "output_type": "execute_result"
    }
   ],
   "source": [
    "DiyetListesi"
   ]
  },
  {
   "cell_type": "code",
   "execution_count": 50,
   "id": "dc73a697",
   "metadata": {},
   "outputs": [
    {
     "data": {
      "text/plain": [
       "tuple"
      ]
     },
     "execution_count": 50,
     "metadata": {},
     "output_type": "execute_result"
    }
   ],
   "source": [
    "type(DiyetListesi[0])"
   ]
  },
  {
   "cell_type": "code",
   "execution_count": 62,
   "id": "144274da",
   "metadata": {},
   "outputs": [],
   "source": [
    "    selamlaşma = {\"selam\":\"sa\",\"aleykümselam\":\"as\"}"
   ]
  },
  {
   "cell_type": "code",
   "execution_count": 63,
   "id": "97695bf9",
   "metadata": {},
   "outputs": [
    {
     "data": {
      "text/plain": [
       "{'selam': 'sa', 'aleykümselam': 'as'}"
      ]
     },
     "execution_count": 63,
     "metadata": {},
     "output_type": "execute_result"
    }
   ],
   "source": [
    "selamlaşma"
   ]
  },
  {
   "cell_type": "code",
   "execution_count": 64,
   "id": "c641d461",
   "metadata": {},
   "outputs": [
    {
     "data": {
      "text/plain": [
       "dict"
      ]
     },
     "execution_count": 64,
     "metadata": {},
     "output_type": "execute_result"
    }
   ],
   "source": [
    "type(selamlaşma)"
   ]
  },
  {
   "cell_type": "code",
   "execution_count": 68,
   "id": "2392c813",
   "metadata": {},
   "outputs": [
    {
     "data": {
      "text/plain": [
       "'sa'"
      ]
     },
     "execution_count": 68,
     "metadata": {},
     "output_type": "execute_result"
    }
   ],
   "source": [
    "selamlaşma[\"selam\"]"
   ]
  },
  {
   "cell_type": "code",
   "execution_count": 72,
   "id": "5480a474",
   "metadata": {},
   "outputs": [],
   "source": [
    "bosListe = []\n",
    "ismim = \"Tolga Furkan Kılınç\"\n",
    "for harf in ismim:\n",
    "    bosListe.append(harf)"
   ]
  },
  {
   "cell_type": "code",
   "execution_count": 74,
   "id": "77b5c4ce",
   "metadata": {},
   "outputs": [
    {
     "data": {
      "text/plain": [
       "['T',\n",
       " 'o',\n",
       " 'l',\n",
       " 'g',\n",
       " 'a',\n",
       " ' ',\n",
       " 'F',\n",
       " 'u',\n",
       " 'r',\n",
       " 'k',\n",
       " 'a',\n",
       " 'n',\n",
       " ' ',\n",
       " 'K',\n",
       " 'ı',\n",
       " 'l',\n",
       " 'ı',\n",
       " 'n',\n",
       " 'ç']"
      ]
     },
     "execution_count": 74,
     "metadata": {},
     "output_type": "execute_result"
    }
   ],
   "source": [
    "bosListe"
   ]
  },
  {
   "cell_type": "code",
   "execution_count": 75,
   "id": "d1405aff",
   "metadata": {},
   "outputs": [],
   "source": [
    "yeniAd = \"tolga furkan kılınç\"\n",
    "yeniListe = [elaman for elaman in yeniAd]\n",
    "## ileri seviye kullanım \n",
    "\n"
   ]
  },
  {
   "cell_type": "code",
   "execution_count": 76,
   "id": "dca204b4",
   "metadata": {},
   "outputs": [
    {
     "data": {
      "text/plain": [
       "['t',\n",
       " 'o',\n",
       " 'l',\n",
       " 'g',\n",
       " 'a',\n",
       " ' ',\n",
       " 'f',\n",
       " 'u',\n",
       " 'r',\n",
       " 'k',\n",
       " 'a',\n",
       " 'n',\n",
       " ' ',\n",
       " 'k',\n",
       " 'ı',\n",
       " 'l',\n",
       " 'ı',\n",
       " 'n',\n",
       " 'ç']"
      ]
     },
     "execution_count": 76,
     "metadata": {},
     "output_type": "execute_result"
    }
   ],
   "source": [
    "yeniListe"
   ]
  },
  {
   "cell_type": "code",
   "execution_count": 77,
   "id": "a0df4bbd",
   "metadata": {},
   "outputs": [],
   "source": [
    "ikinciListe = [numara * 2 for numara in list(range(0,10))]"
   ]
  },
  {
   "cell_type": "code",
   "execution_count": 78,
   "id": "4adb269a",
   "metadata": {},
   "outputs": [
    {
     "data": {
      "text/plain": [
       "[0, 2, 4, 6, 8, 10, 12, 14, 16, 18]"
      ]
     },
     "execution_count": 78,
     "metadata": {},
     "output_type": "execute_result"
    }
   ],
   "source": [
    "ikinciListe"
   ]
  },
  {
   "cell_type": "code",
   "execution_count": null,
   "id": "b48ef435",
   "metadata": {},
   "outputs": [],
   "source": [
    "    "
   ]
  }
 ],
 "metadata": {
  "kernelspec": {
   "display_name": "Python 3 (ipykernel)",
   "language": "python",
   "name": "python3"
  },
  "language_info": {
   "codemirror_mode": {
    "name": "ipython",
    "version": 3
   },
   "file_extension": ".py",
   "mimetype": "text/x-python",
   "name": "python",
   "nbconvert_exporter": "python",
   "pygments_lexer": "ipython3",
   "version": "3.9.12"
  }
 },
 "nbformat": 4,
 "nbformat_minor": 5
}
