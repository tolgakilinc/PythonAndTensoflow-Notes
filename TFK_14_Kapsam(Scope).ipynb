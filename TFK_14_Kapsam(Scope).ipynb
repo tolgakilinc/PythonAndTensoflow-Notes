{
 "cells": [
  {
   "cell_type": "code",
   "execution_count": 1,
   "id": "150fa540",
   "metadata": {},
   "outputs": [],
   "source": [
    "numara = 20\n",
    "\n",
    "def carpma(sayi):\n",
    "    numara = 10\n",
    "    return numara * sayi"
   ]
  },
  {
   "cell_type": "code",
   "execution_count": 2,
   "id": "28428553",
   "metadata": {},
   "outputs": [
    {
     "data": {
      "text/plain": [
       "50"
      ]
     },
     "execution_count": 2,
     "metadata": {},
     "output_type": "execute_result"
    }
   ],
   "source": [
    "carpma(5)"
   ]
  },
  {
   "cell_type": "code",
   "execution_count": 3,
   "id": "a6e746b5",
   "metadata": {},
   "outputs": [
    {
     "data": {
      "text/plain": [
       "20"
      ]
     },
     "execution_count": 3,
     "metadata": {},
     "output_type": "execute_result"
    }
   ],
   "source": [
    "numara"
   ]
  },
  {
   "cell_type": "markdown",
   "id": "2df8e12e",
   "metadata": {},
   "source": [
    "## Local, Endclosing, Global, Built-In"
   ]
  },
  {
   "cell_type": "code",
   "execution_count": 4,
   "id": "8b4cc2df",
   "metadata": {},
   "outputs": [],
   "source": [
    "adim = \"Tolga\"\n",
    "# Global"
   ]
  },
  {
   "cell_type": "code",
   "execution_count": 10,
   "id": "b973930a",
   "metadata": {},
   "outputs": [],
   "source": [
    "def dışFonksiyon():\n",
    "    adim = \"Furkan\"\n",
    "    #Enclosing\n",
    "    def icFonksiyon():\n",
    "        adim = \"Kılınç\"\n",
    "        #Local\n",
    "        print(adim)\n",
    "    icFonksiyon()"
   ]
  },
  {
   "cell_type": "code",
   "execution_count": 13,
   "id": "cf4f978f",
   "metadata": {},
   "outputs": [
    {
     "name": "stdout",
     "output_type": "stream",
     "text": [
      "Kılınç\n"
     ]
    }
   ],
   "source": [
    "dışFonksiyon()"
   ]
  },
  {
   "cell_type": "code",
   "execution_count": 8,
   "id": "005fbca2",
   "metadata": {},
   "outputs": [
    {
     "name": "stdout",
     "output_type": "stream",
     "text": [
      "Kılınç\n"
     ]
    }
   ],
   "source": [
    "dışFonksiyon()"
   ]
  },
  {
   "cell_type": "code",
   "execution_count": 14,
   "id": "5c426130",
   "metadata": {},
   "outputs": [
    {
     "name": "stdout",
     "output_type": "stream",
     "text": [
      "Tolga\n"
     ]
    }
   ],
   "source": [
    "print(adim)"
   ]
  },
  {
   "cell_type": "code",
   "execution_count": 21,
   "id": "3c8fb3ce",
   "metadata": {},
   "outputs": [],
   "source": [
    "y = 10\n",
    "def yeniFonksyion(y):\n",
    "    print (y)\n",
    "    y = 3\n",
    "    print(y)\n",
    "    return(y)"
   ]
  },
  {
   "cell_type": "code",
   "execution_count": 22,
   "id": "da3d6e8b",
   "metadata": {},
   "outputs": [
    {
     "name": "stdout",
     "output_type": "stream",
     "text": [
      "2\n",
      "3\n"
     ]
    },
    {
     "data": {
      "text/plain": [
       "3"
      ]
     },
     "execution_count": 22,
     "metadata": {},
     "output_type": "execute_result"
    }
   ],
   "source": [
    "yeniFonksyion(2)"
   ]
  },
  {
   "cell_type": "code",
   "execution_count": 23,
   "id": "0145432c",
   "metadata": {},
   "outputs": [
    {
     "data": {
      "text/plain": [
       "10"
      ]
     },
     "execution_count": 23,
     "metadata": {},
     "output_type": "execute_result"
    }
   ],
   "source": [
    "y"
   ]
  },
  {
   "cell_type": "code",
   "execution_count": 24,
   "id": "3d3e2e71",
   "metadata": {},
   "outputs": [],
   "source": [
    "y = 3"
   ]
  },
  {
   "cell_type": "code",
   "execution_count": 27,
   "id": "22e40f77",
   "metadata": {},
   "outputs": [],
   "source": [
    "def sonFonksyion():\n",
    "    global y\n",
    "    y = 6\n",
    "    print(y)"
   ]
  },
  {
   "cell_type": "code",
   "execution_count": 28,
   "id": "06b5ce07",
   "metadata": {},
   "outputs": [
    {
     "name": "stdout",
     "output_type": "stream",
     "text": [
      "6\n"
     ]
    }
   ],
   "source": [
    "sonFonksyion()"
   ]
  },
  {
   "cell_type": "code",
   "execution_count": 29,
   "id": "bf8f2e37",
   "metadata": {},
   "outputs": [
    {
     "data": {
      "text/plain": [
       "6"
      ]
     },
     "execution_count": 29,
     "metadata": {},
     "output_type": "execute_result"
    }
   ],
   "source": [
    "y"
   ]
  },
  {
   "cell_type": "code",
   "execution_count": null,
   "id": "eb9eae9c",
   "metadata": {},
   "outputs": [],
   "source": []
  }
 ],
 "metadata": {
  "kernelspec": {
   "display_name": "Python 3 (ipykernel)",
   "language": "python",
   "name": "python3"
  },
  "language_info": {
   "codemirror_mode": {
    "name": "ipython",
    "version": 3
   },
   "file_extension": ".py",
   "mimetype": "text/x-python",
   "name": "python",
   "nbconvert_exporter": "python",
   "pygments_lexer": "ipython3",
   "version": "3.9.12"
  }
 },
 "nbformat": 4,
 "nbformat_minor": 5
}
