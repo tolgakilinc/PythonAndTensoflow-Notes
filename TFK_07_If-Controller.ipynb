{
 "cells": [
  {
   "cell_type": "code",
   "execution_count": 1,
   "id": "77160b88",
   "metadata": {},
   "outputs": [
    {
     "name": "stdout",
     "output_type": "stream",
     "text": [
      "tolga furkan kılınç\n"
     ]
    }
   ],
   "source": [
    "if 3 > 1 :\n",
    "    print(\"tolga furkan kılınç\")\n",
    "    "
   ]
  },
  {
   "cell_type": "code",
   "execution_count": 4,
   "id": "bd445694",
   "metadata": {},
   "outputs": [
    {
     "name": "stdout",
     "output_type": "stream",
     "text": [
      "her türlü çalışacak\n"
     ]
    }
   ],
   "source": [
    "if 3>4:\n",
    "    print(\"tolga furkan kılınç\")\n",
    "print(\"her türlü çalışacak\")"
   ]
  },
  {
   "cell_type": "code",
   "execution_count": 8,
   "id": "7e82a735",
   "metadata": {},
   "outputs": [],
   "source": [
    " x =  5"
   ]
  },
  {
   "cell_type": "code",
   "execution_count": 9,
   "id": "395fad03",
   "metadata": {},
   "outputs": [],
   "source": [
    "y = 4"
   ]
  },
  {
   "cell_type": "code",
   "execution_count": 10,
   "id": "a03d4565",
   "metadata": {},
   "outputs": [
    {
     "name": "stdout",
     "output_type": "stream",
     "text": [
      "x, y'den büyüktür.\n"
     ]
    }
   ],
   "source": [
    "if x > y:\n",
    "    print(\"x, y'den büyüktür.\")"
   ]
  },
  {
   "cell_type": "code",
   "execution_count": 15,
   "id": "06ae99f7",
   "metadata": {},
   "outputs": [
    {
     "name": "stdout",
     "output_type": "stream",
     "text": [
      "y x'ten küçüktür.\n"
     ]
    }
   ],
   "source": [
    "if x < y:\n",
    "    print(\"x y'den büyüktür.\")\n",
    "elif y < x:\n",
    "    print(\"y x'ten küçüktür.\")\n",
    "else:\n",
    "    print(\"x, y'ye eşittir.\")"
   ]
  },
  {
   "cell_type": "code",
   "execution_count": 18,
   "id": "b3b09c00",
   "metadata": {},
   "outputs": [],
   "source": [
    "yas = 18"
   ]
  },
  {
   "cell_type": "code",
   "execution_count": 20,
   "id": "b0f53ef9",
   "metadata": {},
   "outputs": [
    {
     "name": "stdout",
     "output_type": "stream",
     "text": [
      "Ehliyete başvurabilirsiniz fakat alamazsınız\n"
     ]
    }
   ],
   "source": [
    "if  yas > 18:\n",
    "    print(\"Ehliyet Alabilirsiniz.\")\n",
    "elif yas < 18:\n",
    "    print(\"Ehliyet alamazsınız\")\n",
    "else:\n",
    "    print(\"Ehliyete başvurabilirsiniz fakat alamazsınız\")\n",
    "    "
   ]
  },
  {
   "cell_type": "markdown",
   "id": "fa4d9adb",
   "metadata": {},
   "source": [
    "## Boolena için if blokları"
   ]
  },
  {
   "cell_type": "code",
   "execution_count": 22,
   "id": "ba692ac8",
   "metadata": {},
   "outputs": [],
   "source": [
    "senAdamMısın = True"
   ]
  },
  {
   "cell_type": "code",
   "execution_count": 24,
   "id": "e6983148",
   "metadata": {},
   "outputs": [
    {
     "name": "stdout",
     "output_type": "stream",
     "text": [
      "Sen adamsın.\n"
     ]
    }
   ],
   "source": [
    "if senAdamMısın == True:\n",
    "    print(\"Sen adamsın.\")\n",
    "else:\n",
    "    print(\"Sen adam değilsin.\")"
   ]
  },
  {
   "cell_type": "code",
   "execution_count": 25,
   "id": "17d560fe",
   "metadata": {},
   "outputs": [
    {
     "name": "stdout",
     "output_type": "stream",
     "text": [
      "Sen adamsın.\n"
     ]
    }
   ],
   "source": [
    "##Yukarıdaki kodun pratik yolu\n",
    "if senAdamMısın:\n",
    "    print(\"Sen adamsın.\")\n",
    "else:\n",
    "    print(\"Sen adam değilsin.\")"
   ]
  },
  {
   "cell_type": "markdown",
   "id": "d5c06593",
   "metadata": {},
   "source": [
    "## String if blokları"
   ]
  },
  {
   "cell_type": "code",
   "execution_count": 27,
   "id": "a1630e83",
   "metadata": {},
   "outputs": [],
   "source": [
    "listem = [1,2,3,4,5,6]"
   ]
  },
  {
   "cell_type": "code",
   "execution_count": 29,
   "id": "1e05cb2c",
   "metadata": {},
   "outputs": [
    {
     "name": "stdout",
     "output_type": "stream",
     "text": [
      "varmış\n"
     ]
    }
   ],
   "source": [
    "if 4 in listem:\n",
    "    print(\"varmış\")\n",
    "else:\n",
    "    print(\"yokmuş\")"
   ]
  },
  {
   "cell_type": "code",
   "execution_count": 31,
   "id": "c4c7b7c8",
   "metadata": {},
   "outputs": [],
   "source": [
    "kaloriDegerleri =  {\"Elma\":100,\"Armut\":200,\"Karpuz\":300}"
   ]
  },
  {
   "cell_type": "code",
   "execution_count": 33,
   "id": "a2d82212",
   "metadata": {},
   "outputs": [
    {
     "name": "stdout",
     "output_type": "stream",
     "text": [
      "varmış\n"
     ]
    }
   ],
   "source": [
    "if 100 in kaloriDegerleri.values():\n",
    "    print(\"varmış\")\n",
    "else:\n",
    "    print(\"yokmuş\")"
   ]
  },
  {
   "cell_type": "code",
   "execution_count": 34,
   "id": "69373df2",
   "metadata": {},
   "outputs": [],
   "source": [
    "ismim = \"Tolga Furkan Kılınç\""
   ]
  },
  {
   "cell_type": "code",
   "execution_count": 35,
   "id": "5ee2d3e0",
   "metadata": {},
   "outputs": [
    {
     "name": "stdout",
     "output_type": "stream",
     "text": [
      "aynı değil\n"
     ]
    }
   ],
   "source": [
    "if ismim == \"tolga Furkan Kılınç\":\n",
    "    print(\"aynı\")\n",
    "else:\n",
    "    print(\"aynı değil\")"
   ]
  },
  {
   "cell_type": "code",
   "execution_count": 36,
   "id": "0ef7d26f",
   "metadata": {},
   "outputs": [
    {
     "name": "stdout",
     "output_type": "stream",
     "text": [
      "içeriyor\n"
     ]
    }
   ],
   "source": [
    "if \"To\" in ismim:\n",
    "    print(\"içeriyor\")\n",
    "else:\n",
    "    print(\"içermiyor\")"
   ]
  },
  {
   "cell_type": "code",
   "execution_count": 37,
   "id": "d510788c",
   "metadata": {},
   "outputs": [],
   "source": [
    "a = 5"
   ]
  },
  {
   "cell_type": "code",
   "execution_count": 40,
   "id": "dc09d0fc",
   "metadata": {},
   "outputs": [
    {
     "ename": "SyntaxError",
     "evalue": "invalid syntax (3037418367.py, line 1)",
     "output_type": "error",
     "traceback": [
      "\u001b[1;36m  Input \u001b[1;32mIn [40]\u001b[1;36m\u001b[0m\n\u001b[1;33m    for a > 4:\u001b[0m\n\u001b[1;37m             ^\u001b[0m\n\u001b[1;31mSyntaxError\u001b[0m\u001b[1;31m:\u001b[0m invalid syntax\n"
     ]
    }
   ],
   "source": [
    "for a > 4:\n",
    "    print(\"a 4'ten büyüktür.\")"
   ]
  },
  {
   "cell_type": "code",
   "execution_count": null,
   "id": "de261e7a",
   "metadata": {},
   "outputs": [],
   "source": []
  }
 ],
 "metadata": {
  "kernelspec": {
   "display_name": "Python 3 (ipykernel)",
   "language": "python",
   "name": "python3"
  },
  "language_info": {
   "codemirror_mode": {
    "name": "ipython",
    "version": 3
   },
   "file_extension": ".py",
   "mimetype": "text/x-python",
   "name": "python",
   "nbconvert_exporter": "python",
   "pygments_lexer": "ipython3",
   "version": "3.9.12"
  }
 },
 "nbformat": 4,
 "nbformat_minor": 5
}
