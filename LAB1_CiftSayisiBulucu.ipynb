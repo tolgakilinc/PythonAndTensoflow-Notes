{
 "cells": [
  {
   "cell_type": "code",
   "execution_count": 1,
   "id": "eb6fe017",
   "metadata": {},
   "outputs": [],
   "source": [
    "import random as rd"
   ]
  },
  {
   "cell_type": "code",
   "execution_count": 7,
   "id": "73f1b41a",
   "metadata": {},
   "outputs": [],
   "source": [
    "randomSayi = rd.sample(range(0,100),10)"
   ]
  },
  {
   "cell_type": "code",
   "execution_count": 8,
   "id": "1cad3300",
   "metadata": {},
   "outputs": [
    {
     "data": {
      "text/plain": [
       "[68, 70, 29, 3, 9, 1, 75, 82, 46, 38]"
      ]
     },
     "execution_count": 8,
     "metadata": {},
     "output_type": "execute_result"
    }
   ],
   "source": [
    "randomSayi"
   ]
  },
  {
   "cell_type": "code",
   "execution_count": 9,
   "id": "2daacea1",
   "metadata": {},
   "outputs": [],
   "source": [
    "def ciftSayiHesaplayıcı():\n",
    "    programCiftCounter = 0\n",
    "    programTekCounter = 0\n",
    "    for sayilar in randomSayi:\n",
    "        if sayilar % 2 ==0:\n",
    "            programCiftCounter += 1\n",
    "        else: programTekCounter +=1\n",
    "    return (programCiftCounter,programTekCounter)"
   ]
  },
  {
   "cell_type": "code",
   "execution_count": 15,
   "id": "7906631e",
   "metadata": {},
   "outputs": [],
   "source": [
    "(cift,tek) = ciftSayiHesaplayıcı()"
   ]
  },
  {
   "cell_type": "code",
   "execution_count": 18,
   "id": "fd203bc6",
   "metadata": {},
   "outputs": [
    {
     "name": "stdout",
     "output_type": "stream",
     "text": [
      "Çift sayısı : 5\n"
     ]
    }
   ],
   "source": [
    "print(\"Çift sayısı :\" , cift)"
   ]
  },
  {
   "cell_type": "code",
   "execution_count": 19,
   "id": "5d2552ec",
   "metadata": {},
   "outputs": [
    {
     "name": "stdout",
     "output_type": "stream",
     "text": [
      "Tek sayısı :  5\n"
     ]
    }
   ],
   "source": [
    "print(\"Tek sayısı : \" , tek)"
   ]
  },
  {
   "cell_type": "code",
   "execution_count": null,
   "id": "9b9722b3",
   "metadata": {},
   "outputs": [],
   "source": []
  },
  {
   "cell_type": "code",
   "execution_count": null,
   "id": "c667aa05",
   "metadata": {},
   "outputs": [],
   "source": []
  }
 ],
 "metadata": {
  "kernelspec": {
   "display_name": "Python 3 (ipykernel)",
   "language": "python",
   "name": "python3"
  },
  "language_info": {
   "codemirror_mode": {
    "name": "ipython",
    "version": 3
   },
   "file_extension": ".py",
   "mimetype": "text/x-python",
   "name": "python",
   "nbconvert_exporter": "python",
   "pygments_lexer": "ipython3",
   "version": "3.9.12"
  }
 },
 "nbformat": 4,
 "nbformat_minor": 5
}
