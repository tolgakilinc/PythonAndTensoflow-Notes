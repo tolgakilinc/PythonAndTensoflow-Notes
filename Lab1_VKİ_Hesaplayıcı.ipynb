{
 "cells": [
  {
   "cell_type": "code",
   "execution_count": null,
   "id": "81e39a90",
   "metadata": {},
   "outputs": [],
   "source": []
  },
  {
   "cell_type": "code",
   "execution_count": null,
   "id": "d796e57f",
   "metadata": {},
   "outputs": [],
   "source": [
    "class vki_hesaplayıcı():\n",
    "    def hesapla(self,weight,height):\n",
    "        self.weight = weight\n",
    "        self.height = height\n",
    "    while True:\n",
    "        weight = int(input(\"Ağırlık : \"))\n",
    "        height = float(input(\"Boy :\"))\n",
    "        vki = weight / (height *height)\n",
    "        print (\"Vücut Kitle endeksiniz : \" ,vki)\n",
    "    if vki < 18 and vki >25:\n",
    "        print(\"iyisin iyi\")\n",
    "    if vki > 25:\n",
    "        print(\"az ye hayvan\")\n",
    "    if vki < 18:\n",
    "        print(\"olum az ye bu hal ne\")\n",
    "        "
   ]
  },
  {
   "cell_type": "code",
   "execution_count": 5,
   "id": "10caf1de",
   "metadata": {},
   "outputs": [
    {
     "ename": "NameError",
     "evalue": "name 'hesapla' is not defined",
     "output_type": "error",
     "traceback": [
      "\u001b[1;31m---------------------------------------------------------------------------\u001b[0m",
      "\u001b[1;31mNameError\u001b[0m                                 Traceback (most recent call last)",
      "Input \u001b[1;32mIn [5]\u001b[0m, in \u001b[0;36m<cell line: 1>\u001b[1;34m()\u001b[0m\n\u001b[1;32m----> 1\u001b[0m vki_hesaplayıcı(\u001b[43mhesapla\u001b[49m())\n",
      "\u001b[1;31mNameError\u001b[0m: name 'hesapla' is not defined"
     ]
    }
   ],
   "source": []
  },
  {
   "cell_type": "code",
   "execution_count": null,
   "id": "4e88bed3",
   "metadata": {},
   "outputs": [],
   "source": []
  }
 ],
 "metadata": {
  "kernelspec": {
   "display_name": "Python 3 (ipykernel)",
   "language": "python",
   "name": "python3"
  },
  "language_info": {
   "codemirror_mode": {
    "name": "ipython",
    "version": 3
   },
   "file_extension": ".py",
   "mimetype": "text/x-python",
   "name": "python",
   "nbconvert_exporter": "python",
   "pygments_lexer": "ipython3",
   "version": "3.9.12"
  }
 },
 "nbformat": 4,
 "nbformat_minor": 5
}
