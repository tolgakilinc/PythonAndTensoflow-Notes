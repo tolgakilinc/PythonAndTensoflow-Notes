{
 "cells": [
  {
   "cell_type": "code",
   "execution_count": 2,
   "id": "1dcb93c5",
   "metadata": {},
   "outputs": [],
   "source": [
    "import numpy as np\n",
    "import pandas as pd"
   ]
  },
  {
   "cell_type": "code",
   "execution_count": 3,
   "id": "1fecf90b",
   "metadata": {},
   "outputs": [],
   "source": [
    "data = np.random.randn(4,3)"
   ]
  },
  {
   "cell_type": "code",
   "execution_count": 4,
   "id": "977b93c6",
   "metadata": {},
   "outputs": [
    {
     "data": {
      "text/plain": [
       "array([[-1.32335972e+00,  1.73000712e+00,  7.47342909e-01],\n",
       "       [ 7.80591314e-01,  7.17228234e-01, -1.02912090e+00],\n",
       "       [-3.20380180e-02,  4.05585038e-01,  2.56721504e-01],\n",
       "       [ 1.34644230e-01, -3.41690142e-04,  7.96344165e-01]])"
      ]
     },
     "execution_count": 4,
     "metadata": {},
     "output_type": "execute_result"
    }
   ],
   "source": [
    "data"
   ]
  },
  {
   "cell_type": "code",
   "execution_count": 5,
   "id": "4208a51e",
   "metadata": {},
   "outputs": [],
   "source": [
    "ilkFrame = pd.DataFrame(data)"
   ]
  },
  {
   "cell_type": "code",
   "execution_count": 6,
   "id": "a5a49484",
   "metadata": {},
   "outputs": [
    {
     "data": {
      "text/html": [
       "<div>\n",
       "<style scoped>\n",
       "    .dataframe tbody tr th:only-of-type {\n",
       "        vertical-align: middle;\n",
       "    }\n",
       "\n",
       "    .dataframe tbody tr th {\n",
       "        vertical-align: top;\n",
       "    }\n",
       "\n",
       "    .dataframe thead th {\n",
       "        text-align: right;\n",
       "    }\n",
       "</style>\n",
       "<table border=\"1\" class=\"dataframe\">\n",
       "  <thead>\n",
       "    <tr style=\"text-align: right;\">\n",
       "      <th></th>\n",
       "      <th>0</th>\n",
       "      <th>1</th>\n",
       "      <th>2</th>\n",
       "    </tr>\n",
       "  </thead>\n",
       "  <tbody>\n",
       "    <tr>\n",
       "      <th>0</th>\n",
       "      <td>-1.323360</td>\n",
       "      <td>1.730007</td>\n",
       "      <td>0.747343</td>\n",
       "    </tr>\n",
       "    <tr>\n",
       "      <th>1</th>\n",
       "      <td>0.780591</td>\n",
       "      <td>0.717228</td>\n",
       "      <td>-1.029121</td>\n",
       "    </tr>\n",
       "    <tr>\n",
       "      <th>2</th>\n",
       "      <td>-0.032038</td>\n",
       "      <td>0.405585</td>\n",
       "      <td>0.256722</td>\n",
       "    </tr>\n",
       "    <tr>\n",
       "      <th>3</th>\n",
       "      <td>0.134644</td>\n",
       "      <td>-0.000342</td>\n",
       "      <td>0.796344</td>\n",
       "    </tr>\n",
       "  </tbody>\n",
       "</table>\n",
       "</div>"
      ],
      "text/plain": [
       "          0         1         2\n",
       "0 -1.323360  1.730007  0.747343\n",
       "1  0.780591  0.717228 -1.029121\n",
       "2 -0.032038  0.405585  0.256722\n",
       "3  0.134644 -0.000342  0.796344"
      ]
     },
     "execution_count": 6,
     "metadata": {},
     "output_type": "execute_result"
    }
   ],
   "source": [
    "ilkFrame"
   ]
  },
  {
   "cell_type": "code",
   "execution_count": 7,
   "id": "e1ed4819",
   "metadata": {},
   "outputs": [],
   "source": [
    "yeniDataFrame = pd.DataFrame(data, index=[\"1.satır\",\"2.satır\",\"3.satır\",\"4.satır\"],columns = [\"1.sütun\",\"2.sütun\",\"3.sütun\"])"
   ]
  },
  {
   "cell_type": "code",
   "execution_count": 8,
   "id": "eeb257bc",
   "metadata": {},
   "outputs": [
    {
     "data": {
      "text/html": [
       "<div>\n",
       "<style scoped>\n",
       "    .dataframe tbody tr th:only-of-type {\n",
       "        vertical-align: middle;\n",
       "    }\n",
       "\n",
       "    .dataframe tbody tr th {\n",
       "        vertical-align: top;\n",
       "    }\n",
       "\n",
       "    .dataframe thead th {\n",
       "        text-align: right;\n",
       "    }\n",
       "</style>\n",
       "<table border=\"1\" class=\"dataframe\">\n",
       "  <thead>\n",
       "    <tr style=\"text-align: right;\">\n",
       "      <th></th>\n",
       "      <th>1.sütun</th>\n",
       "      <th>2.sütun</th>\n",
       "      <th>3.sütun</th>\n",
       "    </tr>\n",
       "  </thead>\n",
       "  <tbody>\n",
       "    <tr>\n",
       "      <th>1.satır</th>\n",
       "      <td>-1.323360</td>\n",
       "      <td>1.730007</td>\n",
       "      <td>0.747343</td>\n",
       "    </tr>\n",
       "    <tr>\n",
       "      <th>2.satır</th>\n",
       "      <td>0.780591</td>\n",
       "      <td>0.717228</td>\n",
       "      <td>-1.029121</td>\n",
       "    </tr>\n",
       "    <tr>\n",
       "      <th>3.satır</th>\n",
       "      <td>-0.032038</td>\n",
       "      <td>0.405585</td>\n",
       "      <td>0.256722</td>\n",
       "    </tr>\n",
       "    <tr>\n",
       "      <th>4.satır</th>\n",
       "      <td>0.134644</td>\n",
       "      <td>-0.000342</td>\n",
       "      <td>0.796344</td>\n",
       "    </tr>\n",
       "  </tbody>\n",
       "</table>\n",
       "</div>"
      ],
      "text/plain": [
       "          1.sütun   2.sütun   3.sütun\n",
       "1.satır -1.323360  1.730007  0.747343\n",
       "2.satır  0.780591  0.717228 -1.029121\n",
       "3.satır -0.032038  0.405585  0.256722\n",
       "4.satır  0.134644 -0.000342  0.796344"
      ]
     },
     "execution_count": 8,
     "metadata": {},
     "output_type": "execute_result"
    }
   ],
   "source": [
    "yeniDataFrame"
   ]
  },
  {
   "cell_type": "code",
   "execution_count": 9,
   "id": "46371795",
   "metadata": {},
   "outputs": [
    {
     "data": {
      "text/plain": [
       "1.satır   -1.323360\n",
       "2.satır    0.780591\n",
       "3.satır   -0.032038\n",
       "4.satır    0.134644\n",
       "Name: 1.sütun, dtype: float64"
      ]
     },
     "execution_count": 9,
     "metadata": {},
     "output_type": "execute_result"
    }
   ],
   "source": [
    "yeniDataFrame[\"1.sütun\"]"
   ]
  },
  {
   "cell_type": "code",
   "execution_count": 10,
   "id": "2adbfa1c",
   "metadata": {},
   "outputs": [],
   "source": [
    "# yeniDataFrame[\"1.satır\"] - > hata verir\n",
    "# satır için kullanılan kod -> \"loc\" -> location"
   ]
  },
  {
   "cell_type": "code",
   "execution_count": 11,
   "id": "8fa92ea4",
   "metadata": {},
   "outputs": [
    {
     "data": {
      "text/plain": [
       "1.sütun   -1.323360\n",
       "2.sütun    1.730007\n",
       "3.sütun    0.747343\n",
       "Name: 1.satır, dtype: float64"
      ]
     },
     "execution_count": 11,
     "metadata": {},
     "output_type": "execute_result"
    }
   ],
   "source": [
    "yeniDataFrame.loc[\"1.satır\"]"
   ]
  },
  {
   "cell_type": "code",
   "execution_count": 12,
   "id": "610dca46",
   "metadata": {},
   "outputs": [
    {
     "data": {
      "text/html": [
       "<div>\n",
       "<style scoped>\n",
       "    .dataframe tbody tr th:only-of-type {\n",
       "        vertical-align: middle;\n",
       "    }\n",
       "\n",
       "    .dataframe tbody tr th {\n",
       "        vertical-align: top;\n",
       "    }\n",
       "\n",
       "    .dataframe thead th {\n",
       "        text-align: right;\n",
       "    }\n",
       "</style>\n",
       "<table border=\"1\" class=\"dataframe\">\n",
       "  <thead>\n",
       "    <tr style=\"text-align: right;\">\n",
       "      <th></th>\n",
       "      <th>2.sütun</th>\n",
       "      <th>3.sütun</th>\n",
       "    </tr>\n",
       "  </thead>\n",
       "  <tbody>\n",
       "    <tr>\n",
       "      <th>1.satır</th>\n",
       "      <td>1.730007</td>\n",
       "      <td>0.747343</td>\n",
       "    </tr>\n",
       "    <tr>\n",
       "      <th>2.satır</th>\n",
       "      <td>0.717228</td>\n",
       "      <td>-1.029121</td>\n",
       "    </tr>\n",
       "    <tr>\n",
       "      <th>3.satır</th>\n",
       "      <td>0.405585</td>\n",
       "      <td>0.256722</td>\n",
       "    </tr>\n",
       "    <tr>\n",
       "      <th>4.satır</th>\n",
       "      <td>-0.000342</td>\n",
       "      <td>0.796344</td>\n",
       "    </tr>\n",
       "  </tbody>\n",
       "</table>\n",
       "</div>"
      ],
      "text/plain": [
       "          2.sütun   3.sütun\n",
       "1.satır  1.730007  0.747343\n",
       "2.satır  0.717228 -1.029121\n",
       "3.satır  0.405585  0.256722\n",
       "4.satır -0.000342  0.796344"
      ]
     },
     "execution_count": 12,
     "metadata": {},
     "output_type": "execute_result"
    }
   ],
   "source": [
    "yeniDataFrame[[\"2.sütun\",\"3.sütun\"]]"
   ]
  },
  {
   "cell_type": "code",
   "execution_count": 13,
   "id": "aac32e3f",
   "metadata": {},
   "outputs": [
    {
     "data": {
      "text/plain": [
       "1.sütun   -1.323360\n",
       "2.sütun    1.730007\n",
       "3.sütun    0.747343\n",
       "Name: 1.satır, dtype: float64"
      ]
     },
     "execution_count": 13,
     "metadata": {},
     "output_type": "execute_result"
    }
   ],
   "source": [
    "# iloc = index location \n",
    "yeniDataFrame.iloc[0]"
   ]
  },
  {
   "cell_type": "code",
   "execution_count": 14,
   "id": "204c8ac3",
   "metadata": {},
   "outputs": [],
   "source": [
    "yeniDataFrame[\"4.sütun\"] = yeniDataFrame[\"3.sütun\"] + yeniDataFrame[\"3.sütun\"] "
   ]
  },
  {
   "cell_type": "code",
   "execution_count": 15,
   "id": "c3ab7b20",
   "metadata": {},
   "outputs": [
    {
     "data": {
      "text/html": [
       "<div>\n",
       "<style scoped>\n",
       "    .dataframe tbody tr th:only-of-type {\n",
       "        vertical-align: middle;\n",
       "    }\n",
       "\n",
       "    .dataframe tbody tr th {\n",
       "        vertical-align: top;\n",
       "    }\n",
       "\n",
       "    .dataframe thead th {\n",
       "        text-align: right;\n",
       "    }\n",
       "</style>\n",
       "<table border=\"1\" class=\"dataframe\">\n",
       "  <thead>\n",
       "    <tr style=\"text-align: right;\">\n",
       "      <th></th>\n",
       "      <th>1.sütun</th>\n",
       "      <th>2.sütun</th>\n",
       "      <th>3.sütun</th>\n",
       "      <th>4.sütun</th>\n",
       "    </tr>\n",
       "  </thead>\n",
       "  <tbody>\n",
       "    <tr>\n",
       "      <th>1.satır</th>\n",
       "      <td>-1.323360</td>\n",
       "      <td>1.730007</td>\n",
       "      <td>0.747343</td>\n",
       "      <td>1.494686</td>\n",
       "    </tr>\n",
       "    <tr>\n",
       "      <th>2.satır</th>\n",
       "      <td>0.780591</td>\n",
       "      <td>0.717228</td>\n",
       "      <td>-1.029121</td>\n",
       "      <td>-2.058242</td>\n",
       "    </tr>\n",
       "    <tr>\n",
       "      <th>3.satır</th>\n",
       "      <td>-0.032038</td>\n",
       "      <td>0.405585</td>\n",
       "      <td>0.256722</td>\n",
       "      <td>0.513443</td>\n",
       "    </tr>\n",
       "    <tr>\n",
       "      <th>4.satır</th>\n",
       "      <td>0.134644</td>\n",
       "      <td>-0.000342</td>\n",
       "      <td>0.796344</td>\n",
       "      <td>1.592688</td>\n",
       "    </tr>\n",
       "  </tbody>\n",
       "</table>\n",
       "</div>"
      ],
      "text/plain": [
       "          1.sütun   2.sütun   3.sütun   4.sütun\n",
       "1.satır -1.323360  1.730007  0.747343  1.494686\n",
       "2.satır  0.780591  0.717228 -1.029121 -2.058242\n",
       "3.satır -0.032038  0.405585  0.256722  0.513443\n",
       "4.satır  0.134644 -0.000342  0.796344  1.592688"
      ]
     },
     "execution_count": 15,
     "metadata": {},
     "output_type": "execute_result"
    }
   ],
   "source": [
    "yeniDataFrame"
   ]
  },
  {
   "cell_type": "code",
   "execution_count": 16,
   "id": "8b9ca917",
   "metadata": {},
   "outputs": [
    {
     "data": {
      "text/html": [
       "<div>\n",
       "<style scoped>\n",
       "    .dataframe tbody tr th:only-of-type {\n",
       "        vertical-align: middle;\n",
       "    }\n",
       "\n",
       "    .dataframe tbody tr th {\n",
       "        vertical-align: top;\n",
       "    }\n",
       "\n",
       "    .dataframe thead th {\n",
       "        text-align: right;\n",
       "    }\n",
       "</style>\n",
       "<table border=\"1\" class=\"dataframe\">\n",
       "  <thead>\n",
       "    <tr style=\"text-align: right;\">\n",
       "      <th></th>\n",
       "      <th>2.sütun</th>\n",
       "      <th>3.sütun</th>\n",
       "      <th>4.sütun</th>\n",
       "    </tr>\n",
       "  </thead>\n",
       "  <tbody>\n",
       "    <tr>\n",
       "      <th>1.satır</th>\n",
       "      <td>1.730007</td>\n",
       "      <td>0.747343</td>\n",
       "      <td>1.494686</td>\n",
       "    </tr>\n",
       "    <tr>\n",
       "      <th>2.satır</th>\n",
       "      <td>0.717228</td>\n",
       "      <td>-1.029121</td>\n",
       "      <td>-2.058242</td>\n",
       "    </tr>\n",
       "    <tr>\n",
       "      <th>3.satır</th>\n",
       "      <td>0.405585</td>\n",
       "      <td>0.256722</td>\n",
       "      <td>0.513443</td>\n",
       "    </tr>\n",
       "    <tr>\n",
       "      <th>4.satır</th>\n",
       "      <td>-0.000342</td>\n",
       "      <td>0.796344</td>\n",
       "      <td>1.592688</td>\n",
       "    </tr>\n",
       "  </tbody>\n",
       "</table>\n",
       "</div>"
      ],
      "text/plain": [
       "          2.sütun   3.sütun   4.sütun\n",
       "1.satır  1.730007  0.747343  1.494686\n",
       "2.satır  0.717228 -1.029121 -2.058242\n",
       "3.satır  0.405585  0.256722  0.513443\n",
       "4.satır -0.000342  0.796344  1.592688"
      ]
     },
     "execution_count": 16,
     "metadata": {},
     "output_type": "execute_result"
    }
   ],
   "source": [
    "# hata almamak için axis değeri verilir. sütun = 1, satır = 0 verilir\n",
    "yeniDataFrame.drop(\"1.sütun\",axis=1)\n"
   ]
  },
  {
   "cell_type": "code",
   "execution_count": 17,
   "id": "e3c16de1",
   "metadata": {},
   "outputs": [
    {
     "data": {
      "text/html": [
       "<div>\n",
       "<style scoped>\n",
       "    .dataframe tbody tr th:only-of-type {\n",
       "        vertical-align: middle;\n",
       "    }\n",
       "\n",
       "    .dataframe tbody tr th {\n",
       "        vertical-align: top;\n",
       "    }\n",
       "\n",
       "    .dataframe thead th {\n",
       "        text-align: right;\n",
       "    }\n",
       "</style>\n",
       "<table border=\"1\" class=\"dataframe\">\n",
       "  <thead>\n",
       "    <tr style=\"text-align: right;\">\n",
       "      <th></th>\n",
       "      <th>1.sütun</th>\n",
       "      <th>2.sütun</th>\n",
       "      <th>3.sütun</th>\n",
       "      <th>4.sütun</th>\n",
       "    </tr>\n",
       "  </thead>\n",
       "  <tbody>\n",
       "    <tr>\n",
       "      <th>1.satır</th>\n",
       "      <td>-1.323360</td>\n",
       "      <td>1.730007</td>\n",
       "      <td>0.747343</td>\n",
       "      <td>1.494686</td>\n",
       "    </tr>\n",
       "    <tr>\n",
       "      <th>2.satır</th>\n",
       "      <td>0.780591</td>\n",
       "      <td>0.717228</td>\n",
       "      <td>-1.029121</td>\n",
       "      <td>-2.058242</td>\n",
       "    </tr>\n",
       "    <tr>\n",
       "      <th>3.satır</th>\n",
       "      <td>-0.032038</td>\n",
       "      <td>0.405585</td>\n",
       "      <td>0.256722</td>\n",
       "      <td>0.513443</td>\n",
       "    </tr>\n",
       "    <tr>\n",
       "      <th>4.satır</th>\n",
       "      <td>0.134644</td>\n",
       "      <td>-0.000342</td>\n",
       "      <td>0.796344</td>\n",
       "      <td>1.592688</td>\n",
       "    </tr>\n",
       "  </tbody>\n",
       "</table>\n",
       "</div>"
      ],
      "text/plain": [
       "          1.sütun   2.sütun   3.sütun   4.sütun\n",
       "1.satır -1.323360  1.730007  0.747343  1.494686\n",
       "2.satır  0.780591  0.717228 -1.029121 -2.058242\n",
       "3.satır -0.032038  0.405585  0.256722  0.513443\n",
       "4.satır  0.134644 -0.000342  0.796344  1.592688"
      ]
     },
     "execution_count": 17,
     "metadata": {},
     "output_type": "execute_result"
    }
   ],
   "source": [
    "yeniDataFrame\n",
    "#yukarıdaki silinen sütun'un tekrar gelmesinin seBebi droptan sonra inplace = True değerinin verilmemiş olmasıdır."
   ]
  },
  {
   "cell_type": "code",
   "execution_count": 18,
   "id": "3c1563d6",
   "metadata": {},
   "outputs": [],
   "source": [
    "yeniDataFrame.drop(\"4.sütun\",axis=1 ,inplace=True)"
   ]
  },
  {
   "cell_type": "code",
   "execution_count": 19,
   "id": "7df2a870",
   "metadata": {},
   "outputs": [
    {
     "data": {
      "text/html": [
       "<div>\n",
       "<style scoped>\n",
       "    .dataframe tbody tr th:only-of-type {\n",
       "        vertical-align: middle;\n",
       "    }\n",
       "\n",
       "    .dataframe tbody tr th {\n",
       "        vertical-align: top;\n",
       "    }\n",
       "\n",
       "    .dataframe thead th {\n",
       "        text-align: right;\n",
       "    }\n",
       "</style>\n",
       "<table border=\"1\" class=\"dataframe\">\n",
       "  <thead>\n",
       "    <tr style=\"text-align: right;\">\n",
       "      <th></th>\n",
       "      <th>1.sütun</th>\n",
       "      <th>2.sütun</th>\n",
       "      <th>3.sütun</th>\n",
       "    </tr>\n",
       "  </thead>\n",
       "  <tbody>\n",
       "    <tr>\n",
       "      <th>1.satır</th>\n",
       "      <td>-1.323360</td>\n",
       "      <td>1.730007</td>\n",
       "      <td>0.747343</td>\n",
       "    </tr>\n",
       "    <tr>\n",
       "      <th>2.satır</th>\n",
       "      <td>0.780591</td>\n",
       "      <td>0.717228</td>\n",
       "      <td>-1.029121</td>\n",
       "    </tr>\n",
       "    <tr>\n",
       "      <th>3.satır</th>\n",
       "      <td>-0.032038</td>\n",
       "      <td>0.405585</td>\n",
       "      <td>0.256722</td>\n",
       "    </tr>\n",
       "    <tr>\n",
       "      <th>4.satır</th>\n",
       "      <td>0.134644</td>\n",
       "      <td>-0.000342</td>\n",
       "      <td>0.796344</td>\n",
       "    </tr>\n",
       "  </tbody>\n",
       "</table>\n",
       "</div>"
      ],
      "text/plain": [
       "          1.sütun   2.sütun   3.sütun\n",
       "1.satır -1.323360  1.730007  0.747343\n",
       "2.satır  0.780591  0.717228 -1.029121\n",
       "3.satır -0.032038  0.405585  0.256722\n",
       "4.satır  0.134644 -0.000342  0.796344"
      ]
     },
     "execution_count": 19,
     "metadata": {},
     "output_type": "execute_result"
    }
   ],
   "source": [
    "yeniDataFrame"
   ]
  },
  {
   "cell_type": "code",
   "execution_count": 20,
   "id": "ed3fb969",
   "metadata": {},
   "outputs": [
    {
     "data": {
      "text/plain": [
       "-1.3233597240337538"
      ]
     },
     "execution_count": 20,
     "metadata": {},
     "output_type": "execute_result"
    }
   ],
   "source": [
    "yeniDataFrame.loc[\"1.satır\",\"1.sütun\"]\n"
   ]
  },
  {
   "cell_type": "code",
   "execution_count": 21,
   "id": "c66dad33",
   "metadata": {},
   "outputs": [
    {
     "data": {
      "text/plain": [
       "-1.3233597240337538"
      ]
     },
     "execution_count": 21,
     "metadata": {},
     "output_type": "execute_result"
    }
   ],
   "source": [
    "yeniDataFrame.loc[\"1.satır\"][\"1.sütun\"]"
   ]
  },
  {
   "cell_type": "code",
   "execution_count": 22,
   "id": "b25c2af9",
   "metadata": {},
   "outputs": [
    {
     "data": {
      "text/html": [
       "<div>\n",
       "<style scoped>\n",
       "    .dataframe tbody tr th:only-of-type {\n",
       "        vertical-align: middle;\n",
       "    }\n",
       "\n",
       "    .dataframe tbody tr th {\n",
       "        vertical-align: top;\n",
       "    }\n",
       "\n",
       "    .dataframe thead th {\n",
       "        text-align: right;\n",
       "    }\n",
       "</style>\n",
       "<table border=\"1\" class=\"dataframe\">\n",
       "  <thead>\n",
       "    <tr style=\"text-align: right;\">\n",
       "      <th></th>\n",
       "      <th>1.sütun</th>\n",
       "      <th>2.sütun</th>\n",
       "      <th>3.sütun</th>\n",
       "    </tr>\n",
       "  </thead>\n",
       "  <tbody>\n",
       "    <tr>\n",
       "      <th>1.satır</th>\n",
       "      <td>True</td>\n",
       "      <td>False</td>\n",
       "      <td>False</td>\n",
       "    </tr>\n",
       "    <tr>\n",
       "      <th>2.satır</th>\n",
       "      <td>False</td>\n",
       "      <td>False</td>\n",
       "      <td>True</td>\n",
       "    </tr>\n",
       "    <tr>\n",
       "      <th>3.satır</th>\n",
       "      <td>True</td>\n",
       "      <td>False</td>\n",
       "      <td>False</td>\n",
       "    </tr>\n",
       "    <tr>\n",
       "      <th>4.satır</th>\n",
       "      <td>False</td>\n",
       "      <td>True</td>\n",
       "      <td>False</td>\n",
       "    </tr>\n",
       "  </tbody>\n",
       "</table>\n",
       "</div>"
      ],
      "text/plain": [
       "         1.sütun  2.sütun  3.sütun\n",
       "1.satır     True    False    False\n",
       "2.satır    False    False     True\n",
       "3.satır     True    False    False\n",
       "4.satır    False     True    False"
      ]
     },
     "execution_count": 22,
     "metadata": {},
     "output_type": "execute_result"
    }
   ],
   "source": [
    "yeniDataFrame < 0"
   ]
  },
  {
   "cell_type": "code",
   "execution_count": 23,
   "id": "2dbdd82c",
   "metadata": {},
   "outputs": [
    {
     "data": {
      "text/html": [
       "<div>\n",
       "<style scoped>\n",
       "    .dataframe tbody tr th:only-of-type {\n",
       "        vertical-align: middle;\n",
       "    }\n",
       "\n",
       "    .dataframe tbody tr th {\n",
       "        vertical-align: top;\n",
       "    }\n",
       "\n",
       "    .dataframe thead th {\n",
       "        text-align: right;\n",
       "    }\n",
       "</style>\n",
       "<table border=\"1\" class=\"dataframe\">\n",
       "  <thead>\n",
       "    <tr style=\"text-align: right;\">\n",
       "      <th></th>\n",
       "      <th>1.sütun</th>\n",
       "      <th>2.sütun</th>\n",
       "      <th>3.sütun</th>\n",
       "    </tr>\n",
       "  </thead>\n",
       "  <tbody>\n",
       "    <tr>\n",
       "      <th>1.satır</th>\n",
       "      <td>-1.323360</td>\n",
       "      <td>NaN</td>\n",
       "      <td>NaN</td>\n",
       "    </tr>\n",
       "    <tr>\n",
       "      <th>2.satır</th>\n",
       "      <td>NaN</td>\n",
       "      <td>NaN</td>\n",
       "      <td>-1.029121</td>\n",
       "    </tr>\n",
       "    <tr>\n",
       "      <th>3.satır</th>\n",
       "      <td>-0.032038</td>\n",
       "      <td>NaN</td>\n",
       "      <td>NaN</td>\n",
       "    </tr>\n",
       "    <tr>\n",
       "      <th>4.satır</th>\n",
       "      <td>NaN</td>\n",
       "      <td>-0.000342</td>\n",
       "      <td>NaN</td>\n",
       "    </tr>\n",
       "  </tbody>\n",
       "</table>\n",
       "</div>"
      ],
      "text/plain": [
       "          1.sütun   2.sütun   3.sütun\n",
       "1.satır -1.323360       NaN       NaN\n",
       "2.satır       NaN       NaN -1.029121\n",
       "3.satır -0.032038       NaN       NaN\n",
       "4.satır       NaN -0.000342       NaN"
      ]
     },
     "execution_count": 23,
     "metadata": {},
     "output_type": "execute_result"
    }
   ],
   "source": [
    "yeniDataFrame[yeniDataFrame<0]"
   ]
  },
  {
   "cell_type": "code",
   "execution_count": 24,
   "id": "7854a742",
   "metadata": {},
   "outputs": [
    {
     "data": {
      "text/html": [
       "<div>\n",
       "<style scoped>\n",
       "    .dataframe tbody tr th:only-of-type {\n",
       "        vertical-align: middle;\n",
       "    }\n",
       "\n",
       "    .dataframe tbody tr th {\n",
       "        vertical-align: top;\n",
       "    }\n",
       "\n",
       "    .dataframe thead th {\n",
       "        text-align: right;\n",
       "    }\n",
       "</style>\n",
       "<table border=\"1\" class=\"dataframe\">\n",
       "  <thead>\n",
       "    <tr style=\"text-align: right;\">\n",
       "      <th></th>\n",
       "      <th>1.sütun</th>\n",
       "      <th>2.sütun</th>\n",
       "      <th>3.sütun</th>\n",
       "    </tr>\n",
       "  </thead>\n",
       "  <tbody>\n",
       "    <tr>\n",
       "      <th>2.satır</th>\n",
       "      <td>0.780591</td>\n",
       "      <td>0.717228</td>\n",
       "      <td>-1.029121</td>\n",
       "    </tr>\n",
       "    <tr>\n",
       "      <th>4.satır</th>\n",
       "      <td>0.134644</td>\n",
       "      <td>-0.000342</td>\n",
       "      <td>0.796344</td>\n",
       "    </tr>\n",
       "  </tbody>\n",
       "</table>\n",
       "</div>"
      ],
      "text/plain": [
       "          1.sütun   2.sütun   3.sütun\n",
       "2.satır  0.780591  0.717228 -1.029121\n",
       "4.satır  0.134644 -0.000342  0.796344"
      ]
     },
     "execution_count": 24,
     "metadata": {},
     "output_type": "execute_result"
    }
   ],
   "source": [
    "yeniDataFrame[yeniDataFrame[\"1.sütun\"] > 0]"
   ]
  },
  {
   "cell_type": "code",
   "execution_count": 31,
   "id": "66376488",
   "metadata": {},
   "outputs": [],
   "source": [
    "yeniDataFrame.reset_index(inplace=True)"
   ]
  },
  {
   "cell_type": "code",
   "execution_count": 32,
   "id": "2ed47888",
   "metadata": {},
   "outputs": [
    {
     "data": {
      "text/html": [
       "<div>\n",
       "<style scoped>\n",
       "    .dataframe tbody tr th:only-of-type {\n",
       "        vertical-align: middle;\n",
       "    }\n",
       "\n",
       "    .dataframe tbody tr th {\n",
       "        vertical-align: top;\n",
       "    }\n",
       "\n",
       "    .dataframe thead th {\n",
       "        text-align: right;\n",
       "    }\n",
       "</style>\n",
       "<table border=\"1\" class=\"dataframe\">\n",
       "  <thead>\n",
       "    <tr style=\"text-align: right;\">\n",
       "      <th></th>\n",
       "      <th>level_0</th>\n",
       "      <th>index</th>\n",
       "      <th>1.sütun</th>\n",
       "      <th>2.sütun</th>\n",
       "      <th>3.sütun</th>\n",
       "    </tr>\n",
       "  </thead>\n",
       "  <tbody>\n",
       "    <tr>\n",
       "      <th>0</th>\n",
       "      <td>0</td>\n",
       "      <td>1.satır</td>\n",
       "      <td>-1.323360</td>\n",
       "      <td>1.730007</td>\n",
       "      <td>0.747343</td>\n",
       "    </tr>\n",
       "    <tr>\n",
       "      <th>1</th>\n",
       "      <td>1</td>\n",
       "      <td>2.satır</td>\n",
       "      <td>0.780591</td>\n",
       "      <td>0.717228</td>\n",
       "      <td>-1.029121</td>\n",
       "    </tr>\n",
       "    <tr>\n",
       "      <th>2</th>\n",
       "      <td>2</td>\n",
       "      <td>3.satır</td>\n",
       "      <td>-0.032038</td>\n",
       "      <td>0.405585</td>\n",
       "      <td>0.256722</td>\n",
       "    </tr>\n",
       "    <tr>\n",
       "      <th>3</th>\n",
       "      <td>3</td>\n",
       "      <td>4.satır</td>\n",
       "      <td>0.134644</td>\n",
       "      <td>-0.000342</td>\n",
       "      <td>0.796344</td>\n",
       "    </tr>\n",
       "  </tbody>\n",
       "</table>\n",
       "</div>"
      ],
      "text/plain": [
       "   level_0    index   1.sütun   2.sütun   3.sütun\n",
       "0        0  1.satır -1.323360  1.730007  0.747343\n",
       "1        1  2.satır  0.780591  0.717228 -1.029121\n",
       "2        2  3.satır -0.032038  0.405585  0.256722\n",
       "3        3  4.satır  0.134644 -0.000342  0.796344"
      ]
     },
     "execution_count": 32,
     "metadata": {},
     "output_type": "execute_result"
    }
   ],
   "source": [
    "yeniDataFrame"
   ]
  },
  {
   "cell_type": "code",
   "execution_count": 34,
   "id": "aa2a1266",
   "metadata": {},
   "outputs": [],
   "source": [
    "yeniIndexListesi = [\"Tolga\", \"Furkan\", \"Kılınç\",\"Ad\"]"
   ]
  },
  {
   "cell_type": "code",
   "execution_count": 36,
   "id": "b744b97a",
   "metadata": {},
   "outputs": [],
   "source": [
    "# hata : yeniDataFrame.set_index[\"Yeni Indeks\"] = yeniIndexListesi\n",
    "yeniDataFrame[\"Yeni Indeks\"] = yeniIndexListesi"
   ]
  },
  {
   "cell_type": "code",
   "execution_count": 37,
   "id": "8d26b5bd",
   "metadata": {},
   "outputs": [
    {
     "data": {
      "text/html": [
       "<div>\n",
       "<style scoped>\n",
       "    .dataframe tbody tr th:only-of-type {\n",
       "        vertical-align: middle;\n",
       "    }\n",
       "\n",
       "    .dataframe tbody tr th {\n",
       "        vertical-align: top;\n",
       "    }\n",
       "\n",
       "    .dataframe thead th {\n",
       "        text-align: right;\n",
       "    }\n",
       "</style>\n",
       "<table border=\"1\" class=\"dataframe\">\n",
       "  <thead>\n",
       "    <tr style=\"text-align: right;\">\n",
       "      <th></th>\n",
       "      <th>level_0</th>\n",
       "      <th>index</th>\n",
       "      <th>1.sütun</th>\n",
       "      <th>2.sütun</th>\n",
       "      <th>3.sütun</th>\n",
       "      <th>Yeni Indeks</th>\n",
       "    </tr>\n",
       "  </thead>\n",
       "  <tbody>\n",
       "    <tr>\n",
       "      <th>0</th>\n",
       "      <td>0</td>\n",
       "      <td>1.satır</td>\n",
       "      <td>-1.323360</td>\n",
       "      <td>1.730007</td>\n",
       "      <td>0.747343</td>\n",
       "      <td>Tolga</td>\n",
       "    </tr>\n",
       "    <tr>\n",
       "      <th>1</th>\n",
       "      <td>1</td>\n",
       "      <td>2.satır</td>\n",
       "      <td>0.780591</td>\n",
       "      <td>0.717228</td>\n",
       "      <td>-1.029121</td>\n",
       "      <td>Furkan</td>\n",
       "    </tr>\n",
       "    <tr>\n",
       "      <th>2</th>\n",
       "      <td>2</td>\n",
       "      <td>3.satır</td>\n",
       "      <td>-0.032038</td>\n",
       "      <td>0.405585</td>\n",
       "      <td>0.256722</td>\n",
       "      <td>Kılınç</td>\n",
       "    </tr>\n",
       "    <tr>\n",
       "      <th>3</th>\n",
       "      <td>3</td>\n",
       "      <td>4.satır</td>\n",
       "      <td>0.134644</td>\n",
       "      <td>-0.000342</td>\n",
       "      <td>0.796344</td>\n",
       "      <td>Ad</td>\n",
       "    </tr>\n",
       "  </tbody>\n",
       "</table>\n",
       "</div>"
      ],
      "text/plain": [
       "   level_0    index   1.sütun   2.sütun   3.sütun Yeni Indeks\n",
       "0        0  1.satır -1.323360  1.730007  0.747343       Tolga\n",
       "1        1  2.satır  0.780591  0.717228 -1.029121      Furkan\n",
       "2        2  3.satır -0.032038  0.405585  0.256722      Kılınç\n",
       "3        3  4.satır  0.134644 -0.000342  0.796344          Ad"
      ]
     },
     "execution_count": 37,
     "metadata": {},
     "output_type": "execute_result"
    }
   ],
   "source": [
    "yeniDataFrame"
   ]
  },
  {
   "cell_type": "code",
   "execution_count": 40,
   "id": "ecbdb5b6",
   "metadata": {},
   "outputs": [
    {
     "data": {
      "text/html": [
       "<div>\n",
       "<style scoped>\n",
       "    .dataframe tbody tr th:only-of-type {\n",
       "        vertical-align: middle;\n",
       "    }\n",
       "\n",
       "    .dataframe tbody tr th {\n",
       "        vertical-align: top;\n",
       "    }\n",
       "\n",
       "    .dataframe thead th {\n",
       "        text-align: right;\n",
       "    }\n",
       "</style>\n",
       "<table border=\"1\" class=\"dataframe\">\n",
       "  <thead>\n",
       "    <tr style=\"text-align: right;\">\n",
       "      <th></th>\n",
       "      <th>level_0</th>\n",
       "      <th>index</th>\n",
       "      <th>1.sütun</th>\n",
       "      <th>2.sütun</th>\n",
       "      <th>3.sütun</th>\n",
       "    </tr>\n",
       "    <tr>\n",
       "      <th>Yeni Indeks</th>\n",
       "      <th></th>\n",
       "      <th></th>\n",
       "      <th></th>\n",
       "      <th></th>\n",
       "      <th></th>\n",
       "    </tr>\n",
       "  </thead>\n",
       "  <tbody>\n",
       "    <tr>\n",
       "      <th>Tolga</th>\n",
       "      <td>0</td>\n",
       "      <td>1.satır</td>\n",
       "      <td>-1.323360</td>\n",
       "      <td>1.730007</td>\n",
       "      <td>0.747343</td>\n",
       "    </tr>\n",
       "    <tr>\n",
       "      <th>Furkan</th>\n",
       "      <td>1</td>\n",
       "      <td>2.satır</td>\n",
       "      <td>0.780591</td>\n",
       "      <td>0.717228</td>\n",
       "      <td>-1.029121</td>\n",
       "    </tr>\n",
       "    <tr>\n",
       "      <th>Kılınç</th>\n",
       "      <td>2</td>\n",
       "      <td>3.satır</td>\n",
       "      <td>-0.032038</td>\n",
       "      <td>0.405585</td>\n",
       "      <td>0.256722</td>\n",
       "    </tr>\n",
       "    <tr>\n",
       "      <th>Ad</th>\n",
       "      <td>3</td>\n",
       "      <td>4.satır</td>\n",
       "      <td>0.134644</td>\n",
       "      <td>-0.000342</td>\n",
       "      <td>0.796344</td>\n",
       "    </tr>\n",
       "  </tbody>\n",
       "</table>\n",
       "</div>"
      ],
      "text/plain": [
       "             level_0    index   1.sütun   2.sütun   3.sütun\n",
       "Yeni Indeks                                                \n",
       "Tolga              0  1.satır -1.323360  1.730007  0.747343\n",
       "Furkan             1  2.satır  0.780591  0.717228 -1.029121\n",
       "Kılınç             2  3.satır -0.032038  0.405585  0.256722\n",
       "Ad                 3  4.satır  0.134644 -0.000342  0.796344"
      ]
     },
     "execution_count": 40,
     "metadata": {},
     "output_type": "execute_result"
    }
   ],
   "source": [
    "yeniDataFrame.set_index(\"Yeni Indeks\")"
   ]
  },
  {
   "cell_type": "code",
   "execution_count": 42,
   "id": "0af553e4",
   "metadata": {},
   "outputs": [],
   "source": [
    "dısIndex = [\"Simpson\",\"Simpson\",\"Simpson\",\"South Park\",\"South Park\",\"South Park\",]"
   ]
  },
  {
   "cell_type": "code",
   "execution_count": 43,
   "id": "a6bc36f5",
   "metadata": {},
   "outputs": [],
   "source": [
    "icIndex = [\"Homer\" , \"Bart\", \"Marge\",\"Cartman\", \"Keny\", \"Kyle\"]"
   ]
  },
  {
   "cell_type": "code",
   "execution_count": 44,
   "id": "6683d6ca",
   "metadata": {},
   "outputs": [],
   "source": [
    "multiIndex = list(zip(dısIndex,icIndex))"
   ]
  },
  {
   "cell_type": "code",
   "execution_count": 45,
   "id": "7f627576",
   "metadata": {},
   "outputs": [
    {
     "data": {
      "text/plain": [
       "[('Simpson', 'Homer'),\n",
       " ('Simpson', 'Bart'),\n",
       " ('Simpson', 'Marge'),\n",
       " ('South Park', 'Cartman'),\n",
       " ('South Park', 'Keny'),\n",
       " ('South Park', 'Kyle')]"
      ]
     },
     "execution_count": 45,
     "metadata": {},
     "output_type": "execute_result"
    }
   ],
   "source": [
    "multiIndex"
   ]
  },
  {
   "cell_type": "code",
   "execution_count": 46,
   "id": "20dd5814",
   "metadata": {},
   "outputs": [],
   "source": [
    "multiIndex = pd.MultiIndex.from_tuples(multiIndex)"
   ]
  },
  {
   "cell_type": "code",
   "execution_count": 47,
   "id": "597519f2",
   "metadata": {},
   "outputs": [
    {
     "data": {
      "text/plain": [
       "MultiIndex([(   'Simpson',   'Homer'),\n",
       "            (   'Simpson',    'Bart'),\n",
       "            (   'Simpson',   'Marge'),\n",
       "            ('South Park', 'Cartman'),\n",
       "            ('South Park',    'Keny'),\n",
       "            ('South Park',    'Kyle')],\n",
       "           )"
      ]
     },
     "execution_count": 47,
     "metadata": {},
     "output_type": "execute_result"
    }
   ],
   "source": [
    "multiIndex"
   ]
  },
  {
   "cell_type": "code",
   "execution_count": 48,
   "id": "c8f49154",
   "metadata": {},
   "outputs": [],
   "source": [
    "cizgiFilmListesi = [[40,\"A\"],[10,\"B\"],[30,\"C\"],[9,\"D\"],[6,\"E\"],[9,\"F\"]]"
   ]
  },
  {
   "cell_type": "code",
   "execution_count": 49,
   "id": "c3dae865",
   "metadata": {},
   "outputs": [],
   "source": [
    "excelHali = pd.DataFrame(cizgiFilmListesi,index=multiIndex,columns=[\"Yaş\",\"Meslek\"])"
   ]
  },
  {
   "cell_type": "code",
   "execution_count": 50,
   "id": "83b9941e",
   "metadata": {},
   "outputs": [
    {
     "data": {
      "text/html": [
       "<div>\n",
       "<style scoped>\n",
       "    .dataframe tbody tr th:only-of-type {\n",
       "        vertical-align: middle;\n",
       "    }\n",
       "\n",
       "    .dataframe tbody tr th {\n",
       "        vertical-align: top;\n",
       "    }\n",
       "\n",
       "    .dataframe thead th {\n",
       "        text-align: right;\n",
       "    }\n",
       "</style>\n",
       "<table border=\"1\" class=\"dataframe\">\n",
       "  <thead>\n",
       "    <tr style=\"text-align: right;\">\n",
       "      <th></th>\n",
       "      <th></th>\n",
       "      <th>Yaş</th>\n",
       "      <th>Meslek</th>\n",
       "    </tr>\n",
       "  </thead>\n",
       "  <tbody>\n",
       "    <tr>\n",
       "      <th rowspan=\"3\" valign=\"top\">Simpson</th>\n",
       "      <th>Homer</th>\n",
       "      <td>40</td>\n",
       "      <td>A</td>\n",
       "    </tr>\n",
       "    <tr>\n",
       "      <th>Bart</th>\n",
       "      <td>10</td>\n",
       "      <td>B</td>\n",
       "    </tr>\n",
       "    <tr>\n",
       "      <th>Marge</th>\n",
       "      <td>30</td>\n",
       "      <td>C</td>\n",
       "    </tr>\n",
       "    <tr>\n",
       "      <th rowspan=\"3\" valign=\"top\">South Park</th>\n",
       "      <th>Cartman</th>\n",
       "      <td>9</td>\n",
       "      <td>D</td>\n",
       "    </tr>\n",
       "    <tr>\n",
       "      <th>Keny</th>\n",
       "      <td>6</td>\n",
       "      <td>E</td>\n",
       "    </tr>\n",
       "    <tr>\n",
       "      <th>Kyle</th>\n",
       "      <td>9</td>\n",
       "      <td>F</td>\n",
       "    </tr>\n",
       "  </tbody>\n",
       "</table>\n",
       "</div>"
      ],
      "text/plain": [
       "                    Yaş Meslek\n",
       "Simpson    Homer     40      A\n",
       "           Bart      10      B\n",
       "           Marge     30      C\n",
       "South Park Cartman    9      D\n",
       "           Keny       6      E\n",
       "           Kyle       9      F"
      ]
     },
     "execution_count": 50,
     "metadata": {},
     "output_type": "execute_result"
    }
   ],
   "source": [
    "excelHali"
   ]
  },
  {
   "cell_type": "code",
   "execution_count": 57,
   "id": "cb7d30c2",
   "metadata": {},
   "outputs": [
    {
     "data": {
      "text/plain": [
       "Homer    40\n",
       "Bart     10\n",
       "Marge    30\n",
       "Name: Yaş, dtype: int64"
      ]
     },
     "execution_count": 57,
     "metadata": {},
     "output_type": "execute_result"
    }
   ],
   "source": [
    "excelHali.loc[\"Simpson\"][\"Yaş\"]"
   ]
  },
  {
   "cell_type": "code",
   "execution_count": 58,
   "id": "932fea2d",
   "metadata": {},
   "outputs": [],
   "source": [
    "excelHali.index.names = [\"Film Adı\",\"İsim\"]"
   ]
  },
  {
   "cell_type": "code",
   "execution_count": 59,
   "id": "8fc69b1e",
   "metadata": {},
   "outputs": [
    {
     "data": {
      "text/html": [
       "<div>\n",
       "<style scoped>\n",
       "    .dataframe tbody tr th:only-of-type {\n",
       "        vertical-align: middle;\n",
       "    }\n",
       "\n",
       "    .dataframe tbody tr th {\n",
       "        vertical-align: top;\n",
       "    }\n",
       "\n",
       "    .dataframe thead th {\n",
       "        text-align: right;\n",
       "    }\n",
       "</style>\n",
       "<table border=\"1\" class=\"dataframe\">\n",
       "  <thead>\n",
       "    <tr style=\"text-align: right;\">\n",
       "      <th></th>\n",
       "      <th></th>\n",
       "      <th>Yaş</th>\n",
       "      <th>Meslek</th>\n",
       "    </tr>\n",
       "    <tr>\n",
       "      <th>Film Adı</th>\n",
       "      <th>İsim</th>\n",
       "      <th></th>\n",
       "      <th></th>\n",
       "    </tr>\n",
       "  </thead>\n",
       "  <tbody>\n",
       "    <tr>\n",
       "      <th rowspan=\"3\" valign=\"top\">Simpson</th>\n",
       "      <th>Homer</th>\n",
       "      <td>40</td>\n",
       "      <td>A</td>\n",
       "    </tr>\n",
       "    <tr>\n",
       "      <th>Bart</th>\n",
       "      <td>10</td>\n",
       "      <td>B</td>\n",
       "    </tr>\n",
       "    <tr>\n",
       "      <th>Marge</th>\n",
       "      <td>30</td>\n",
       "      <td>C</td>\n",
       "    </tr>\n",
       "    <tr>\n",
       "      <th rowspan=\"3\" valign=\"top\">South Park</th>\n",
       "      <th>Cartman</th>\n",
       "      <td>9</td>\n",
       "      <td>D</td>\n",
       "    </tr>\n",
       "    <tr>\n",
       "      <th>Keny</th>\n",
       "      <td>6</td>\n",
       "      <td>E</td>\n",
       "    </tr>\n",
       "    <tr>\n",
       "      <th>Kyle</th>\n",
       "      <td>9</td>\n",
       "      <td>F</td>\n",
       "    </tr>\n",
       "  </tbody>\n",
       "</table>\n",
       "</div>"
      ],
      "text/plain": [
       "                    Yaş Meslek\n",
       "Film Adı   İsim               \n",
       "Simpson    Homer     40      A\n",
       "           Bart      10      B\n",
       "           Marge     30      C\n",
       "South Park Cartman    9      D\n",
       "           Keny       6      E\n",
       "           Kyle       9      F"
      ]
     },
     "execution_count": 59,
     "metadata": {},
     "output_type": "execute_result"
    }
   ],
   "source": [
    "excelHali"
   ]
  },
  {
   "cell_type": "code",
   "execution_count": null,
   "id": "49f5ab13",
   "metadata": {},
   "outputs": [],
   "source": []
  }
 ],
 "metadata": {
  "kernelspec": {
   "display_name": "Python 3 (ipykernel)",
   "language": "python",
   "name": "python3"
  },
  "language_info": {
   "codemirror_mode": {
    "name": "ipython",
    "version": 3
   },
   "file_extension": ".py",
   "mimetype": "text/x-python",
   "name": "python",
   "nbconvert_exporter": "python",
   "pygments_lexer": "ipython3",
   "version": "3.9.12"
  }
 },
 "nbformat": 4,
 "nbformat_minor": 5
}
