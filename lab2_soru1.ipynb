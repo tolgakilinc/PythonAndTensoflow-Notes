{
 "cells": [
  {
   "cell_type": "code",
   "execution_count": 34,
   "id": "9c79fffb",
   "metadata": {},
   "outputs": [],
   "source": [
    "import numpy as np"
   ]
  },
  {
   "cell_type": "code",
   "execution_count": 35,
   "id": "55922010",
   "metadata": {},
   "outputs": [],
   "source": [
    "karakterDizisi=\"Bölümümüz, lisans ve lisansüstü düzeyde kaliteli bir eğitim vermektedir. Bu çerçevede; üniversitemizin akademik hedeflerine uygun şekilde, mezunlarımızın mesleki etiği gözeterek farklı sektörlerde kullanabilecekleri yararlı ve çözümleyici beceriler ve uzmanlıklar geliştirmeleri amaçlanmaktadır.  Bölümümüzün akademik kadrosu genç ve dinamik bir kadrodur. Farklı uzmanlıklara sahip öğretim üyelerimiz, öğrencilerin bilgisayar bilimlerinde kendilerini geliştirmelerine yardımcı olmakta ve öğrencilere çok çeşitli alanlarda yol göstermektedirler. Teknolojinin ve bilgisayar bilimlerinin son yıllarda hızla artan önemi ve hayatımızdaki etkileri göz önüne alındığında, bilgisayar mühendislerinin ne kadar önemli pozisyonlarda olabildikleri ve ne kadar büyük sorumluluklar yüklenebilecekleri ortadadır. Bu bağlamda; Bilgisayar Mühendisliği mesleğini tercih ederek bölümümüze renk ve heyecan katan mevcut öğrencilerimize ve bölümümüzü tercih ederek aramıza katılacak yeni öğrenci arkadaşlarımıza büyük görevler düşmektedir. Bizler diğer mühendislik fakültelerinden farklı olarak, öğrencilerimize daha çok uygulama imkânı, laboratuvar imkânları, staj imkânları ve sanayi ile işbirliği ortamlarını sağlama gayreti içindeyiz. Daha da önemlisi, öğrencilerimiz sektördeki firmalarla erken tanışma fırsatı bulmakta ve mezuniyet sonrası hızlı ve nitelikli istihdam potansiyelleri artmaktadır.\""
   ]
  },
  {
   "cell_type": "code",
   "execution_count": 36,
   "id": "d738852b",
   "metadata": {},
   "outputs": [
    {
     "data": {
      "text/plain": [
       "'Bölümümüz, lisans ve lisansüstü düzeyde kaliteli bir eğitim vermektedir. Bu çerçevede; üniversitemizin akademik hedeflerine uygun şekilde, mezunlarımızın mesleki etiği gözeterek farklı sektörlerde kullanabilecekleri yararlı ve çözümleyici beceriler ve uzmanlıklar geliştirmeleri amaçlanmaktadır.  Bölümümüzün akademik kadrosu genç ve dinamik bir kadrodur. Farklı uzmanlıklara sahip öğretim üyelerimiz, öğrencilerin bilgisayar bilimlerinde kendilerini geliştirmelerine yardımcı olmakta ve öğrencilere çok çeşitli alanlarda yol göstermektedirler. Teknolojinin ve bilgisayar bilimlerinin son yıllarda hızla artan önemi ve hayatımızdaki etkileri göz önüne alındığında, bilgisayar mühendislerinin ne kadar önemli pozisyonlarda olabildikleri ve ne kadar büyük sorumluluklar yüklenebilecekleri ortadadır. Bu bağlamda; Bilgisayar Mühendisliği mesleğini tercih ederek bölümümüze renk ve heyecan katan mevcut öğrencilerimize ve bölümümüzü tercih ederek aramıza katılacak yeni öğrenci arkadaşlarımıza büyük görevler düşmektedir. Bizler diğer mühendislik fakültelerinden farklı olarak, öğrencilerimize daha çok uygulama imkânı, laboratuvar imkânları, staj imkânları ve sanayi ile işbirliği ortamlarını sağlama gayreti içindeyiz. Daha da önemlisi, öğrencilerimiz sektördeki firmalarla erken tanışma fırsatı bulmakta ve mezuniyet sonrası hızlı ve nitelikli istihdam potansiyelleri artmaktadır.'"
      ]
     },
     "execution_count": 36,
     "metadata": {},
     "output_type": "execute_result"
    }
   ],
   "source": [
    "karakterDizisi"
   ]
  },
  {
   "cell_type": "code",
   "execution_count": 37,
   "id": "dd03af32",
   "metadata": {},
   "outputs": [],
   "source": [
    "karakterDizisi = karakterDizisi.replace(\",\",\" \").replace(\".\",\"\").replace(\";\",\"\").lower()\n",
    "\n"
   ]
  },
  {
   "cell_type": "code",
   "execution_count": 38,
   "id": "072da705",
   "metadata": {},
   "outputs": [
    {
     "data": {
      "text/plain": [
       "'bölümümüz  lisans ve lisansüstü düzeyde kaliteli bir eğitim vermektedir bu çerçevede üniversitemizin akademik hedeflerine uygun şekilde  mezunlarımızın mesleki etiği gözeterek farklı sektörlerde kullanabilecekleri yararlı ve çözümleyici beceriler ve uzmanlıklar geliştirmeleri amaçlanmaktadır  bölümümüzün akademik kadrosu genç ve dinamik bir kadrodur farklı uzmanlıklara sahip öğretim üyelerimiz  öğrencilerin bilgisayar bilimlerinde kendilerini geliştirmelerine yardımcı olmakta ve öğrencilere çok çeşitli alanlarda yol göstermektedirler teknolojinin ve bilgisayar bilimlerinin son yıllarda hızla artan önemi ve hayatımızdaki etkileri göz önüne alındığında  bilgisayar mühendislerinin ne kadar önemli pozisyonlarda olabildikleri ve ne kadar büyük sorumluluklar yüklenebilecekleri ortadadır bu bağlamda bilgisayar mühendisliği mesleğini tercih ederek bölümümüze renk ve heyecan katan mevcut öğrencilerimize ve bölümümüzü tercih ederek aramıza katılacak yeni öğrenci arkadaşlarımıza büyük görevler düşmektedir bizler diğer mühendislik fakültelerinden farklı olarak  öğrencilerimize daha çok uygulama imkânı  laboratuvar imkânları  staj imkânları ve sanayi ile işbirliği ortamlarını sağlama gayreti içindeyiz daha da önemlisi  öğrencilerimiz sektördeki firmalarla erken tanışma fırsatı bulmakta ve mezuniyet sonrası hızlı ve nitelikli istihdam potansiyelleri artmaktadır'"
      ]
     },
     "execution_count": 38,
     "metadata": {},
     "output_type": "execute_result"
    }
   ],
   "source": [
    "karakterDizisi"
   ]
  },
  {
   "cell_type": "code",
   "execution_count": 39,
   "id": "43f03f23",
   "metadata": {},
   "outputs": [],
   "source": [
    "words = karakterDizisi.split()"
   ]
  },
  {
   "cell_type": "code",
   "execution_count": 40,
   "id": "cb06bcb5",
   "metadata": {},
   "outputs": [
    {
     "data": {
      "text/plain": [
       "['bölümümüz',\n",
       " 'lisans',\n",
       " 've',\n",
       " 'lisansüstü',\n",
       " 'düzeyde',\n",
       " 'kaliteli',\n",
       " 'bir',\n",
       " 'eğitim',\n",
       " 'vermektedir',\n",
       " 'bu',\n",
       " 'çerçevede',\n",
       " 'üniversitemizin',\n",
       " 'akademik',\n",
       " 'hedeflerine',\n",
       " 'uygun',\n",
       " 'şekilde',\n",
       " 'mezunlarımızın',\n",
       " 'mesleki',\n",
       " 'etiği',\n",
       " 'gözeterek',\n",
       " 'farklı',\n",
       " 'sektörlerde',\n",
       " 'kullanabilecekleri',\n",
       " 'yararlı',\n",
       " 've',\n",
       " 'çözümleyici',\n",
       " 'beceriler',\n",
       " 've',\n",
       " 'uzmanlıklar',\n",
       " 'geliştirmeleri',\n",
       " 'amaçlanmaktadır',\n",
       " 'bölümümüzün',\n",
       " 'akademik',\n",
       " 'kadrosu',\n",
       " 'genç',\n",
       " 've',\n",
       " 'dinamik',\n",
       " 'bir',\n",
       " 'kadrodur',\n",
       " 'farklı',\n",
       " 'uzmanlıklara',\n",
       " 'sahip',\n",
       " 'öğretim',\n",
       " 'üyelerimiz',\n",
       " 'öğrencilerin',\n",
       " 'bilgisayar',\n",
       " 'bilimlerinde',\n",
       " 'kendilerini',\n",
       " 'geliştirmelerine',\n",
       " 'yardımcı',\n",
       " 'olmakta',\n",
       " 've',\n",
       " 'öğrencilere',\n",
       " 'çok',\n",
       " 'çeşitli',\n",
       " 'alanlarda',\n",
       " 'yol',\n",
       " 'göstermektedirler',\n",
       " 'teknolojinin',\n",
       " 've',\n",
       " 'bilgisayar',\n",
       " 'bilimlerinin',\n",
       " 'son',\n",
       " 'yıllarda',\n",
       " 'hızla',\n",
       " 'artan',\n",
       " 'önemi',\n",
       " 've',\n",
       " 'hayatımızdaki',\n",
       " 'etkileri',\n",
       " 'göz',\n",
       " 'önüne',\n",
       " 'alındığında',\n",
       " 'bilgisayar',\n",
       " 'mühendislerinin',\n",
       " 'ne',\n",
       " 'kadar',\n",
       " 'önemli',\n",
       " 'pozisyonlarda',\n",
       " 'olabildikleri',\n",
       " 've',\n",
       " 'ne',\n",
       " 'kadar',\n",
       " 'büyük',\n",
       " 'sorumluluklar',\n",
       " 'yüklenebilecekleri',\n",
       " 'ortadadır',\n",
       " 'bu',\n",
       " 'bağlamda',\n",
       " 'bilgisayar',\n",
       " 'mühendisliği',\n",
       " 'mesleğini',\n",
       " 'tercih',\n",
       " 'ederek',\n",
       " 'bölümümüze',\n",
       " 'renk',\n",
       " 've',\n",
       " 'heyecan',\n",
       " 'katan',\n",
       " 'mevcut',\n",
       " 'öğrencilerimize',\n",
       " 've',\n",
       " 'bölümümüzü',\n",
       " 'tercih',\n",
       " 'ederek',\n",
       " 'aramıza',\n",
       " 'katılacak',\n",
       " 'yeni',\n",
       " 'öğrenci',\n",
       " 'arkadaşlarımıza',\n",
       " 'büyük',\n",
       " 'görevler',\n",
       " 'düşmektedir',\n",
       " 'bizler',\n",
       " 'diğer',\n",
       " 'mühendislik',\n",
       " 'fakültelerinden',\n",
       " 'farklı',\n",
       " 'olarak',\n",
       " 'öğrencilerimize',\n",
       " 'daha',\n",
       " 'çok',\n",
       " 'uygulama',\n",
       " 'imkânı',\n",
       " 'laboratuvar',\n",
       " 'imkânları',\n",
       " 'staj',\n",
       " 'imkânları',\n",
       " 've',\n",
       " 'sanayi',\n",
       " 'ile',\n",
       " 'işbirliği',\n",
       " 'ortamlarını',\n",
       " 'sağlama',\n",
       " 'gayreti',\n",
       " 'içindeyiz',\n",
       " 'daha',\n",
       " 'da',\n",
       " 'önemlisi',\n",
       " 'öğrencilerimiz',\n",
       " 'sektördeki',\n",
       " 'firmalarla',\n",
       " 'erken',\n",
       " 'tanışma',\n",
       " 'fırsatı',\n",
       " 'bulmakta',\n",
       " 've',\n",
       " 'mezuniyet',\n",
       " 'sonrası',\n",
       " 'hızlı',\n",
       " 've',\n",
       " 'nitelikli',\n",
       " 'istihdam',\n",
       " 'potansiyelleri',\n",
       " 'artmaktadır']"
      ]
     },
     "execution_count": 40,
     "metadata": {},
     "output_type": "execute_result"
    }
   ],
   "source": [
    "words"
   ]
  },
  {
   "cell_type": "code",
   "execution_count": 41,
   "id": "b9986812",
   "metadata": {},
   "outputs": [],
   "source": [
    "wordsWithCounts = {}"
   ]
  },
  {
   "cell_type": "code",
   "execution_count": 42,
   "id": "e30ab9eb",
   "metadata": {},
   "outputs": [
    {
     "name": "stdout",
     "output_type": "stream",
     "text": [
      "{'ve': 13, 'bilgisayar': 4, 'farklı': 3, 'bir': 2, 'bu': 2, 'akademik': 2, 'çok': 2, 'ne': 2, 'kadar': 2, 'büyük': 2, 'tercih': 2, 'ederek': 2, 'öğrencilerimize': 2, 'daha': 2, 'imkânları': 2, 'bölümümüz': 1, 'lisans': 1, 'lisansüstü': 1, 'düzeyde': 1, 'kaliteli': 1, 'eğitim': 1, 'vermektedir': 1, 'çerçevede': 1, 'üniversitemizin': 1, 'hedeflerine': 1, 'uygun': 1, 'şekilde': 1, 'mezunlarımızın': 1, 'mesleki': 1, 'etiği': 1, 'gözeterek': 1, 'sektörlerde': 1, 'kullanabilecekleri': 1, 'yararlı': 1, 'çözümleyici': 1, 'beceriler': 1, 'uzmanlıklar': 1, 'geliştirmeleri': 1, 'amaçlanmaktadır': 1, 'bölümümüzün': 1, 'kadrosu': 1, 'genç': 1, 'dinamik': 1, 'kadrodur': 1, 'uzmanlıklara': 1, 'sahip': 1, 'öğretim': 1, 'üyelerimiz': 1, 'öğrencilerin': 1, 'bilimlerinde': 1, 'kendilerini': 1, 'geliştirmelerine': 1, 'yardımcı': 1, 'olmakta': 1, 'öğrencilere': 1, 'çeşitli': 1, 'alanlarda': 1, 'yol': 1, 'göstermektedirler': 1, 'teknolojinin': 1, 'bilimlerinin': 1, 'son': 1, 'yıllarda': 1, 'hızla': 1, 'artan': 1, 'önemi': 1, 'hayatımızdaki': 1, 'etkileri': 1, 'göz': 1, 'önüne': 1, 'alındığında': 1, 'mühendislerinin': 1, 'önemli': 1, 'pozisyonlarda': 1, 'olabildikleri': 1, 'sorumluluklar': 1, 'yüklenebilecekleri': 1, 'ortadadır': 1, 'bağlamda': 1, 'mühendisliği': 1, 'mesleğini': 1, 'bölümümüze': 1, 'renk': 1, 'heyecan': 1, 'katan': 1, 'mevcut': 1, 'bölümümüzü': 1, 'aramıza': 1, 'katılacak': 1, 'yeni': 1, 'öğrenci': 1, 'arkadaşlarımıza': 1, 'görevler': 1, 'düşmektedir': 1, 'bizler': 1, 'diğer': 1, 'mühendislik': 1, 'fakültelerinden': 1, 'olarak': 1, 'uygulama': 1, 'imkânı': 1, 'laboratuvar': 1, 'staj': 1, 'sanayi': 1, 'ile': 1, 'işbirliği': 1, 'ortamlarını': 1, 'sağlama': 1, 'gayreti': 1, 'içindeyiz': 1, 'da': 1, 'önemlisi': 1, 'öğrencilerimiz': 1, 'sektördeki': 1, 'firmalarla': 1, 'erken': 1, 'tanışma': 1, 'fırsatı': 1, 'bulmakta': 1, 'mezuniyet': 1, 'sonrası': 1, 'hızlı': 1, 'nitelikli': 1, 'istihdam': 1, 'potansiyelleri': 1, 'artmaktadır': 1}\n"
     ]
    }
   ],
   "source": [
    "for word in words:\n",
    "    wordCount = words.count(word)\n",
    "    if word not in wordsWithCounts:\n",
    "        wordsWithCounts[word] = wordCount\n",
    "sorted_d = {k: v for k, v in sorted(wordsWithCounts.items(), key=lambda item: item[1], reverse=True)}\n",
    "print(sorted_d)"
   ]
  }
 ],
 "metadata": {
  "kernelspec": {
   "display_name": "Python 3 (ipykernel)",
   "language": "python",
   "name": "python3"
  },
  "language_info": {
   "codemirror_mode": {
    "name": "ipython",
    "version": 3
   },
   "file_extension": ".py",
   "mimetype": "text/x-python",
   "name": "python",
   "nbconvert_exporter": "python",
   "pygments_lexer": "ipython3",
   "version": "3.9.12"
  }
 },
 "nbformat": 4,
 "nbformat_minor": 5
}
