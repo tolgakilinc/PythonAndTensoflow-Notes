{
 "cells": [
  {
   "cell_type": "code",
   "execution_count": 1,
   "id": "a034f472",
   "metadata": {},
   "outputs": [],
   "source": [
    "ilkListe = list()"
   ]
  },
  {
   "cell_type": "code",
   "execution_count": 2,
   "id": "066492e8",
   "metadata": {},
   "outputs": [
    {
     "data": {
      "text/plain": [
       "list"
      ]
     },
     "execution_count": 2,
     "metadata": {},
     "output_type": "execute_result"
    }
   ],
   "source": [
    "type(ilkListe)"
   ]
  },
  {
   "cell_type": "markdown",
   "id": "1fd81613",
   "metadata": {},
   "source": [
    "## instance & attribute"
   ]
  },
  {
   "cell_type": "code",
   "execution_count": 3,
   "id": "8ded2dde",
   "metadata": {},
   "outputs": [],
   "source": [
    "class tanitim():\n",
    "    \n",
    "    memleket = \"anamur\"\n",
    "    def __init__(self,isim,yas,meslek):\n",
    "        print(\"init çağrıldı\")\n",
    "        self.isim = isim\n",
    "        self.yas = yas\n",
    "        self.meslek = meslek\n",
    "        \n",
    "    def ilkMethod(self):\n",
    "        print(f\"Selam benim mesleğim : {self.meslek}\")"
   ]
  },
  {
   "cell_type": "code",
   "execution_count": 4,
   "id": "6422b818",
   "metadata": {},
   "outputs": [
    {
     "name": "stdout",
     "output_type": "stream",
     "text": [
      "init çağrıldı\n"
     ]
    }
   ],
   "source": [
    "superman = tanitim(\"ali\",31,\"veli\")"
   ]
  },
  {
   "cell_type": "code",
   "execution_count": 5,
   "id": "8a7c0826",
   "metadata": {},
   "outputs": [
    {
     "data": {
      "text/plain": [
       "'ali'"
      ]
     },
     "execution_count": 5,
     "metadata": {},
     "output_type": "execute_result"
    }
   ],
   "source": [
    "superman.isim"
   ]
  },
  {
   "cell_type": "code",
   "execution_count": 6,
   "id": "ca4881b6",
   "metadata": {},
   "outputs": [],
   "source": [
    "superman.meslek = \"kebabçı\""
   ]
  },
  {
   "cell_type": "code",
   "execution_count": 7,
   "id": "0858534e",
   "metadata": {},
   "outputs": [
    {
     "data": {
      "text/plain": [
       "'ali'"
      ]
     },
     "execution_count": 7,
     "metadata": {},
     "output_type": "execute_result"
    }
   ],
   "source": [
    "superman.isim"
   ]
  },
  {
   "cell_type": "code",
   "execution_count": 8,
   "id": "cb48d0c0",
   "metadata": {},
   "outputs": [
    {
     "data": {
      "text/plain": [
       "'kebabçı'"
      ]
     },
     "execution_count": 8,
     "metadata": {},
     "output_type": "execute_result"
    }
   ],
   "source": [
    "superman.meslek"
   ]
  },
  {
   "cell_type": "code",
   "execution_count": 9,
   "id": "d1fc475e",
   "metadata": {},
   "outputs": [],
   "source": [
    "#method"
   ]
  },
  {
   "cell_type": "code",
   "execution_count": 10,
   "id": "274400d5",
   "metadata": {},
   "outputs": [
    {
     "name": "stdout",
     "output_type": "stream",
     "text": [
      "Selam benim mesleğim : kebabçı\n"
     ]
    }
   ],
   "source": [
    "superman.ilkMethod()"
   ]
  },
  {
   "cell_type": "code",
   "execution_count": 11,
   "id": "348a0f13",
   "metadata": {},
   "outputs": [
    {
     "data": {
      "text/plain": [
       "31"
      ]
     },
     "execution_count": 11,
     "metadata": {},
     "output_type": "execute_result"
    }
   ],
   "source": [
    "superman.yas"
   ]
  },
  {
   "cell_type": "code",
   "execution_count": 12,
   "id": "3287c602",
   "metadata": {},
   "outputs": [
    {
     "data": {
      "text/plain": [
       "'kebabçı'"
      ]
     },
     "execution_count": 12,
     "metadata": {},
     "output_type": "execute_result"
    }
   ],
   "source": [
    "superman.meslek"
   ]
  },
  {
   "cell_type": "code",
   "execution_count": 13,
   "id": "a1d193d7",
   "metadata": {},
   "outputs": [
    {
     "data": {
      "text/plain": [
       "'anamur'"
      ]
     },
     "execution_count": 13,
     "metadata": {},
     "output_type": "execute_result"
    }
   ],
   "source": [
    "superman.memleket"
   ]
  },
  {
   "cell_type": "markdown",
   "id": "c4a19d70",
   "metadata": {},
   "source": [
    "## default değerler"
   ]
  },
  {
   "cell_type": "code",
   "execution_count": 14,
   "id": "bd4872ba",
   "metadata": {},
   "outputs": [],
   "source": [
    "class dog():\n",
    "    insanYas = 7\n",
    "    def __init__(self,yas=1):\n",
    "        self.yas = yas\n",
    "    def insanYasHesaplama(self):\n",
    "        insanYası = self.yas * dog.insanYas\n",
    "        return insanYası\n",
    "        \n",
    "        "
   ]
  },
  {
   "cell_type": "code",
   "execution_count": 15,
   "id": "a8ae4358",
   "metadata": {},
   "outputs": [],
   "source": [
    "kopek = dog(2)"
   ]
  },
  {
   "cell_type": "code",
   "execution_count": 16,
   "id": "36beb37d",
   "metadata": {},
   "outputs": [
    {
     "data": {
      "text/plain": [
       "2"
      ]
     },
     "execution_count": 16,
     "metadata": {},
     "output_type": "execute_result"
    }
   ],
   "source": [
    "kopek.yas"
   ]
  },
  {
   "cell_type": "code",
   "execution_count": 17,
   "id": "3a43a39e",
   "metadata": {},
   "outputs": [
    {
     "data": {
      "text/plain": [
       "2"
      ]
     },
     "execution_count": 17,
     "metadata": {},
     "output_type": "execute_result"
    }
   ],
   "source": [
    "kopek.yas"
   ]
  },
  {
   "cell_type": "code",
   "execution_count": 18,
   "id": "002232e4",
   "metadata": {},
   "outputs": [
    {
     "data": {
      "text/plain": [
       "14"
      ]
     },
     "execution_count": 18,
     "metadata": {},
     "output_type": "execute_result"
    }
   ],
   "source": [
    "kopek.insanYasHesaplama()"
   ]
  },
  {
   "cell_type": "code",
   "execution_count": 19,
   "id": "320efb6e",
   "metadata": {},
   "outputs": [],
   "source": [
    "class emeklilik():\n",
    "    def __init__(self):\n",
    "        self.yas = int(input(\"Yaşınızı giriniz lütfen : \"))\n",
    "    def emeklilikHesaplama(self):\n",
    "        if self.yas >= 18:\n",
    "            emekliYas  = self.yas + 25\n",
    "            print(f\"EYT ÇIKARSA => Emeklilik yaşınız : {emekliYas}\")\n",
    "        elif self.yas < 18:\n",
    "            print(\"Emeklilik hesaplaması için 18 yaşından büyük olmalısınız.\")\n",
    "            \n",
    "       # return emekliYas"
   ]
  },
  {
   "cell_type": "code",
   "execution_count": 38,
   "id": "c38b006e",
   "metadata": {},
   "outputs": [
    {
     "name": "stdout",
     "output_type": "stream",
     "text": [
      "Yaşınızı giriniz lütfen : 25\n"
     ]
    }
   ],
   "source": [
    "yasli = emeklilik()"
   ]
  },
  {
   "cell_type": "code",
   "execution_count": 39,
   "id": "e79b664f",
   "metadata": {},
   "outputs": [
    {
     "name": "stdout",
     "output_type": "stream",
     "text": [
      "EYT ÇIKARSA => Emeklilik yaşınız : 50\n"
     ]
    }
   ],
   "source": [
    "yasli.emeklilikHesaplama()"
   ]
  },
  {
   "cell_type": "markdown",
   "id": "017d4198",
   "metadata": {},
   "source": [
    "## inheritance"
   ]
  },
  {
   "cell_type": "code",
   "execution_count": 40,
   "id": "f0d25b97",
   "metadata": {},
   "outputs": [],
   "source": [
    "class kalitim():\n",
    "    def __init__(self):\n",
    "        print(\"ana kalitim sınıfı\")\n",
    "    def method1(self):\n",
    "        print(\"kalitim sınıf method 1 çağrıldı\")\n",
    "    \n",
    "    def method2(self):\n",
    "        print(\"kalitim sınıf method 2 çağrıldı\")"
   ]
  },
  {
   "cell_type": "code",
   "execution_count": 41,
   "id": "fe610109",
   "metadata": {},
   "outputs": [],
   "source": [
    "class aKalitim(kalitim):\n",
    "    def __init__(self):\n",
    "        kalitim.method1\n",
    "        kalitim.mro\n",
    "        print(\"aKalitim sınıfı\")\n",
    "    def kal(self):\n",
    "        print(\"nerede kal\")\n",
    "    def method1(self):\n",
    "        print(\"alt sınıftaki method1\")"
   ]
  },
  {
   "cell_type": "code",
   "execution_count": 42,
   "id": "34b1733f",
   "metadata": {},
   "outputs": [
    {
     "name": "stdout",
     "output_type": "stream",
     "text": [
      "aKalitim sınıfı\n"
     ]
    }
   ],
   "source": [
    "altInheritance = aKalitim()"
   ]
  },
  {
   "cell_type": "code",
   "execution_count": 43,
   "id": "7692f467",
   "metadata": {},
   "outputs": [
    {
     "name": "stdout",
     "output_type": "stream",
     "text": [
      "alt sınıftaki method1\n"
     ]
    }
   ],
   "source": [
    "altInheritance.method1()"
   ]
  },
  {
   "cell_type": "code",
   "execution_count": 44,
   "id": "a4b75391",
   "metadata": {},
   "outputs": [
    {
     "name": "stdout",
     "output_type": "stream",
     "text": [
      "nerede kal\n"
     ]
    }
   ],
   "source": [
    "altInheritance.kal()"
   ]
  },
  {
   "cell_type": "code",
   "execution_count": 45,
   "id": "8df8c5e7",
   "metadata": {},
   "outputs": [
    {
     "name": "stdout",
     "output_type": "stream",
     "text": [
      "alt sınıftaki method1\n"
     ]
    }
   ],
   "source": [
    "altInheritance.method1()"
   ]
  },
  {
   "cell_type": "markdown",
   "id": "8a4c806e",
   "metadata": {},
   "source": [
    "## polimorphism"
   ]
  },
  {
   "cell_type": "code",
   "execution_count": 56,
   "id": "2fcafddf",
   "metadata": {},
   "outputs": [],
   "source": [
    "class Elma():\n",
    "    def __init__(self,isim):\n",
    "        self.isim = isim\n",
    "    def koloriVer(self):\n",
    "        return self.isim + \": \" + \"52,1 kcal' dir.\""
   ]
  },
  {
   "cell_type": "code",
   "execution_count": 57,
   "id": "0bb7d096",
   "metadata": {},
   "outputs": [],
   "source": [
    "class Muz():\n",
    "    def __init__(self,isim):\n",
    "        self.isim = isim\n",
    "    def kaloriVer(self):\n",
    "        return self.isim + \": \"+ \"88,7 kcal' dir.\"\n",
    "        \n",
    "    "
   ]
  },
  {
   "cell_type": "code",
   "execution_count": 58,
   "id": "48c00242",
   "metadata": {},
   "outputs": [],
   "source": [
    "elma = Elma(\"Elma\")"
   ]
  },
  {
   "cell_type": "code",
   "execution_count": 59,
   "id": "b332548a",
   "metadata": {},
   "outputs": [
    {
     "data": {
      "text/plain": [
       "\"Elma: 52,1 kcal' dir.\""
      ]
     },
     "execution_count": 59,
     "metadata": {},
     "output_type": "execute_result"
    }
   ],
   "source": [
    "elma.koloriVer()"
   ]
  },
  {
   "cell_type": "code",
   "execution_count": 60,
   "id": "91043828",
   "metadata": {},
   "outputs": [],
   "source": [
    "muz = Muz(\"Muz\")"
   ]
  },
  {
   "cell_type": "code",
   "execution_count": 61,
   "id": "71ba69ce",
   "metadata": {},
   "outputs": [
    {
     "data": {
      "text/plain": [
       "<__main__.Muz at 0x1bdcf36e340>"
      ]
     },
     "execution_count": 61,
     "metadata": {},
     "output_type": "execute_result"
    }
   ],
   "source": [
    "muz"
   ]
  },
  {
   "cell_type": "code",
   "execution_count": 62,
   "id": "ba1b5b12",
   "metadata": {},
   "outputs": [
    {
     "data": {
      "text/plain": [
       "'Muz'"
      ]
     },
     "execution_count": 62,
     "metadata": {},
     "output_type": "execute_result"
    }
   ],
   "source": [
    "muz.isim"
   ]
  },
  {
   "cell_type": "code",
   "execution_count": 63,
   "id": "e2554e1d",
   "metadata": {},
   "outputs": [
    {
     "data": {
      "text/plain": [
       "\"Muz: 88,7 kcal' dir.\""
      ]
     },
     "execution_count": 63,
     "metadata": {},
     "output_type": "execute_result"
    }
   ],
   "source": [
    "muz.kaloriVer()"
   ]
  },
  {
   "cell_type": "code",
   "execution_count": 68,
   "id": "80ba46cd",
   "metadata": {},
   "outputs": [
    {
     "data": {
      "text/plain": [
       "\"Muz: 88,7 kcal' dir.\""
      ]
     },
     "execution_count": 68,
     "metadata": {},
     "output_type": "execute_result"
    }
   ],
   "source": [
    "muz.kaloriVer()"
   ]
  },
  {
   "cell_type": "code",
   "execution_count": 69,
   "id": "2e4f3760",
   "metadata": {},
   "outputs": [],
   "source": [
    "meyveler = [elma,muz]"
   ]
  },
  {
   "cell_type": "code",
   "execution_count": 72,
   "id": "2c2c3a6e",
   "metadata": {},
   "outputs": [
    {
     "name": "stdout",
     "output_type": "stream",
     "text": [
      "Elma: 52,1 kcal' dir.\n"
     ]
    },
    {
     "ename": "AttributeError",
     "evalue": "'Muz' object has no attribute 'koloriVer'",
     "output_type": "error",
     "traceback": [
      "\u001b[1;31m---------------------------------------------------------------------------\u001b[0m",
      "\u001b[1;31mAttributeError\u001b[0m                            Traceback (most recent call last)",
      "Input \u001b[1;32mIn [72]\u001b[0m, in \u001b[0;36m<cell line: 1>\u001b[1;34m()\u001b[0m\n\u001b[0;32m      1\u001b[0m \u001b[38;5;28;01mfor\u001b[39;00m meyve \u001b[38;5;129;01min\u001b[39;00m meyveler:\n\u001b[1;32m----> 2\u001b[0m         \u001b[38;5;28mprint\u001b[39m(\u001b[43mmeyve\u001b[49m\u001b[38;5;241;43m.\u001b[39;49m\u001b[43mkoloriVer\u001b[49m())\n",
      "\u001b[1;31mAttributeError\u001b[0m: 'Muz' object has no attribute 'koloriVer'"
     ]
    }
   ],
   "source": [
    "for meyve in meyveler:\n",
    "        print(meyve.koloriVer())"
   ]
  },
  {
   "cell_type": "code",
   "execution_count": 73,
   "id": "255d7d2f",
   "metadata": {},
   "outputs": [],
   "source": [
    "def bilgiAl(meyve):\n",
    "    print(meyve.bilgiVer())"
   ]
  },
  {
   "cell_type": "code",
   "execution_count": 74,
   "id": "5979d999",
   "metadata": {},
   "outputs": [
    {
     "ename": "AttributeError",
     "evalue": "'Elma' object has no attribute 'bilgiVer'",
     "output_type": "error",
     "traceback": [
      "\u001b[1;31m---------------------------------------------------------------------------\u001b[0m",
      "\u001b[1;31mAttributeError\u001b[0m                            Traceback (most recent call last)",
      "Input \u001b[1;32mIn [74]\u001b[0m, in \u001b[0;36m<cell line: 1>\u001b[1;34m()\u001b[0m\n\u001b[1;32m----> 1\u001b[0m \u001b[43mbilgiAl\u001b[49m\u001b[43m(\u001b[49m\u001b[43melma\u001b[49m\u001b[43m)\u001b[49m\n",
      "Input \u001b[1;32mIn [73]\u001b[0m, in \u001b[0;36mbilgiAl\u001b[1;34m(meyve)\u001b[0m\n\u001b[0;32m      1\u001b[0m \u001b[38;5;28;01mdef\u001b[39;00m \u001b[38;5;21mbilgiAl\u001b[39m(meyve):\n\u001b[1;32m----> 2\u001b[0m     \u001b[38;5;28mprint\u001b[39m(\u001b[43mmeyve\u001b[49m\u001b[38;5;241;43m.\u001b[39;49m\u001b[43mbilgiVer\u001b[49m())\n",
      "\u001b[1;31mAttributeError\u001b[0m: 'Elma' object has no attribute 'bilgiVer'"
     ]
    }
   ],
   "source": [
    "bilgiAl(elma)"
   ]
  },
  {
   "cell_type": "code",
   "execution_count": 1,
   "id": "6eed819d",
   "metadata": {},
   "outputs": [
    {
     "name": "stdout",
     "output_type": "stream",
     "text": [
      "Hello\n",
      "World!\n"
     ]
    }
   ],
   "source": []
  },
  {
   "cell_type": "code",
   "execution_count": null,
   "id": "5c6ef1be",
   "metadata": {},
   "outputs": [],
   "source": []
  }
 ],
 "metadata": {
  "kernelspec": {
   "display_name": "Python 3 (ipykernel)",
   "language": "python",
   "name": "python3"
  },
  "language_info": {
   "codemirror_mode": {
    "name": "ipython",
    "version": 3
   },
   "file_extension": ".py",
   "mimetype": "text/x-python",
   "name": "python",
   "nbconvert_exporter": "python",
   "pygments_lexer": "ipython3",
   "version": "3.9.12"
  }
 },
 "nbformat": 4,
 "nbformat_minor": 5
}
